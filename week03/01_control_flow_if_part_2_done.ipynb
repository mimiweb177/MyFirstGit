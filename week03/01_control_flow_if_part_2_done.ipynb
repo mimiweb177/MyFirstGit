{
  "cells": [
    {
      "cell_type": "code",
      "execution_count": 1,
      "metadata": {
        "id": "Hh2J7q588vs5",
        "outputId": "db392ed3-a8da-43ea-a0b2-5035f16e2c40",
        "colab": {
          "base_uri": "https://localhost:8080/"
        }
      },
      "outputs": [
        {
          "output_type": "stream",
          "name": "stdout",
          "text": [
            "Cloning into 'data_science_using_python_labs'...\n",
            "remote: Enumerating objects: 105, done.\u001b[K\n",
            "remote: Counting objects: 100% (105/105), done.\u001b[K\n",
            "remote: Compressing objects: 100% (78/78), done.\u001b[K\n",
            "remote: Total 105 (delta 55), reused 71 (delta 25), pack-reused 0\u001b[K\n",
            "Receiving objects: 100% (105/105), 37.95 KiB | 9.49 MiB/s, done.\n",
            "Resolving deltas: 100% (55/55), done.\n"
          ]
        }
      ],
      "source": [
        "# the git clone and change directory staff here\n",
        "!git clone https://github.com/neolaw84/data_science_using_python_labs"
      ]
    },
    {
      "cell_type": "code",
      "source": [
        "%cd /content/data_science_using_python_labs/week03/"
      ],
      "metadata": {
        "id": "rrODWwOg97os",
        "outputId": "36e2778e-ba2f-441d-8f72-7d7404869de3",
        "colab": {
          "base_uri": "https://localhost:8080/"
        }
      },
      "execution_count": 2,
      "outputs": [
        {
          "output_type": "stream",
          "name": "stdout",
          "text": [
            "/content/data_science_using_python_labs/week03\n"
          ]
        }
      ]
    },
    {
      "cell_type": "markdown",
      "metadata": {
        "id": "4zVdFgDN8vs7"
      },
      "source": [
        "## Anatomy of an if Statement\n",
        "\n",
        "A simple if without an `else`:\n",
        "\n",
        "```python\n",
        "if <boolean expression>:\n",
        "    # statements to run if <boolean expression> evaluates to True\n",
        "    do_this_if_true()\n",
        "    # it can be multi statements\n",
        "    do_this_as_well_if_true()\n",
        "```\n",
        "\n",
        "An if/else statement:\n",
        "\n",
        "```python\n",
        "if <boolean expression>:\n",
        "    # statements to run if <boolean expression> evaluates to True\n",
        "    do_this_if_true()\n",
        "    # it can be multi statements\n",
        "    do_this_as_well_if_true()\n",
        "else:\n",
        "    # statements to run if <boolean expression> evaluates to False\n",
        "    do_this_if_false()\n",
        "    # it can be multi statements\n",
        "    do_this_as_well_if_false()\n",
        "```\n",
        "\n",
        "An if/elif/else statement:\n",
        "\n",
        "```python\n",
        "if <boolean expression 1>:\n",
        "    # statements to run if <boolean expression 1> evaluates to True\n",
        "    do_this_if_exp_1_true()\n",
        "    # it can be multi statements\n",
        "    do_this_as_well_if_exp_1_true()\n",
        "elif <boolean expression 2>:\n",
        "    # statements to run if <boolean expression 1> evaluates to True\n",
        "    do_this_if_exp_2_true()\n",
        "    # it can be multi statements\n",
        "    do_this_as_well_if_exp_2_true()\n",
        "elif <boolean expression 3>:\n",
        "    # so on and so forth\n",
        "else:\n",
        "    # statements to run if <boolean expression> evaluates to False\n",
        "    do_this_if_false()\n",
        "    # it can be multi statements\n",
        "    do_this_as_well_if_false()\n",
        "```\n",
        "\n",
        "1. `car.start()` function ကို အသုံးပြု၍ ကားကို စက်နှိုးပါ။ \n",
        "    ပြီးလျှင် စက်နှိုးမနှိုးကို `car.started` property တွင် `True` သို့မဟုတ် `False` ဖြစ်မဖြစ်ကို စစ်ဆေးပါ။ \n",
        "    ကားမနှိုးလျှင် နောက်တခေါက် ထပ်နှိုးပါ။ ထို့နောက် ကားစက်နှိုးမနှိုးကို စစ်ဆေးပါ။\n",
        "\n",
        "    ကားစက်နှိုးပါက `car.drive()` function ကို အသုံးပြု၍ မောင်းထွက်ပါ။\n",
        "\n",
        "    ကားစက်မနှိုးပါက `car.transmission` property တွင် `\"manual\"` ဖြစ်နေပါက `car.push_start()` function ကို အသုံးပြုပြီး ထပ်နှိုးပါ။\n",
        "\n",
        "    `\"auto\"` gear နှင့် မောင်းနှင်ရသော ကားဖြစ်ပါက `workshop.call()` function ဖြင့် workshop ကို ဖုန်းဆက်ခေါ်ပါ။\n",
        "\n",
        "    အထက်ပါ scenario ကို `lab_control_2.py` ကို ရေးထည့်ပါ။"
      ]
    },
    {
      "cell_type": "code",
      "execution_count": 13,
      "metadata": {
        "id": "pyFahgYy8vs9",
        "outputId": "5ba444e1-e22a-43fd-c61e-a1e39067559b",
        "colab": {
          "base_uri": "https://localhost:8080/"
        }
      },
      "outputs": [
        {
          "output_type": "stream",
          "name": "stdout",
          "text": [
            "Overwriting lab_control_2.py\n"
          ]
        }
      ],
      "source": [
        "%%writefile lab_control_2.py\n",
        "from cars import car, workshop\n",
        "# write your program here\n",
        "car.start()\n",
        "if car.started == False:\n",
        "  car.start()\n",
        "if car.started == False:\n",
        "    if car.transmission == \"manual\": \n",
        "      car.push_start()\n",
        "      if car.started == True: car.drive()\n",
        "    if car.transmission == \"auto\": \n",
        "      workshop.call()\n",
        "      if car.started == True: car.drive()\n",
        "elif car.started == True:\n",
        "  car.drive()"
      ]
    },
    {
      "cell_type": "code",
      "execution_count": 14,
      "metadata": {
        "id": "9VhjYzDt8vs-",
        "outputId": "3a6f868b-e53e-42b1-ba07-d59b3cdd35aa",
        "colab": {
          "base_uri": "https://localhost:8080/"
        }
      },
      "outputs": [
        {
          "output_type": "stream",
          "name": "stdout",
          "text": [
            "\u001b[1m============================= test session starts ==============================\u001b[0m\n",
            "platform linux -- Python 3.7.13, pytest-3.6.4, py-1.11.0, pluggy-0.7.1\n",
            "rootdir: /content/data_science_using_python_labs/week03, inifile:\n",
            "plugins: typeguard-2.7.1\n",
            "\u001b[1m\rcollecting 0 items                                                             \u001b[0m\u001b[1m\rcollecting 1 item                                                              \u001b[0m\u001b[1m\rcollecting 2 items                                                             \u001b[0m\u001b[1m\rcollecting 3 items                                                             \u001b[0m\u001b[1m\rcollecting 4 items                                                             \u001b[0m\u001b[1m\rcollecting 4 items                                                             \u001b[0m\u001b[1m\rcollecting 4 items                                                             \u001b[0m\u001b[1m\rcollected 4 items                                                              \u001b[0m\n",
            "\n",
            "test_control_2.py ....\u001b[36m                                                   [100%]\u001b[0m\n",
            "\n",
            "\u001b[32m\u001b[1m=========================== 4 passed in 0.02 seconds ===========================\u001b[0m\n"
          ]
        }
      ],
      "source": [
        "!pytest test_control_2.py -rP -rX"
      ]
    },
    {
      "cell_type": "markdown",
      "metadata": {
        "id": "Tn1laNHf8vs-"
      },
      "source": [
        "Assignment ၏ သဘောကို ဆွေးနွေးခဲ့ပြီး ဖြစ်သည်။ \n",
        "\n",
        "ဥပမာ\n",
        "\n",
        "```python\n",
        "a = 10 # value 10 ကို variable a သို့ ထည့်ပါ။\n",
        "```\n",
        "\n",
        "ထို့နည်းတူ arithmetic operator (+ - * /) တို့၏ သဘောကို ဆွေးနွေးခဲ့ပြီး ဖြစ်သည်။ \n",
        "\n",
        "ဥပမာ \n",
        "\n",
        "```python\n",
        "print (10 + 32) # this will print 42\n",
        "\n",
        "a = 22\n",
        "print (a + 20) # this will print 42\n",
        "```\n",
        "\n",
        "အဆိုပါ သဘောတရားများကို ပူးပေါင်းအသုံးချခြင်းဖြင့် variable တခု၏ တန်ဖိုးကို update လုပ်ခြင်းအား ကြံဆနိုင်သည်။\n",
        "\n",
        "ဥပမာ \n",
        "\n",
        "```python\n",
        "a = 10\n",
        "a = a + 10 # evaluate 'a + 10' (current value of a is 10) and put the resulting value (20) to variable a\n",
        "a = a + 20 # evaluate 'a + 20' (current value of a is 20) and put the resulting value (40) to variable a\n",
        "```"
      ]
    },
    {
      "cell_type": "code",
      "execution_count": null,
      "metadata": {
        "id": "wUuSYiUm8vs-"
      },
      "outputs": [],
      "source": [
        "# စမ်းသပ်ကြည့်ရန်\n",
        "\n",
        "p = 10\n",
        "print (p)\n",
        "p = p + 5\n",
        "print (p)\n",
        "q = p - 9\n",
        "print (q)\n",
        "q = q * 10\n",
        "print (q)"
      ]
    },
    {
      "cell_type": "markdown",
      "metadata": {
        "id": "IL_S9P9D8vs_"
      },
      "source": [
        "2. စာမေးပွဲတခုတွင် ပုစ္ဆာ ၁၀ ခုအတွက် အဖြေမှန်များမှာ အောက်ပါအတိုင်း ဖြစ်သည်။\n",
        "\n",
        "    1. True (20 marks)\n",
        "    2. B (25 marks)\n",
        "    3. 42 (35 marks)\n",
        "    4. False (20 marks)\n",
        "\n",
        "အမှတ်ပေါင်းကို တွက်ပေးသော function ကို `lab_control_3.py` သို့ရေးပြီး စစ်ဆေးပါ။\n",
        "\n",
        "```python\n",
        "def total_mark(answer_1: bool, answer_2: str, answer_3: int, answer_4: bool):\n",
        "    # write your logic here\n",
        "    return total_mark\n",
        "```"
      ]
    },
    {
      "cell_type": "code",
      "execution_count": 29,
      "metadata": {
        "id": "3sbgaSyW8vs_",
        "outputId": "0263fe46-6c93-4a78-f51e-6520d63ac98b",
        "colab": {
          "base_uri": "https://localhost:8080/"
        }
      },
      "outputs": [
        {
          "output_type": "stream",
          "name": "stdout",
          "text": [
            "Overwriting lab_control_3.py\n"
          ]
        }
      ],
      "source": [
        "%%writefile lab_control_3.py\n",
        "def total_mark(answer_1: bool, answer_2: str, answer_3: int, answer_4: bool):\n",
        "    # write your logic here\n",
        "    total_mark = 0\n",
        "    if answer_1 == True:\n",
        "      total_mark = total_mark+20\n",
        "    if answer_2 == 'B':\n",
        "      total_mark = total_mark+25\n",
        "    if answer_3 == 42:\n",
        "      total_mark = total_mark+35\n",
        "    if answer_4 == False:\n",
        "      total_mark = total_mark + 20\n",
        "    \n",
        "    return total_mark"
      ]
    },
    {
      "cell_type": "code",
      "execution_count": 30,
      "metadata": {
        "id": "UchaRUAP8vtA",
        "outputId": "11e7b32b-bd4c-465f-a6fa-d3bfa9a35da0",
        "colab": {
          "base_uri": "https://localhost:8080/"
        }
      },
      "outputs": [
        {
          "output_type": "stream",
          "name": "stdout",
          "text": [
            "\u001b[1m============================= test session starts ==============================\u001b[0m\n",
            "platform linux -- Python 3.7.13, pytest-3.6.4, py-1.11.0, pluggy-0.7.1\n",
            "rootdir: /content/data_science_using_python_labs/week03, inifile:\n",
            "plugins: typeguard-2.7.1\n",
            "\u001b[1m\rcollecting 0 items                                                             \u001b[0m\u001b[1m\rcollecting 1 item                                                              \u001b[0m\u001b[1m\rcollected 1 item                                                               \u001b[0m\n",
            "\n",
            "test_control_3.py .\u001b[36m                                                      [100%]\u001b[0m\n",
            "\n",
            "\u001b[32m\u001b[1m=========================== 1 passed in 0.01 seconds ===========================\u001b[0m\n"
          ]
        }
      ],
      "source": [
        "!pytest test_control_3.py"
      ]
    }
  ],
  "metadata": {
    "interpreter": {
      "hash": "3a9c1e998c7d6d5f29587b2c70e9bd488bb486b902354401efc27ca8457f04e9"
    },
    "kernelspec": {
      "display_name": "Python 3.7.11 ('py37-dsup')",
      "language": "python",
      "name": "python3"
    },
    "language_info": {
      "codemirror_mode": {
        "name": "ipython",
        "version": 3
      },
      "file_extension": ".py",
      "mimetype": "text/x-python",
      "name": "python",
      "nbconvert_exporter": "python",
      "pygments_lexer": "ipython3",
      "version": "3.7.11"
    },
    "orig_nbformat": 4,
    "colab": {
      "name": "01_control_flow_if_part_2.ipynb",
      "provenance": []
    }
  },
  "nbformat": 4,
  "nbformat_minor": 0
}