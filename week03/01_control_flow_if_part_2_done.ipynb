{
  "cells": [
    {
      "cell_type": "code",
      "execution_count": 2,
      "metadata": {
        "id": "RpfkVu2YCIq8",
        "outputId": "ea6d2d0b-0bde-4332-8b82-24e3a359e999",
        "colab": {
          "base_uri": "https://localhost:8080/"
        }
      },
      "outputs": [
        {
          "output_type": "stream",
          "name": "stdout",
          "text": [
            "Cloning into 'data_science_using_python_labs'...\n",
            "remote: Enumerating objects: 105, done.\u001b[K\n",
            "remote: Counting objects: 100% (105/105), done.\u001b[K\n",
            "remote: Compressing objects: 100% (78/78), done.\u001b[K\n",
            "remote: Total 105 (delta 55), reused 71 (delta 25), pack-reused 0\u001b[K\n",
            "Receiving objects: 100% (105/105), 37.95 KiB | 457.00 KiB/s, done.\n",
            "Resolving deltas: 100% (55/55), done.\n"
          ]
        }
      ],
      "source": [
        "# the git clone and change directory staff here\n",
        "!git clone https://github.com/neolaw84/data_science_using_python_labs.git"
      ]
    },
    {
      "cell_type": "code",
      "source": [
        "%cd /content/data_science_using_python_labs/week02"
      ],
      "metadata": {
        "id": "-efEQDMZCYAn",
        "outputId": "c796bb68-ed5f-437b-ab47-2c7d33e18840",
        "colab": {
          "base_uri": "https://localhost:8080/"
        }
      },
      "execution_count": 3,
      "outputs": [
        {
          "output_type": "stream",
          "name": "stdout",
          "text": [
            "/content/data_science_using_python_labs/week02\n"
          ]
        }
      ]
    },
    {
      "cell_type": "markdown",
      "metadata": {
        "id": "uR2u4fwECIq_"
      },
      "source": [
        "## Anatomy of an if Statement\n",
        "\n",
        "A simple if without an `else`:\n",
        "\n",
        "```python\n",
        "if <boolean expression>:\n",
        "    # statements to run if <boolean expression> evaluates to True\n",
        "    do_this_if_true()\n",
        "    # it can be multi statements\n",
        "    do_this_as_well_if_true()\n",
        "```\n",
        "\n",
        "An if/else statement:\n",
        "\n",
        "```python\n",
        "if <boolean expression>:\n",
        "    # statements to run if <boolean expression> evaluates to True\n",
        "    do_this_if_true()\n",
        "    # it can be multi statements\n",
        "    do_this_as_well_if_true()\n",
        "else:\n",
        "    # statements to run if <boolean expression> evaluates to False\n",
        "    do_this_if_false()\n",
        "    # it can be multi statements\n",
        "    do_this_as_well_if_false()\n",
        "```\n",
        "\n",
        "An if/elif/else statement:\n",
        "\n",
        "```python\n",
        "if <boolean expression 1>:\n",
        "    # statements to run if <boolean expression 1> evaluates to True\n",
        "    do_this_if_exp_1_true()\n",
        "    # it can be multi statements\n",
        "    do_this_as_well_if_exp_1_true()\n",
        "elif <boolean expression 2>:\n",
        "    # statements to run if <boolean expression 1> evaluates to True\n",
        "    do_this_if_exp_2_true()\n",
        "    # it can be multi statements\n",
        "    do_this_as_well_if_exp_2_true()\n",
        "elif <boolean expression 3>:\n",
        "    # so on and so forth\n",
        "else:\n",
        "    # statements to run if <boolean expression> evaluates to False\n",
        "    do_this_if_false()\n",
        "    # it can be multi statements\n",
        "    do_this_as_well_if_false()\n",
        "```\n",
        "\n",
        "1. `car.start()` function ကို အသုံးပြု၍ ကားကို စက်နှိုးပါ။ \n",
        "    ပြီးလျှင် စက်နှိုးမနှိုးကို `car.started` property တွင် `True` သို့မဟုတ် `False` ဖြစ်မဖြစ်ကို စစ်ဆေးပါ။ \n",
        "    ကားမနှိုးလျှင် နောက်တခေါက် ထပ်နှိုးပါ။ ထို့နောက် ကားစက်နှိုးမနှိုးကို စစ်ဆေးပါ။\n",
        "\n",
        "    ကားစက်နှိုးပါက `car.drive()` function ကို အသုံးပြု၍ မောင်းထွက်ပါ။\n",
        "\n",
        "    ကားစက်မနှိုးပါက `car.transmission` property တွင် `\"manual\"` ဖြစ်နေပါက `car.push_start()` function ကို အသုံးပြုပြီး ထပ်နှိုးပါ။\n",
        "\n",
        "    `\"auto\"` gear နှင့် မောင်းနှင်ရသော ကားဖြစ်ပါက `workshop.call()` function ဖြင့် workshop ကို ဖုန်းဆက်ခေါ်ပါ။\n",
        "\n",
        "    အထက်ပါ scenario ကို `lab_control_2.py` ကို ရေးထည့်ပါ။"
      ]
    },
    {
      "cell_type": "code",
      "source": [
        "%cd /content/data_science_using_python_labs/week03"
      ],
      "metadata": {
        "id": "OFm460MOLTK2",
        "outputId": "b84d9b8c-4417-469e-bfcb-e1c108c0e64c",
        "colab": {
          "base_uri": "https://localhost:8080/"
        }
      },
      "execution_count": 50,
      "outputs": [
        {
          "output_type": "stream",
          "name": "stdout",
          "text": [
            "/content/data_science_using_python_labs/week03\n"
          ]
        }
      ]
    },
    {
      "cell_type": "code",
      "source": [
        "from cars import car, workshop\n",
        "# write your program here\n",
        "car.start()\n",
        "if car.started == True:\n",
        "  car.drive()\n",
        "else: \n",
        "  if car.transmission == \"manual\": \n",
        "     car.push_start()\n",
        "  if car.transmission == \"auto\":\n",
        "    workshop.call()"
      ],
      "metadata": {
        "id": "YE_mgJoRMp7i",
        "outputId": "4bb7e974-faa8-42fe-d199-a4d9862eaf0a",
        "colab": {
          "base_uri": "https://localhost:8080/"
        }
      },
      "execution_count": 64,
      "outputs": [
        {
          "output_type": "stream",
          "name": "stdout",
          "text": [
            "starting car ...\n",
            "car started.\n",
            "driving car ... \n"
          ]
        }
      ]
    },
    {
      "cell_type": "code",
      "source": [
        "from cars import car, workshop\n",
        "# write your program here\n",
        "car.start()\n",
        "if car.started == True:\n",
        "  car.drive()\n",
        "else: \n",
        "  if car.transmission == \"manual\": \n",
        "     car.push_start()\n",
        "  else: workshop.call()"
      ],
      "metadata": {
        "id": "mCbHHrOxL8n7",
        "outputId": "887d9977-ae69-45a7-bba4-d04661501f74",
        "colab": {
          "base_uri": "https://localhost:8080/"
        }
      },
      "execution_count": 57,
      "outputs": [
        {
          "output_type": "stream",
          "name": "stdout",
          "text": [
            "starting car ...\n",
            "calling workshop\n"
          ]
        }
      ]
    },
    {
      "cell_type": "code",
      "source": [
        "from cars import car, workshop\n",
        "# write your program here\n",
        "car.start()\n",
        "if car.started == False:\n",
        "    car.start()\n",
        "    if car.transmission == \"manual\":\n",
        "        car.push_start()\n",
        "    elif car.transmission == \"auto\":\n",
        "            workshop.call()\n",
        "if car.started == True:\n",
        "  car.drive()\n"
      ],
      "metadata": {
        "id": "x7_JPKmdQqhg",
        "outputId": "aecd071b-1c24-456a-c3c6-db852e339ca1",
        "colab": {
          "base_uri": "https://localhost:8080/"
        }
      },
      "execution_count": 127,
      "outputs": [
        {
          "output_type": "stream",
          "name": "stdout",
          "text": [
            "starting car ...\n",
            "car started.\n",
            "driving car ... \n"
          ]
        }
      ]
    },
    {
      "cell_type": "code",
      "source": [
        "from cars import car, workshop\n",
        "# write your program here\n",
        "car.start()\n",
        "if car.started == True:\n",
        "  car.drive()\n",
        "\n",
        "if car.started == False:\n",
        "  car.start()\n",
        "  if car.transmission == \"manual\": \n",
        "    car.push_start()\n",
        "  if car.transmission == \"auto\":\n",
        "    workshop.call()"
      ],
      "metadata": {
        "id": "I5-UezlvQC3k",
        "outputId": "71ddb34f-1f32-4c64-8bb0-e85c2a8f6306",
        "colab": {
          "base_uri": "https://localhost:8080/"
        }
      },
      "execution_count": 128,
      "outputs": [
        {
          "output_type": "stream",
          "name": "stdout",
          "text": [
            "starting car ...\n",
            "car started.\n",
            "driving car ... \n"
          ]
        }
      ]
    },
    {
      "cell_type": "code",
      "execution_count": 124,
      "metadata": {
        "id": "1duGTtYECIrB",
        "outputId": "f8e786be-1ad1-4f36-caec-5e347e8c4a1d",
        "colab": {
          "base_uri": "https://localhost:8080/"
        }
      },
      "outputs": [
        {
          "output_type": "stream",
          "name": "stdout",
          "text": [
            "Overwriting lab_control_2.py\n"
          ]
        }
      ],
      "source": [
        "%%writefile lab_control_2.py\n",
        "from cars import car, workshop\n",
        "# write your program here\n",
        "car.start()\n",
        "if car.started == True:\n",
        "  car.drive()\n",
        "\n",
        "if car.started == False:\n",
        "  car.start()\n",
        "  if car.transmission == \"manual\": \n",
        "    car.push_start()\n",
        "  if car.transmission == \"auto\":\n",
        "    workshop.call()\n"
      ]
    },
    {
      "cell_type": "code",
      "execution_count": 123,
      "metadata": {
        "id": "VjPQml5VCIrC",
        "outputId": "4adc6369-2a0f-434e-d965-19f194d3d7ad",
        "colab": {
          "base_uri": "https://localhost:8080/"
        }
      },
      "outputs": [
        {
          "output_type": "stream",
          "name": "stdout",
          "text": [
            "\u001b[1m============================= test session starts ==============================\u001b[0m\n",
            "platform linux -- Python 3.7.13, pytest-3.6.4, py-1.11.0, pluggy-0.7.1\n",
            "rootdir: /content/data_science_using_python_labs/week03, inifile:\n",
            "plugins: typeguard-2.7.1\n",
            "\u001b[1m\rcollecting 0 items                                                             \u001b[0m\u001b[1m\rcollecting 1 item                                                              \u001b[0m\u001b[1m\rcollecting 2 items                                                             \u001b[0m\u001b[1m\rcollecting 3 items                                                             \u001b[0m\u001b[1m\rcollecting 4 items                                                             \u001b[0m\u001b[1m\rcollecting 4 items                                                             \u001b[0m\u001b[1m\rcollecting 4 items                                                             \u001b[0m\u001b[1m\rcollected 4 items                                                              \u001b[0m\n",
            "\n",
            "test_control_2.py ..FF\u001b[36m                                                   [100%]\u001b[0m\n",
            "\n",
            "=================================== FAILURES ===================================\n",
            "\u001b[31m\u001b[1m_______________________ TestControl_2_3.test_control_2_3 _______________________\u001b[0m\n",
            "\n",
            "self = <test_control_2.TestControl_2_3 testMethod=test_control_2_3>\n",
            "\n",
            "\u001b[1m    def test_control_2_3(self):\u001b[0m\n",
            "\u001b[1m        reload(c2)\u001b[0m\n",
            "\u001b[1m>       auto_not_so_good_car.drive.assert_called_once()\u001b[0m\n",
            "\n",
            "\u001b[1m\u001b[31mtest_control_2.py\u001b[0m:76: \n",
            "_ _ _ _ _ _ _ _ _ _ _ _ _ _ _ _ _ _ _ _ _ _ _ _ _ _ _ _ _ _ _ _ _ _ _ _ _ _ _ _ \n",
            "\n",
            "_mock_self = <MagicMock id='140495662879376'>\n",
            "\n",
            "\u001b[1m    def assert_called_once(_mock_self):\u001b[0m\n",
            "\u001b[1m        \"\"\"assert that the mock was called only once.\u001b[0m\n",
            "\u001b[1m            \"\"\"\u001b[0m\n",
            "\u001b[1m        self = _mock_self\u001b[0m\n",
            "\u001b[1m        if not self.call_count == 1:\u001b[0m\n",
            "\u001b[1m            msg = (\"Expected '%s' to have been called once. Called %s times.\" %\u001b[0m\n",
            "\u001b[1m                   (self._mock_name or 'mock', self.call_count))\u001b[0m\n",
            "\u001b[1m>           raise AssertionError(msg)\u001b[0m\n",
            "\u001b[1m\u001b[31mE           AssertionError: Expected 'mock' to have been called once. Called 0 times.\u001b[0m\n",
            "\n",
            "\u001b[1m\u001b[31m/usr/lib/python3.7/unittest/mock.py\u001b[0m:859: AssertionError\n",
            "----------------------------- Captured stdout call -----------------------------\n",
            "car won't start.\n",
            "car starts.\n",
            "\u001b[31m\u001b[1m_______________________ TestControl_2_4.test_control_2_4 _______________________\u001b[0m\n",
            "\n",
            "self = <test_control_2.TestControl_2_4 testMethod=test_control_2_4>\n",
            "\n",
            "\u001b[1m    def test_control_2_4(self):\u001b[0m\n",
            "\u001b[1m        reload(c2)\u001b[0m\n",
            "\u001b[1m>       manual_not_so_good_car.drive.assert_called_once()\u001b[0m\n",
            "\n",
            "\u001b[1m\u001b[31mtest_control_2.py\u001b[0m:85: \n",
            "_ _ _ _ _ _ _ _ _ _ _ _ _ _ _ _ _ _ _ _ _ _ _ _ _ _ _ _ _ _ _ _ _ _ _ _ _ _ _ _ \n",
            "\n",
            "_mock_self = <MagicMock id='140495662967440'>\n",
            "\n",
            "\u001b[1m    def assert_called_once(_mock_self):\u001b[0m\n",
            "\u001b[1m        \"\"\"assert that the mock was called only once.\u001b[0m\n",
            "\u001b[1m            \"\"\"\u001b[0m\n",
            "\u001b[1m        self = _mock_self\u001b[0m\n",
            "\u001b[1m        if not self.call_count == 1:\u001b[0m\n",
            "\u001b[1m            msg = (\"Expected '%s' to have been called once. Called %s times.\" %\u001b[0m\n",
            "\u001b[1m                   (self._mock_name or 'mock', self.call_count))\u001b[0m\n",
            "\u001b[1m>           raise AssertionError(msg)\u001b[0m\n",
            "\u001b[1m\u001b[31mE           AssertionError: Expected 'mock' to have been called once. Called 0 times.\u001b[0m\n",
            "\n",
            "\u001b[1m\u001b[31m/usr/lib/python3.7/unittest/mock.py\u001b[0m:859: AssertionError\n",
            "----------------------------- Captured stdout call -----------------------------\n",
            "car won't start.\n",
            "car won't start.\n",
            "car is started.\n",
            "\u001b[31m\u001b[1m====================== 2 failed, 2 passed in 0.14 seconds ======================\u001b[0m\n"
          ]
        }
      ],
      "source": [
        "!pytest test_control_2.py -rP -rX"
      ]
    },
    {
      "cell_type": "markdown",
      "metadata": {
        "id": "ixHH_p7KCIrD"
      },
      "source": [
        "Assignment ၏ သဘောကို ဆွေးနွေးခဲ့ပြီး ဖြစ်သည်။ \n",
        "\n",
        "ဥပမာ\n",
        "\n",
        "```python\n",
        "a = 10 # value 10 ကို variable a သို့ ထည့်ပါ။\n",
        "```\n",
        "\n",
        "ထို့နည်းတူ arithmetic operator (+ - * /) တို့၏ သဘောကို ဆွေးနွေးခဲ့ပြီး ဖြစ်သည်။ \n",
        "\n",
        "ဥပမာ \n",
        "\n",
        "```python\n",
        "print (10 + 32) # this will print 42\n",
        "\n",
        "a = 22\n",
        "print (a + 20) # this will print 42\n",
        "```\n",
        "\n",
        "အဆိုပါ သဘောတရားများကို ပူးပေါင်းအသုံးချခြင်းဖြင့် variable တခု၏ တန်ဖိုးကို update လုပ်ခြင်းအား ကြံဆနိုင်သည်။\n",
        "\n",
        "ဥပမာ \n",
        "\n",
        "```python\n",
        "a = 10\n",
        "a = a + 10 # evaluate 'a + 10' (current value of a is 10) and put the resulting value (20) to variable a\n",
        "a = a + 20 # evaluate 'a + 20' (current value of a is 20) and put the resulting value (40) to variable a\n",
        "```"
      ]
    },
    {
      "cell_type": "code",
      "execution_count": 4,
      "metadata": {
        "id": "yn6uYkzhCIrD",
        "outputId": "28760c26-5432-4050-d2c7-9a016b7ffba5",
        "colab": {
          "base_uri": "https://localhost:8080/"
        }
      },
      "outputs": [
        {
          "output_type": "stream",
          "name": "stdout",
          "text": [
            "10\n",
            "15\n",
            "6\n",
            "60\n"
          ]
        }
      ],
      "source": [
        "# စမ်းသပ်ကြည့်ရန်\n",
        "\n",
        "p = 10\n",
        "print (p)\n",
        "p = p + 5\n",
        "print (p)\n",
        "q = p - 9\n",
        "print (q)\n",
        "q = q * 10\n",
        "print (q)"
      ]
    },
    {
      "cell_type": "markdown",
      "metadata": {
        "id": "2jhB4OsrCIrE"
      },
      "source": [
        "2. စာမေးပွဲတခုတွင် ပုစ္ဆာ ၁၀ ခုအတွက် အဖြေမှန်များမှာ အောက်ပါအတိုင်း ဖြစ်သည်။\n",
        "\n",
        "    1. True (20 marks)\n",
        "    2. B (25 marks)\n",
        "    3. 42 (35 marks)\n",
        "    4. False (20 marks)\n",
        "\n",
        "အမှတ်ပေါင်းကို တွက်ပေးသော function ကို `lab_control_3.py` သို့ရေးပြီး စစ်ဆေးပါ။\n",
        "\n",
        "```python\n",
        "def total_mark(answer_1: bool, answer_2: str, answer_3: int, answer_4: bool):\n",
        "    # write your logic here\n",
        "    return total_mark\n",
        "```"
      ]
    },
    {
      "cell_type": "code",
      "source": [
        "%cd /content/data_science_using_python_labs/week03"
      ],
      "metadata": {
        "id": "nfrEZ8FCG8pl",
        "outputId": "71ce7c35-d7f3-45bf-e905-6ecbdfad9c37",
        "colab": {
          "base_uri": "https://localhost:8080/"
        }
      },
      "execution_count": 19,
      "outputs": [
        {
          "output_type": "stream",
          "name": "stdout",
          "text": [
            "/content/data_science_using_python_labs/week03\n"
          ]
        }
      ]
    },
    {
      "cell_type": "code",
      "source": [
        "def total_mark(answer_1: bool, answer_2: str, answer_3: int, answer_4: bool):\n",
        "    # write your logic here\n",
        "   total_mark = 0\n",
        "   if answer_1 == True:\n",
        "      total_mark = total_mark + 20\n",
        "   if answer_2 == 'B':\n",
        "      total_mark = total_mark + 25\n",
        "   if answer_3 == 42:\n",
        "      total_mark = total_mark + 35\n",
        "   if answer_4 == False :\n",
        "      total_mark = total_mark + 20\n",
        "      return total_mark\n"
      ],
      "metadata": {
        "id": "g93PXVL-Jt7o"
      },
      "execution_count": 141,
      "outputs": []
    },
    {
      "cell_type": "code",
      "execution_count": 145,
      "metadata": {
        "id": "wnmE_qoICIrF",
        "outputId": "27562657-18a0-4029-a2d2-a907d4ac0196",
        "colab": {
          "base_uri": "https://localhost:8080/"
        }
      },
      "outputs": [
        {
          "output_type": "stream",
          "name": "stdout",
          "text": [
            "Overwriting lab_control_3.py\n"
          ]
        }
      ],
      "source": [
        "%%writefile lab_control_3.py\n",
        "def total_mark(answer_1: bool, answer_2: str, answer_3: int, answer_4: bool):\n",
        "    # write your logic here\n",
        "   total_mark = 0\n",
        "   if answer_1 == True:\n",
        "      total_mark = total_mark + 20\n",
        "   if answer_2 == 'B':\n",
        "      total_mark = total_mark + 25\n",
        "   if answer_3 == 42:\n",
        "      total_mark = total_mark + 35\n",
        "   if answer_4 == False :\n",
        "      total_mark = total_mark + 20\n",
        "   return total_mark"
      ]
    },
    {
      "cell_type": "code",
      "execution_count": 146,
      "metadata": {
        "id": "sVJmXxEBCIrF",
        "outputId": "9e4cd431-0e42-4ab5-9d4e-2413d921d18f",
        "colab": {
          "base_uri": "https://localhost:8080/"
        }
      },
      "outputs": [
        {
          "output_type": "stream",
          "name": "stdout",
          "text": [
            "\u001b[1m============================= test session starts ==============================\u001b[0m\n",
            "platform linux -- Python 3.7.13, pytest-3.6.4, py-1.11.0, pluggy-0.7.1\n",
            "rootdir: /content/data_science_using_python_labs/week03, inifile:\n",
            "plugins: typeguard-2.7.1\n",
            "\u001b[1m\rcollecting 0 items                                                             \u001b[0m\u001b[1m\rcollecting 1 item                                                              \u001b[0m\u001b[1m\rcollected 1 item                                                               \u001b[0m\n",
            "\n",
            "test_control_3.py .\u001b[36m                                                      [100%]\u001b[0m\n",
            "\n",
            "\u001b[32m\u001b[1m=========================== 1 passed in 0.01 seconds ===========================\u001b[0m\n"
          ]
        }
      ],
      "source": [
        "!pytest test_control_3.py"
      ]
    }
  ],
  "metadata": {
    "interpreter": {
      "hash": "3a9c1e998c7d6d5f29587b2c70e9bd488bb486b902354401efc27ca8457f04e9"
    },
    "kernelspec": {
      "display_name": "Python 3.7.11 ('py37-dsup')",
      "language": "python",
      "name": "python3"
    },
    "language_info": {
      "codemirror_mode": {
        "name": "ipython",
        "version": 3
      },
      "file_extension": ".py",
      "mimetype": "text/x-python",
      "name": "python",
      "nbconvert_exporter": "python",
      "pygments_lexer": "ipython3",
      "version": "3.7.11"
    },
    "orig_nbformat": 4,
    "colab": {
      "name": "01_control_flow_if_part_2.ipynb",
      "provenance": []
    }
  },
  "nbformat": 4,
  "nbformat_minor": 0
}