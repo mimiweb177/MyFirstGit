{
  "cells": [
    {
      "cell_type": "markdown",
      "metadata": {
        "id": "1pUKK8cihxQ-"
      },
      "source": [
        "# List"
      ]
    },
    {
      "cell_type": "markdown",
      "metadata": {
        "id": "6l990rEvhxRB"
      },
      "source": [
        "## Introduction to List\n",
        "\n",
        "list ဆိုတာ Data Structure တခု ဖြစ်တယ်။ \n",
        "\n",
        "list ဟာ non-primitive data type လို့လဲ ပြောလို့ရတယ်။\n",
        "\n",
        "str ဟာ List တခုလို အလုပ်လုပ်တယ်လို့ သိခဲ့ကြတယ်။\n",
        "\n",
        "```python\n",
        "my_string = \"This is a string\"\n",
        "print (my_string[10:16]) # this will print 'string'\n",
        "```\n",
        "\n",
        "Zero-based indexing နဲ့ access လုပ်လို့ရတာကို list လို့ ခေါ်ပါတယ်။ အပေါ်က ဥပမာမှာဆိုရင် `my_string` variable ထဲက (သုညကစရေတွက်ရင်) 10 ကစပြီး 16 မရောက်ခင်အထိ character တွေကို square-bracket နဲ့ access လုပ်တာကို မြင်ရပါမယ်။\n",
        "\n",
        "```python\n",
        "my_list = [\"element\", \"of\", \"a\", \"list\"] # my_list ဟာ string ၄ ခုပါတဲ့ list တခုဖြစ်တယ်\n",
        "print (my_list[1] ) # this will print \"of\"\n",
        "print (my_list[1:3]) # this will print a list [\"of\", \"a\"]\n",
        "```\n",
        "\n",
        "list တွေကို လေးထောင့်ကွင်းထဲမှာ ရေးတယ်။\n",
        "\n",
        "လေးထောင့်ကွင်းနဲ့ access လုပ်လို့ရတယ်။\n",
        "\n",
        "စမှတ်ကနေ ဆုံးမှတ်အထိလို့ ပြောချင်ရင် ':' (colon) ကို သုံးတယ်။\n",
        "\n",
        "list ထဲမှာ string တင်မကပဲ primitive type or non-primitive type မျိုးစုံထည့်လို့ရတယ်။\n",
        "\n",
        "```python\n",
        "my_list_2 = [\"string\", 42, 3.14, True] # this is ok\n",
        "```"
      ]
    },
    {
      "cell_type": "code",
      "execution_count": 2,
      "metadata": {
        "id": "Puw61CuuhxRC",
        "outputId": "fa5891ca-5bab-48c6-96ae-1b848ffbadb3",
        "colab": {
          "base_uri": "https://localhost:8080/"
        }
      },
      "outputs": [
        {
          "output_type": "stream",
          "name": "stdout",
          "text": [
            "element\n",
            "of\n",
            "['of', 'a']\n"
          ]
        }
      ],
      "source": [
        "# စမ်းကြည့်ရန်\n",
        "my_list = [\"element\", \"of\", \"a\", \"list\"] # my_list ဟာ string ၄ ခုပါတဲ့ list တခုဖြစ်တယ်\n",
        "print (my_list[0] )\n",
        "print (my_list[1] ) # this will print \"of\"\n",
        "print (my_list[1:3]) # this will print a list [\"of\", \"a\"]"
      ]
    },
    {
      "cell_type": "markdown",
      "metadata": {
        "id": "z3usa2DyhxRD"
      },
      "source": [
        "## The Special **Lazy** Function `range`\n",
        "\n",
        "`range` ဆိုတာ number list တခုကို ထုတ်ပေးတဲ့ **lazy** function ဖြစ်တယ်။ \n",
        "\n",
        "```python\n",
        "print (list (range (0, 10))) # this will print a list [0, 1, 2, ..., 9]\n",
        "```\n",
        "\n",
        "### What do you mean by \"**Lazy**\" ???\n",
        "\n",
        "```python\n",
        "print (range(0, 9)) # this will print an object (not the resulting list)\n",
        "```\n",
        "\n",
        "```python\n",
        "print (list (range (0, 9))) # only when the object is accessed (to convert to a list), it evaluates and give you the list\n",
        "```"
      ]
    },
    {
      "cell_type": "code",
      "source": [
        "print(range(0,9))"
      ],
      "metadata": {
        "id": "UOvgo1GnjII2",
        "outputId": "8eeb9cc0-b3dc-4523-9a59-277dd9bf6954",
        "colab": {
          "base_uri": "https://localhost:8080/"
        }
      },
      "execution_count": 7,
      "outputs": [
        {
          "output_type": "stream",
          "name": "stdout",
          "text": [
            "range(0, 9)\n"
          ]
        }
      ]
    },
    {
      "cell_type": "code",
      "execution_count": 6,
      "metadata": {
        "id": "v95Etc6mhxRE",
        "outputId": "836fe085-d2a5-48b7-fb2a-e750a92879bc",
        "colab": {
          "base_uri": "https://localhost:8080/"
        }
      },
      "outputs": [
        {
          "output_type": "stream",
          "name": "stdout",
          "text": [
            "[300, 290, 280, 270, 260, 250, 240, 230, 220, 210, 200, 190, 180, 170, 160, 150, 140, 130, 120, 110]\n"
          ]
        }
      ],
      "source": [
        "# စမ်းကြည့်ရန်\n",
        "print (list (range (300, 100, -10))) # this will print a list [0, 1, 2, ..., 9]"
      ]
    },
    {
      "cell_type": "markdown",
      "metadata": {
        "id": "Xa7Ux1FZhxRE"
      },
      "source": [
        "## A `list` is an object as well\n",
        "\n",
        "`str` လိုပဲ `list` ဟာ object လဲ ဖြစ်တယ်။\n",
        "\n",
        "> ဒီတော့ method (function) တွေ ရှိတယ်။"
      ]
    },
    {
      "cell_type": "code",
      "execution_count": 30,
      "metadata": {
        "id": "JRxQme1GhxRF",
        "outputId": "e15e81f2-1c2d-428b-fd0e-36086e264caa",
        "colab": {
          "base_uri": "https://localhost:8080/"
        }
      },
      "outputs": [
        {
          "output_type": "stream",
          "name": "stdout",
          "text": [
            "[1, 2, 3]\n",
            "[1, 2, 3, 4]\n"
          ]
        }
      ],
      "source": [
        "my_list = [1, 2, 3]\n",
        "print (my_list)\n",
        "my_list.append(4)\n",
        "print (my_list)"
      ]
    },
    {
      "cell_type": "code",
      "execution_count": 9,
      "metadata": {
        "id": "ICJV8LWChxRG",
        "outputId": "7b87874a-81d6-4e5b-cef8-f58cae6c7773",
        "colab": {
          "base_uri": "https://localhost:8080/"
        }
      },
      "outputs": [
        {
          "output_type": "stream",
          "name": "stdout",
          "text": [
            "[1, 2, 3, 4, 'another', 'list']\n"
          ]
        }
      ],
      "source": [
        "my_list.extend([\"another\", \"list\"])\n",
        "print (my_list)"
      ]
    },
    {
      "cell_type": "code",
      "source": [
        "my_list.append([\"yet\",\"another\",\"list\"])\n",
        "print(my_list)"
      ],
      "metadata": {
        "id": "AWZ6b95HkK3m",
        "outputId": "3e4da0a0-df77-4bc3-a247-f247bfd7ba10",
        "colab": {
          "base_uri": "https://localhost:8080/"
        }
      },
      "execution_count": 13,
      "outputs": [
        {
          "output_type": "stream",
          "name": "stdout",
          "text": [
            "[9, 3, 4, 2, 1, 0, ['yet', 'another', 'list']]\n"
          ]
        }
      ]
    },
    {
      "cell_type": "code",
      "source": [
        "my_list.pop()"
      ],
      "metadata": {
        "id": "ovY4flPLkiSM",
        "outputId": "adab5278-c1f3-4a57-8953-bb421d661c96",
        "colab": {
          "base_uri": "https://localhost:8080/",
          "height": 166
        }
      },
      "execution_count": 17,
      "outputs": [
        {
          "output_type": "error",
          "ename": "IndexError",
          "evalue": "ignored",
          "traceback": [
            "\u001b[0;31m---------------------------------------------------------------------------\u001b[0m",
            "\u001b[0;31mIndexError\u001b[0m                                Traceback (most recent call last)",
            "\u001b[0;32m<ipython-input-17-2c0a8eafa4ba>\u001b[0m in \u001b[0;36m<module>\u001b[0;34m()\u001b[0m\n\u001b[0;32m----> 1\u001b[0;31m \u001b[0mmy_list\u001b[0m\u001b[0;34m.\u001b[0m\u001b[0mpop\u001b[0m\u001b[0;34m(\u001b[0m\u001b[0;34m)\u001b[0m\u001b[0;34m\u001b[0m\u001b[0;34m\u001b[0m\u001b[0m\n\u001b[0m",
            "\u001b[0;31mIndexError\u001b[0m: pop from empty list"
          ]
        }
      ]
    },
    {
      "cell_type": "code",
      "execution_count": 20,
      "metadata": {
        "id": "j6wvhdTPhxRG",
        "outputId": "22f38d60-1ea4-416a-9447-49a54965a398",
        "colab": {
          "base_uri": "https://localhost:8080/"
        }
      },
      "outputs": [
        {
          "output_type": "stream",
          "name": "stdout",
          "text": [
            "[1, 2, 3]\n",
            "4\n"
          ]
        }
      ],
      "source": [
        "popped_element = my_list.pop()\n",
        "print (my_list)\n",
        "print (popped_element)"
      ]
    },
    {
      "cell_type": "code",
      "execution_count": 27,
      "metadata": {
        "id": "ow1g4WohhxRH",
        "outputId": "59920bb8-2dde-4e5a-d717-4989bde221fb",
        "colab": {
          "base_uri": "https://localhost:8080/"
        }
      },
      "outputs": [
        {
          "output_type": "stream",
          "name": "stdout",
          "text": [
            "1\n"
          ]
        }
      ],
      "source": [
        "my_list = [9, 3, 4, 2, 1, 0, 3]\n",
        "print (my_list.index(3))"
      ]
    },
    {
      "cell_type": "code",
      "execution_count": 28,
      "metadata": {
        "id": "0xwuhSpRhxRH",
        "outputId": "da9a2170-21f2-4737-f566-cfd5125ae85d",
        "colab": {
          "base_uri": "https://localhost:8080/"
        }
      },
      "outputs": [
        {
          "output_type": "stream",
          "name": "stdout",
          "text": [
            "[0, 1, 2, 3, 3, 4, 9]\n"
          ]
        }
      ],
      "source": [
        "my_list.sort()\n",
        "print (my_list)"
      ]
    },
    {
      "cell_type": "code",
      "execution_count": 23,
      "metadata": {
        "id": "DMafxmKPhxRH",
        "outputId": "0d76776d-5936-4a7e-b64c-a54d4eef318d",
        "colab": {
          "base_uri": "https://localhost:8080/"
        }
      },
      "outputs": [
        {
          "output_type": "stream",
          "name": "stdout",
          "text": [
            "[9, 4, 3, 2, 1, 0]\n"
          ]
        }
      ],
      "source": [
        "my_list.reverse()\n",
        "print (my_list)"
      ]
    },
    {
      "cell_type": "markdown",
      "metadata": {
        "id": "45sac2gAhxRI"
      },
      "source": [
        "## List is not primitive-type\n",
        "\n",
        "```python\n",
        "my_list = [0, 1, 2, 3, 4]\n",
        "another_pointer_to_my_list = my_list\n",
        "four = another_pointer_to_my_list.pop()\n",
        "print (my_list) # what just happened ???\n",
        "```"
      ]
    },
    {
      "cell_type": "code",
      "execution_count": 29,
      "metadata": {
        "id": "ThZdf2D1hxRI",
        "outputId": "5b921f94-1263-4b02-9521-da282d3df16d",
        "colab": {
          "base_uri": "https://localhost:8080/"
        }
      },
      "outputs": [
        {
          "output_type": "stream",
          "name": "stdout",
          "text": [
            "[0, 1, 2, 3]\n",
            "4\n"
          ]
        }
      ],
      "source": [
        "my_list = [0, 1, 2, 3, 4]\n",
        "another_pointer_to_my_list = my_list\n",
        "four = another_pointer_to_my_list.pop()\n",
        "print (my_list) # what just happened ???\n",
        "print(four)"
      ]
    },
    {
      "cell_type": "code",
      "execution_count": 39,
      "metadata": {
        "id": "HTeSsCSjhxRI",
        "outputId": "27a9546f-e534-48f5-83af-fdba93bc3324",
        "colab": {
          "base_uri": "https://localhost:8080/"
        }
      },
      "outputs": [
        {
          "output_type": "stream",
          "name": "stdout",
          "text": [
            "kyansitthar\n",
            "1\n"
          ]
        }
      ],
      "source": [
        "my_list2 = [\"မြန်မာစာ\", \"က\", \"ကျ\",\"ကျန်\",\"ကြီး\"]\n",
        "my_list2.sort()\n",
        "my_list2[2] = \"kyansitthar\"\n",
        "print(my_list2[2])\n",
        "print (my_list2.count(\"က\"))\n",
        "\n"
      ]
    }
  ],
  "metadata": {
    "interpreter": {
      "hash": "3a9c1e998c7d6d5f29587b2c70e9bd488bb486b902354401efc27ca8457f04e9"
    },
    "kernelspec": {
      "display_name": "Python 3.7.11 ('py37-dsup')",
      "language": "python",
      "name": "python3"
    },
    "language_info": {
      "codemirror_mode": {
        "name": "ipython",
        "version": 3
      },
      "file_extension": ".py",
      "mimetype": "text/x-python",
      "name": "python",
      "nbconvert_exporter": "python",
      "pygments_lexer": "ipython3",
      "version": "3.7.11"
    },
    "orig_nbformat": 4,
    "colab": {
      "name": "03_list_part_1.ipynb",
      "provenance": []
    }
  },
  "nbformat": 4,
  "nbformat_minor": 0
}