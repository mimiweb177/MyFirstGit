{
  "cells": [
    {
      "cell_type": "code",
      "execution_count": 2,
      "metadata": {
        "id": "DRnMXpZ8HEg-",
        "outputId": "d65b0a51-4b65-4193-99cc-9cbe6b6683ce",
        "colab": {
          "base_uri": "https://localhost:8080/"
        }
      },
      "outputs": [
        {
          "output_type": "stream",
          "name": "stdout",
          "text": [
            "Cloning into 'data_science_using_python_labs'...\n",
            "remote: Enumerating objects: 105, done.\u001b[K\n",
            "remote: Counting objects: 100% (105/105), done.\u001b[K\n",
            "remote: Compressing objects: 100% (78/78), done.\u001b[K\n",
            "remote: Total 105 (delta 55), reused 71 (delta 25), pack-reused 0\u001b[K\n",
            "Receiving objects: 100% (105/105), 37.95 KiB | 597.00 KiB/s, done.\n",
            "Resolving deltas: 100% (55/55), done.\n"
          ]
        }
      ],
      "source": [
        "# git clone ... you know the drill. url is https://github.com/neolaw84/data_science_using_python_labs.git\n",
        "# and don't forget to change directory\n",
        "!git clone https://github.com/neolaw84/data_science_using_python_labs.git"
      ]
    },
    {
      "cell_type": "code",
      "source": [
        "%cd /content/data_science_using_python_labs/week03"
      ],
      "metadata": {
        "id": "dtHVnHT1HM0J",
        "outputId": "f05a13b3-ca18-4dfe-e7b5-82acaadda14b",
        "colab": {
          "base_uri": "https://localhost:8080/"
        }
      },
      "execution_count": 3,
      "outputs": [
        {
          "output_type": "stream",
          "name": "stdout",
          "text": [
            "/content/data_science_using_python_labs/week03\n"
          ]
        }
      ]
    },
    {
      "cell_type": "markdown",
      "metadata": {
        "id": "uytWt4YfHEhB"
      },
      "source": [
        "# Python Input/Output\n",
        "\n",
        "Let us try to get an input from user.\n",
        "\n",
        "```python\n",
        "a = input(\"enter value of a : \")\n",
        "```"
      ]
    },
    {
      "cell_type": "code",
      "execution_count": 4,
      "metadata": {
        "id": "juvF25hlHEhD",
        "outputId": "cebc933d-e107-47d4-8e16-89fad35e88a3",
        "colab": {
          "base_uri": "https://localhost:8080/"
        }
      },
      "outputs": [
        {
          "output_type": "stream",
          "name": "stdout",
          "text": [
            "enter value for a : my string\n",
            "my string\n",
            "<class 'str'>\n"
          ]
        }
      ],
      "source": [
        "a = input(\"enter value for a : \")\n",
        "print (a)\n",
        "print (type(a))"
      ]
    },
    {
      "cell_type": "code",
      "source": [
        "a = input(\"enter value for a : \")\n",
        "i = int(a)\n",
        "print (i)\n",
        "print (type(i))"
      ],
      "metadata": {
        "id": "oJww5ZZ6MThG",
        "outputId": "40ebd916-98d5-411c-b119-103d1cb11395",
        "colab": {
          "base_uri": "https://localhost:8080/"
        }
      },
      "execution_count": 14,
      "outputs": [
        {
          "output_type": "stream",
          "name": "stdout",
          "text": [
            "enter value for a : 10\n",
            "10\n",
            "<class 'int'>\n"
          ]
        }
      ]
    },
    {
      "cell_type": "code",
      "execution_count": 15,
      "metadata": {
        "id": "EJYv8-MJHEhD",
        "outputId": "6a3c72c6-0587-4979-a4e0-72df83dec8af",
        "colab": {
          "base_uri": "https://localhost:8080/"
        }
      },
      "outputs": [
        {
          "output_type": "stream",
          "name": "stdout",
          "text": [
            "Overwriting lab_io_1.py\n"
          ]
        }
      ],
      "source": [
        "%%writefile lab_io_1.py\n",
        "# write a program to input an integer value to variable 'a' and store the integer value in 'i'\n",
        "a = input(\"enter value for a : \")\n",
        "i = int(a)\n",
        "print (i)\n",
        "print (type(i))"
      ]
    },
    {
      "cell_type": "code",
      "execution_count": 16,
      "metadata": {
        "id": "23E9l-_iHEhE",
        "outputId": "de11bf86-ee2e-462c-e66e-8eafbbd291dd",
        "colab": {
          "base_uri": "https://localhost:8080/"
        }
      },
      "outputs": [
        {
          "output_type": "stream",
          "name": "stdout",
          "text": [
            "\u001b[1m============================= test session starts ==============================\u001b[0m\n",
            "platform linux -- Python 3.7.13, pytest-3.6.4, py-1.11.0, pluggy-0.7.1\n",
            "rootdir: /content/data_science_using_python_labs/week03, inifile:\n",
            "plugins: typeguard-2.7.1\n",
            "\u001b[1m\rcollecting 0 items                                                             \u001b[0m\u001b[1m\rcollecting 0 items                                                             \u001b[0m\u001b[1m\rcollecting 1 item                                                              \u001b[0m\u001b[1m\rcollected 1 item                                                               \u001b[0m\n",
            "\n",
            "test_io_1.py .\u001b[36m                                                           [100%]\u001b[0m\n",
            "\n",
            "\u001b[32m\u001b[1m=========================== 1 passed in 0.01 seconds ===========================\u001b[0m\n"
          ]
        }
      ],
      "source": [
        "!pytest test_io_1.py"
      ]
    },
    {
      "cell_type": "markdown",
      "metadata": {
        "id": "Hrs6_UFMHEhE"
      },
      "source": [
        "Again, let us try to get the commandline parameters. We will see the commandline parameters to run this notebook.\n",
        "\n",
        "```python\n",
        "import sys\n",
        "print (sys.argv)\n",
        "```"
      ]
    },
    {
      "cell_type": "code",
      "execution_count": 28,
      "metadata": {
        "id": "bgIiSaeVHEhE",
        "outputId": "c47a4c21-f4c4-4b68-f379-0bd9d04841b7",
        "colab": {
          "base_uri": "https://localhost:8080/"
        }
      },
      "outputs": [
        {
          "output_type": "stream",
          "name": "stdout",
          "text": [
            "['/usr/local/lib/python3.7/dist-packages/ipykernel_launcher.py', '-f', '/root/.local/share/jupyter/runtime/kernel-29907dff-b9c1-452a-98af-4e8c56ed90e5.json']\n",
            "[<class 'str'>, <class 'str'>, <class 'str'>]\n",
            "This is the name of the program: /usr/local/lib/python3.7/dist-packages/ipykernel_launcher.py\n",
            "Argument List: ['/usr/local/lib/python3.7/dist-packages/ipykernel_launcher.py', '-f', '/root/.local/share/jupyter/runtime/kernel-29907dff-b9c1-452a-98af-4e8c56ed90e5.json']\n"
          ]
        }
      ],
      "source": [
        "import sys\n",
        "print (sys.argv)\n",
        "print ([type(a) for a in sys.argv])\n",
        "print(\"This is the name of the program:\", sys.argv[0])\n",
        "print(\"Argument List:\", str(sys.argv))"
      ]
    },
    {
      "cell_type": "code",
      "source": [
        "import sys\n",
        "for i in range(0, len(sys.argv)):\n",
        " print(\"argv[\" + str(i) + \"]: \" + sys.argv[i]) "
      ],
      "metadata": {
        "id": "beXhwaAfRDvd",
        "outputId": "324f9d34-72e0-418a-8ddf-4fdb69cc47ae",
        "colab": {
          "base_uri": "https://localhost:8080/"
        }
      },
      "execution_count": 43,
      "outputs": [
        {
          "output_type": "stream",
          "name": "stdout",
          "text": [
            "argv[0]: /usr/local/lib/python3.7/dist-packages/ipykernel_launcher.py\n",
            "argv[1]: -f\n",
            "argv[2]: /root/.local/share/jupyter/runtime/kernel-29907dff-b9c1-452a-98af-4e8c56ed90e5.json\n"
          ]
        }
      ]
    },
    {
      "cell_type": "code",
      "source": [
        "import sys\n",
        "\n",
        "def hello(a,b):\n",
        "  print (\"hello and that's your sum: \", a + b )\n",
        "\n",
        "\n",
        "# If you type : py main.py 1 5\n",
        "# It should give you \"hello and that's your sum:6\""
      ],
      "metadata": {
        "id": "3R_nhnC9RSpM"
      },
      "execution_count": 50,
      "outputs": []
    },
    {
      "cell_type": "code",
      "source": [
        "import sys\n",
        "variables = sys.argv\n",
        "operator = variables[0]\n",
        "num_1 = variables[1] # make it second variables (ensure it is correct data type)\n",
        "num_2 = variables[2] # make it third variables (ensure it is correct data type)\n",
        "# implement operator '+' and '-'\n",
        "#ans = variables(variables[1],num_1,num_2)\n",
        "print (variables)\n",
        "print (operator)\n",
        "\n",
        "def test(num_1,num_2):\n",
        "    print (\"Sum: \", num_1+num_2)"
      ],
      "metadata": {
        "id": "O6Dd_8-rPsZx",
        "outputId": "adc2b3c2-f363-4ba6-8687-c8cde055a729",
        "colab": {
          "base_uri": "https://localhost:8080/"
        }
      },
      "execution_count": 51,
      "outputs": [
        {
          "output_type": "stream",
          "name": "stdout",
          "text": [
            "['/usr/local/lib/python3.7/dist-packages/ipykernel_launcher.py', '-f', '/root/.local/share/jupyter/runtime/kernel-29907dff-b9c1-452a-98af-4e8c56ed90e5.json']\n",
            "/usr/local/lib/python3.7/dist-packages/ipykernel_launcher.py\n"
          ]
        }
      ]
    },
    {
      "cell_type": "code",
      "execution_count": 70,
      "metadata": {
        "id": "nymguHFxHEhF",
        "outputId": "d8317f52-188b-4c1d-fa14-837fc6a068c6",
        "colab": {
          "base_uri": "https://localhost:8080/"
        }
      },
      "outputs": [
        {
          "output_type": "stream",
          "name": "stdout",
          "text": [
            "Overwriting lab_io_2.py\n"
          ]
        }
      ],
      "source": [
        "%%writefile lab_io_2.py\n",
        "import sys\n",
        "variables = sys.argv\n",
        "operator = variables[1]\n",
        "num_1 = float(variables[2]) # make it second variables (ensure it is correct data type)\n",
        "num_2 = float(variables[3]) # make it third variables (ensure it is correct data type)\n",
        "# implement operator '+' and '-'\n",
        "if operator == '+':\n",
        "   result = num_1 + num_2 \n",
        "if operator == '-':\n",
        "  result  = num_1 - num_2  \n",
        "print(result) "
      ]
    },
    {
      "cell_type": "code",
      "execution_count": 71,
      "metadata": {
        "id": "qckzIbeMHEhG",
        "outputId": "cb8f8132-00a0-4cda-8196-621566b6caf6",
        "colab": {
          "base_uri": "https://localhost:8080/"
        }
      },
      "outputs": [
        {
          "output_type": "stream",
          "name": "stdout",
          "text": [
            "5.0\n"
          ]
        }
      ],
      "source": [
        "!python lab_io_2.py \"+\" 3 2"
      ]
    },
    {
      "cell_type": "code",
      "execution_count": 72,
      "metadata": {
        "id": "UaQAiG3HHEhH",
        "outputId": "15673c90-7e0f-4557-8839-e9ee2e22f412",
        "colab": {
          "base_uri": "https://localhost:8080/"
        }
      },
      "outputs": [
        {
          "output_type": "stream",
          "name": "stdout",
          "text": [
            "1.0\n"
          ]
        }
      ],
      "source": [
        "!python lab_io_2.py \"-\" 3 2"
      ]
    },
    {
      "cell_type": "code",
      "execution_count": 73,
      "metadata": {
        "id": "sZPV-hirHEhH",
        "outputId": "6579b68c-10a5-4180-a91c-8e888aefd208",
        "colab": {
          "base_uri": "https://localhost:8080/"
        }
      },
      "outputs": [
        {
          "output_type": "stream",
          "name": "stdout",
          "text": [
            "\u001b[1m============================= test session starts ==============================\u001b[0m\n",
            "platform linux -- Python 3.7.13, pytest-3.6.4, py-1.11.0, pluggy-0.7.1\n",
            "rootdir: /content/data_science_using_python_labs/week03, inifile:\n",
            "plugins: typeguard-2.7.1\n",
            "\u001b[1m\rcollecting 0 items                                                             \u001b[0m\u001b[1m\rcollecting 1 item                                                              \u001b[0m\u001b[1m\rcollecting 1 item                                                              \u001b[0m\u001b[1m\rcollecting 1 item                                                              \u001b[0m\u001b[1m\rcollected 1 item                                                               \u001b[0m\n",
            "\n",
            "test_io_2.py .\u001b[36m                                                           [100%]\u001b[0m\n",
            "\n",
            "\u001b[32m\u001b[1m=========================== 1 passed in 0.01 seconds ===========================\u001b[0m\n"
          ]
        }
      ],
      "source": [
        "!pytest test_io_2.py"
      ]
    },
    {
      "cell_type": "markdown",
      "metadata": {
        "id": "4hjTZIxoHEhH"
      },
      "source": [
        "Next, let us set an environment variable and see if we can access it\n",
        "\n",
        "```bash\n",
        "export MY_VAR=\"hello\"\n",
        "```\n",
        "\n",
        "```python\n",
        "import os\n",
        "print (os.environ[\"MY_VAR\"])\n",
        "```"
      ]
    },
    {
      "cell_type": "code",
      "execution_count": 74,
      "metadata": {
        "id": "ZxktNnT4HEhI",
        "outputId": "53eaedd6-d5dd-468d-b540-12262aae5885",
        "colab": {
          "base_uri": "https://localhost:8080/"
        }
      },
      "outputs": [
        {
          "output_type": "stream",
          "name": "stdout",
          "text": [
            "env: MY_VAR=hello\n"
          ]
        }
      ],
      "source": [
        "%env MY_VAR=hello"
      ]
    },
    {
      "cell_type": "code",
      "execution_count": 75,
      "metadata": {
        "id": "3GChA-uWHEhI",
        "outputId": "52a85e65-48de-43c0-fa7b-534e92ee72ca",
        "colab": {
          "base_uri": "https://localhost:8080/"
        }
      },
      "outputs": [
        {
          "output_type": "stream",
          "name": "stdout",
          "text": [
            "hello\n"
          ]
        }
      ],
      "source": [
        "import os\n",
        "print (os.environ[\"MY_VAR\"])"
      ]
    },
    {
      "cell_type": "markdown",
      "metadata": {
        "id": "Ma94dwiuHEhJ"
      },
      "source": [
        "Lastly, we will try to get content of the text files. Python programs are also text files. So let's read the python programs.\n",
        "\n",
        "```python\n",
        "with open(\"test_io_2.py\", \"rt\") as f:\n",
        "    content = f.read()\n",
        "    print (content)\n",
        "```"
      ]
    },
    {
      "cell_type": "code",
      "execution_count": 76,
      "metadata": {
        "id": "6Tggdj_dHEhJ",
        "outputId": "96dfd8b6-8acf-4c0a-f2ee-fcc89ea09790",
        "colab": {
          "base_uri": "https://localhost:8080/"
        }
      },
      "outputs": [
        {
          "output_type": "stream",
          "name": "stdout",
          "text": [
            "import io\n",
            "from unittest import TestCase\n",
            "\n",
            "def test_input(monkeypatch):\n",
            "    monkeypatch.setattr('sys.stdin', io.StringIO('42'))\n",
            "    import lab_io_1\n",
            "    assert lab_io_1.a == \"42\"\n",
            "    assert lab_io_1.i == 42\n"
          ]
        }
      ],
      "source": [
        "f = open(\"test_io_1.py\", \"rt\")\n",
        "content = f.read()\n",
        "print (content)\n",
        "f.close()"
      ]
    },
    {
      "cell_type": "code",
      "execution_count": 77,
      "metadata": {
        "id": "v8MrqJgaHEhJ",
        "outputId": "2afd8199-73ee-4642-950f-5adc27fd4dc1",
        "colab": {
          "base_uri": "https://localhost:8080/"
        }
      },
      "outputs": [
        {
          "output_type": "stream",
          "name": "stdout",
          "text": [
            "from unittest import TestCase\n",
            "from unittest.mock import patch\n",
            "\n",
            "@patch('sys.argv', [\"lab_io_2.py\", '+', '1', '1'])\n",
            "class TestIO_2_1(TestCase):\n",
            "\n",
            "    def test_io_2_1(self):\n",
            "        import lab_io_2 as lio2\n",
            "        assert lio2.result == 2\n",
            "        \n",
            "@patch('sys.argv', [\"lab_io_2.py\", '-', '2', '1'])\n",
            "class TestIO_2_1(TestCase):\n",
            "    def test_io_2_1(self):\n",
            "        import lab_io_2 as lio2\n",
            "        assert lio2.result == 1\n"
          ]
        }
      ],
      "source": [
        "with open(\"test_io_2.py\", \"rt\") as f:\n",
        "    content = f.read()\n",
        "    print (content)"
      ]
    },
    {
      "cell_type": "code",
      "execution_count": 78,
      "metadata": {
        "id": "EGH6oxQ4HEhK",
        "outputId": "fb16729d-5886-4a62-9159-2062145785c1",
        "colab": {
          "base_uri": "https://localhost:8080/"
        }
      },
      "outputs": [
        {
          "output_type": "stream",
          "name": "stdout",
          "text": [
            "Writing my_program.py\n"
          ]
        }
      ],
      "source": [
        "%%writefile my_program.py\n",
        "print(\"hello\")"
      ]
    },
    {
      "cell_type": "code",
      "execution_count": 78,
      "metadata": {
        "id": "yYMtKJh9HEhK"
      },
      "outputs": [],
      "source": [
        ""
      ]
    }
  ],
  "metadata": {
    "interpreter": {
      "hash": "3a9c1e998c7d6d5f29587b2c70e9bd488bb486b902354401efc27ca8457f04e9"
    },
    "kernelspec": {
      "display_name": "Python 3.7.11 ('py37-dsup')",
      "language": "python",
      "name": "python3"
    },
    "language_info": {
      "codemirror_mode": {
        "name": "ipython",
        "version": 3
      },
      "file_extension": ".py",
      "mimetype": "text/x-python",
      "name": "python",
      "nbconvert_exporter": "python",
      "pygments_lexer": "ipython3",
      "version": "3.7.11"
    },
    "orig_nbformat": 4,
    "colab": {
      "name": "02_python_io_1.ipynb",
      "provenance": []
    }
  },
  "nbformat": 4,
  "nbformat_minor": 0
}