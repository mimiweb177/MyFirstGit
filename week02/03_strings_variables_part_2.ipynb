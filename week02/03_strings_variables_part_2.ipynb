{
  "cells": [
    {
      "cell_type": "markdown",
      "metadata": {
        "id": "view-in-github",
        "colab_type": "text"
      },
      "source": [
        "<a href=\"https://colab.research.google.com/github/mimiweb177/MyFirstGit/blob/main/week02/03_strings_variables_part_2.ipynb\" target=\"_parent\"><img src=\"https://colab.research.google.com/assets/colab-badge.svg\" alt=\"Open In Colab\"/></a>"
      ]
    },
    {
      "cell_type": "markdown",
      "metadata": {
        "id": "yo3ayMGbJ8N_"
      },
      "source": [
        "# String နဲ့ Variable တွေ အကြောင်း Part II\n",
        "\n",
        "String နဲ့ Variable တွေ အကြောင်းကို ခပ်သွက်သွက်လေး ပြန်ကြည့်ရအောင်။ အရင်ဆုံး lab တွေရဲ့ အဖြေကို အောက်မှာ ပေးထားမယ်။"
      ]
    },
    {
      "cell_type": "code",
      "execution_count": 14,
      "metadata": {
        "id": "8EMhWS5GJ8OD",
        "outputId": "638af6ad-3e5e-46e1-f57a-3383c3497b53",
        "colab": {
          "base_uri": "https://localhost:8080/"
        }
      },
      "outputs": [
        {
          "output_type": "stream",
          "name": "stdout",
          "text": [
            "Cloning into 'data_science_using_python_labs'...\n",
            "remote: Enumerating objects: 89, done.\u001b[K\n",
            "remote: Counting objects:   1% (1/89)\u001b[K\rremote: Counting objects:   2% (2/89)\u001b[K\rremote: Counting objects:   3% (3/89)\u001b[K\rremote: Counting objects:   4% (4/89)\u001b[K\rremote: Counting objects:   5% (5/89)\u001b[K\rremote: Counting objects:   6% (6/89)\u001b[K\rremote: Counting objects:   7% (7/89)\u001b[K\rremote: Counting objects:   8% (8/89)\u001b[K\rremote: Counting objects:  10% (9/89)\u001b[K\rremote: Counting objects:  11% (10/89)\u001b[K\rremote: Counting objects:  12% (11/89)\u001b[K\rremote: Counting objects:  13% (12/89)\u001b[K\rremote: Counting objects:  14% (13/89)\u001b[K\rremote: Counting objects:  15% (14/89)\u001b[K\rremote: Counting objects:  16% (15/89)\u001b[K\rremote: Counting objects:  17% (16/89)\u001b[K\rremote: Counting objects:  19% (17/89)\u001b[K\rremote: Counting objects:  20% (18/89)\u001b[K\rremote: Counting objects:  21% (19/89)\u001b[K\rremote: Counting objects:  22% (20/89)\u001b[K\rremote: Counting objects:  23% (21/89)\u001b[K\rremote: Counting objects:  24% (22/89)\u001b[K\rremote: Counting objects:  25% (23/89)\u001b[K\rremote: Counting objects:  26% (24/89)\u001b[K\rremote: Counting objects:  28% (25/89)\u001b[K\rremote: Counting objects:  29% (26/89)\u001b[K\rremote: Counting objects:  30% (27/89)\u001b[K\rremote: Counting objects:  31% (28/89)\u001b[K\rremote: Counting objects:  32% (29/89)\u001b[K\rremote: Counting objects:  33% (30/89)\u001b[K\rremote: Counting objects:  34% (31/89)\u001b[K\rremote: Counting objects:  35% (32/89)\u001b[K\rremote: Counting objects:  37% (33/89)\u001b[K\rremote: Counting objects:  38% (34/89)\u001b[K\rremote: Counting objects:  39% (35/89)\u001b[K\rremote: Counting objects:  40% (36/89)\u001b[K\rremote: Counting objects:  41% (37/89)\u001b[K\rremote: Counting objects:  42% (38/89)\u001b[K\rremote: Counting objects:  43% (39/89)\u001b[K\rremote: Counting objects:  44% (40/89)\u001b[K\rremote: Counting objects:  46% (41/89)\u001b[K\rremote: Counting objects:  47% (42/89)\u001b[K\rremote: Counting objects:  48% (43/89)\u001b[K\rremote: Counting objects:  49% (44/89)\u001b[K\rremote: Counting objects:  50% (45/89)\u001b[K\rremote: Counting objects:  51% (46/89)\u001b[K\rremote: Counting objects:  52% (47/89)\u001b[K\rremote: Counting objects:  53% (48/89)\u001b[K\rremote: Counting objects:  55% (49/89)\u001b[K\rremote: Counting objects:  56% (50/89)\u001b[K\rremote: Counting objects:  57% (51/89)\u001b[K\rremote: Counting objects:  58% (52/89)\u001b[K\rremote: Counting objects:  59% (53/89)\u001b[K\rremote: Counting objects:  60% (54/89)\u001b[K\rremote: Counting objects:  61% (55/89)\u001b[K\rremote: Counting objects:  62% (56/89)\u001b[K\rremote: Counting objects:  64% (57/89)\u001b[K\rremote: Counting objects:  65% (58/89)\u001b[K\rremote: Counting objects:  66% (59/89)\u001b[K\rremote: Counting objects:  67% (60/89)\u001b[K\rremote: Counting objects:  68% (61/89)\u001b[K\rremote: Counting objects:  69% (62/89)\u001b[K\rremote: Counting objects:  70% (63/89)\u001b[K\rremote: Counting objects:  71% (64/89)\u001b[K\rremote: Counting objects:  73% (65/89)\u001b[K\rremote: Counting objects:  74% (66/89)\u001b[K\rremote: Counting objects:  75% (67/89)\u001b[K\rremote: Counting objects:  76% (68/89)\u001b[K\rremote: Counting objects:  77% (69/89)\u001b[K\rremote: Counting objects:  78% (70/89)\u001b[K\rremote: Counting objects:  79% (71/89)\u001b[K\rremote: Counting objects:  80% (72/89)\u001b[K\rremote: Counting objects:  82% (73/89)\u001b[K\rremote: Counting objects:  83% (74/89)\u001b[K\rremote: Counting objects:  84% (75/89)\u001b[K\rremote: Counting objects:  85% (76/89)\u001b[K\rremote: Counting objects:  86% (77/89)\u001b[K\rremote: Counting objects:  87% (78/89)\u001b[K\rremote: Counting objects:  88% (79/89)\u001b[K\rremote: Counting objects:  89% (80/89)\u001b[K\rremote: Counting objects:  91% (81/89)\u001b[K\rremote: Counting objects:  92% (82/89)\u001b[K\rremote: Counting objects:  93% (83/89)\u001b[K\rremote: Counting objects:  94% (84/89)\u001b[K\rremote: Counting objects:  95% (85/89)\u001b[K\rremote: Counting objects:  96% (86/89)\u001b[K\rremote: Counting objects:  97% (87/89)\u001b[K\rremote: Counting objects:  98% (88/89)\u001b[K\rremote: Counting objects: 100% (89/89)\u001b[K\rremote: Counting objects: 100% (89/89), done.\u001b[K\n",
            "remote: Compressing objects:   1% (1/65)\u001b[K\rremote: Compressing objects:   3% (2/65)\u001b[K\rremote: Compressing objects:   4% (3/65)\u001b[K\rremote: Compressing objects:   6% (4/65)\u001b[K\rremote: Compressing objects:   7% (5/65)\u001b[K\rremote: Compressing objects:   9% (6/65)\u001b[K\rremote: Compressing objects:  10% (7/65)\u001b[K\rremote: Compressing objects:  12% (8/65)\u001b[K\rremote: Compressing objects:  13% (9/65)\u001b[K\rremote: Compressing objects:  15% (10/65)\u001b[K\rremote: Compressing objects:  16% (11/65)\u001b[K\rremote: Compressing objects:  18% (12/65)\u001b[K\rremote: Compressing objects:  20% (13/65)\u001b[K\rremote: Compressing objects:  21% (14/65)\u001b[K\rremote: Compressing objects:  23% (15/65)\u001b[K\rremote: Compressing objects:  24% (16/65)\u001b[K\rremote: Compressing objects:  26% (17/65)\u001b[K\rremote: Compressing objects:  27% (18/65)\u001b[K\rremote: Compressing objects:  29% (19/65)\u001b[K\rremote: Compressing objects:  30% (20/65)\u001b[K\rremote: Compressing objects:  32% (21/65)\u001b[K\rremote: Compressing objects:  33% (22/65)\u001b[K\rremote: Compressing objects:  35% (23/65)\u001b[K\rremote: Compressing objects:  36% (24/65)\u001b[K\rremote: Compressing objects:  38% (25/65)\u001b[K\rremote: Compressing objects:  40% (26/65)\u001b[K\rremote: Compressing objects:  41% (27/65)\u001b[K\rremote: Compressing objects:  43% (28/65)\u001b[K\rremote: Compressing objects:  44% (29/65)\u001b[K\rremote: Compressing objects:  46% (30/65)\u001b[K\rremote: Compressing objects:  47% (31/65)\u001b[K\rremote: Compressing objects:  49% (32/65)\u001b[K\rremote: Compressing objects:  50% (33/65)\u001b[K\rremote: Compressing objects:  52% (34/65)\u001b[K\rremote: Compressing objects:  53% (35/65)\u001b[K\rremote: Compressing objects:  55% (36/65)\u001b[K\rremote: Compressing objects:  56% (37/65)\u001b[K\rremote: Compressing objects:  58% (38/65)\u001b[K\rremote: Compressing objects:  60% (39/65)\u001b[K\rremote: Compressing objects:  61% (40/65)\u001b[K\rremote: Compressing objects:  63% (41/65)\u001b[K\rremote: Compressing objects:  64% (42/65)\u001b[K\rremote: Compressing objects:  66% (43/65)\u001b[K\rremote: Compressing objects:  67% (44/65)\u001b[K\rremote: Compressing objects:  69% (45/65)\u001b[K\rremote: Compressing objects:  70% (46/65)\u001b[K\rremote: Compressing objects:  72% (47/65)\u001b[K\rremote: Compressing objects:  73% (48/65)\u001b[K\rremote: Compressing objects:  75% (49/65)\u001b[K\rremote: Compressing objects:  76% (50/65)\u001b[K\rremote: Compressing objects:  78% (51/65)\u001b[K\rremote: Compressing objects:  80% (52/65)\u001b[K\rremote: Compressing objects:  81% (53/65)\u001b[K\rremote: Compressing objects:  83% (54/65)\u001b[K\rremote: Compressing objects:  84% (55/65)\u001b[K\rremote: Compressing objects:  86% (56/65)\u001b[K\rremote: Compressing objects:  87% (57/65)\u001b[K\rremote: Compressing objects:  89% (58/65)\u001b[K\rremote: Compressing objects:  90% (59/65)\u001b[K\rremote: Compressing objects:  92% (60/65)\u001b[K\rremote: Compressing objects:  93% (61/65)\u001b[K\rremote: Compressing objects:  95% (62/65)\u001b[K\rremote: Compressing objects:  96% (63/65)\u001b[K\rremote: Compressing objects:  98% (64/65)\u001b[K\rremote: Compressing objects: 100% (65/65)\u001b[K\rremote: Compressing objects: 100% (65/65), done.\u001b[K\n",
            "remote: Total 89 (delta 47), reused 60 (delta 22), pack-reused 0\u001b[K\n",
            "Unpacking objects: 100% (89/89), done.\n"
          ]
        }
      ],
      "source": [
        "# ဒီ cell ကို run လိုက်ပါ။\n",
        "!git clone https://github.com/neolaw84/data_science_using_python_labs.git"
      ]
    },
    {
      "cell_type": "code",
      "execution_count": 15,
      "metadata": {
        "id": "CESVIqBfJ8OE",
        "outputId": "297a8693-8cbf-40ad-ef79-bcad21ba786f",
        "colab": {
          "base_uri": "https://localhost:8080/"
        }
      },
      "outputs": [
        {
          "output_type": "stream",
          "name": "stdout",
          "text": [
            "/content/data_science_using_python_labs/week02/data_science_using_python_labs/week02\n"
          ]
        }
      ],
      "source": [
        "%cd data_science_using_python_labs/week02"
      ]
    },
    {
      "cell_type": "code",
      "execution_count": 16,
      "metadata": {
        "id": "3rZN1FWxJ8OE",
        "outputId": "fbe63aa0-b500-408a-d12e-9c0ee567b5fc",
        "colab": {
          "base_uri": "https://localhost:8080/"
        }
      },
      "outputs": [
        {
          "output_type": "stream",
          "name": "stdout",
          "text": [
            "Writing lab_string.py\n"
          ]
        }
      ],
      "source": [
        "%%writefile lab_string.py\n",
        "print (\"I'm a string, \")\n",
        "print ('said, \"A piece of data\"')"
      ]
    },
    {
      "cell_type": "code",
      "execution_count": 17,
      "metadata": {
        "id": "6dsZRHFdJ8OF",
        "outputId": "28947dec-a7d2-4e4a-b64a-efaf8001909f",
        "colab": {
          "base_uri": "https://localhost:8080/"
        }
      },
      "outputs": [
        {
          "output_type": "stream",
          "name": "stdout",
          "text": [
            "\u001b[1m============================= test session starts ==============================\u001b[0m\n",
            "platform linux -- Python 3.7.13, pytest-3.6.4, py-1.11.0, pluggy-0.7.1\n",
            "rootdir: /content/data_science_using_python_labs/week02/data_science_using_python_labs/week02, inifile:\n",
            "plugins: typeguard-2.7.1\n",
            "\u001b[1m\rcollecting 0 items                                                             \u001b[0m\u001b[1m\rcollecting 1 item                                                              \u001b[0m\u001b[1m\rcollected 1 item                                                               \u001b[0m\n",
            "\n",
            "test_string.py .\u001b[36m                                                         [100%]\u001b[0m\n",
            "\n",
            "\u001b[32m\u001b[1m=========================== 1 passed in 0.02 seconds ===========================\u001b[0m\n"
          ]
        }
      ],
      "source": [
        "!pytest test_string.py"
      ]
    },
    {
      "cell_type": "code",
      "execution_count": 18,
      "metadata": {
        "id": "plS1GI9mJ8OF",
        "outputId": "21e5f815-3704-4445-e4ea-94fac9082f01",
        "colab": {
          "base_uri": "https://localhost:8080/"
        }
      },
      "outputs": [
        {
          "output_type": "stream",
          "name": "stdout",
          "text": [
            "Writing lab_variable_1.py\n"
          ]
        }
      ],
      "source": [
        "%%writefile lab_variable_1.py\n",
        "a=10\n",
        "b=10.0\n",
        "c=False"
      ]
    },
    {
      "cell_type": "code",
      "execution_count": 19,
      "metadata": {
        "id": "hsheFl7sJ8OG",
        "outputId": "9909c263-a5f9-4982-d224-4bc5622f86fd",
        "colab": {
          "base_uri": "https://localhost:8080/"
        }
      },
      "outputs": [
        {
          "output_type": "stream",
          "name": "stdout",
          "text": [
            "\u001b[1m============================= test session starts ==============================\u001b[0m\n",
            "platform linux -- Python 3.7.13, pytest-3.6.4, py-1.11.0, pluggy-0.7.1\n",
            "rootdir: /content/data_science_using_python_labs/week02/data_science_using_python_labs/week02, inifile:\n",
            "plugins: typeguard-2.7.1\n",
            "\u001b[1m\rcollecting 0 items                                                             \u001b[0m\u001b[1m\rcollecting 1 item                                                              \u001b[0m\u001b[1m\rcollected 1 item                                                               \u001b[0m\n",
            "\n",
            "test_variable_1.py .\u001b[36m                                                     [100%]\u001b[0m\n",
            "\n",
            "\u001b[32m\u001b[1m=========================== 1 passed in 0.02 seconds ===========================\u001b[0m\n"
          ]
        }
      ],
      "source": [
        "!pytest test_variable_1.py"
      ]
    },
    {
      "cell_type": "code",
      "execution_count": 20,
      "metadata": {
        "id": "krgXCS_VJ8OG",
        "outputId": "7bb6f393-823b-4d92-82bf-7c42508cc99e",
        "colab": {
          "base_uri": "https://localhost:8080/"
        }
      },
      "outputs": [
        {
          "output_type": "stream",
          "name": "stdout",
          "text": [
            "Writing lab_variable_2.py\n"
          ]
        }
      ],
      "source": [
        "%%writefile lab_variable_2.py\n",
        "price=99.99\n",
        "quantity=5\n",
        "VAT=0.10\n",
        "total_before_vat = price*quantity\n",
        "total=total_before_vat + total_before_vat * VAT"
      ]
    },
    {
      "cell_type": "code",
      "execution_count": 21,
      "metadata": {
        "id": "C-HwBEESJ8OH",
        "outputId": "d7f11abe-4293-4b81-c284-6029b23255ec",
        "colab": {
          "base_uri": "https://localhost:8080/"
        }
      },
      "outputs": [
        {
          "output_type": "stream",
          "name": "stdout",
          "text": [
            "\u001b[1m============================= test session starts ==============================\u001b[0m\n",
            "platform linux -- Python 3.7.13, pytest-3.6.4, py-1.11.0, pluggy-0.7.1\n",
            "rootdir: /content/data_science_using_python_labs/week02/data_science_using_python_labs/week02, inifile:\n",
            "plugins: typeguard-2.7.1\n",
            "\u001b[1m\rcollecting 0 items                                                             \u001b[0m\u001b[1m\rcollecting 1 item                                                              \u001b[0m\u001b[1m\rcollected 1 item                                                               \u001b[0m\n",
            "\n",
            "test_variable_2.py .\u001b[36m                                                     [100%]\u001b[0m\n",
            "\n",
            "\u001b[32m\u001b[1m=========================== 1 passed in 0.02 seconds ===========================\u001b[0m\n"
          ]
        }
      ],
      "source": [
        "!pytest test_variable_2.py"
      ]
    },
    {
      "cell_type": "code",
      "execution_count": 22,
      "metadata": {
        "id": "y_1chJO5J8OI",
        "outputId": "1b03b462-c7c4-448f-c802-52497a309022",
        "colab": {
          "base_uri": "https://localhost:8080/"
        }
      },
      "outputs": [
        {
          "output_type": "stream",
          "name": "stdout",
          "text": [
            "Writing lab_variable_3.py\n"
          ]
        }
      ],
      "source": [
        "%%writefile lab_variable_3.py\n",
        "def area_of_rectangle(length, breadth):\n",
        "    area = length * breadth\n",
        "    return area\n",
        "\n",
        "from math import pi\n",
        "def area_of_circle(radius):\n",
        "    area = pi * radius * radius\n",
        "    return area\n",
        "\n",
        "def area_of_triangle(base, height):\n",
        "    area = 0.5 * base * height\n",
        "    return area"
      ]
    },
    {
      "cell_type": "code",
      "execution_count": 23,
      "metadata": {
        "id": "4_cMPvnmJ8OI",
        "outputId": "1b84b1df-19b5-47ae-a6d8-a0f37431d3e0",
        "colab": {
          "base_uri": "https://localhost:8080/"
        }
      },
      "outputs": [
        {
          "output_type": "stream",
          "name": "stdout",
          "text": [
            "\u001b[1m============================= test session starts ==============================\u001b[0m\n",
            "platform linux -- Python 3.7.13, pytest-3.6.4, py-1.11.0, pluggy-0.7.1\n",
            "rootdir: /content/data_science_using_python_labs/week02/data_science_using_python_labs/week02, inifile:\n",
            "plugins: typeguard-2.7.1\n",
            "\u001b[1m\rcollecting 0 items                                                             \u001b[0m\u001b[1m\rcollecting 3 items                                                             \u001b[0m\u001b[1m\rcollected 3 items                                                              \u001b[0m\n",
            "\n",
            "test_variable_3.py ...\u001b[36m                                                   [100%]\u001b[0m\n",
            "\n",
            "\u001b[32m\u001b[1m=========================== 3 passed in 0.03 seconds ===========================\u001b[0m\n"
          ]
        }
      ],
      "source": [
        "!pytest test_variable_3.py"
      ]
    },
    {
      "cell_type": "markdown",
      "metadata": {
        "id": "tUK6tvRQJ8OJ"
      },
      "source": [
        "မမေ့အောင် String လေ့ကျင့်ခန်း နောက်တခု လုပ်ကြည့်ရအောင်။\n",
        "\n",
        "a ဆိုတဲ့ variable ထဲကို \"Alice\" ဆိုတဲ့ string ထည့်ပါ။ \n",
        "b ဆိုတဲ့ variable ထဲကို \"Bob\" ဆိုတဲ့ string ထည့်ပါ။ \n",
        "sym_key ဆိုတဲ့ variable ထဲကို \"symmetric_key\" ဆိုတဲ့ string ထည့်ပါ။\n",
        "b_sign ထဲကို \"bob's signature\", a_public ထဲကို \"alice' public key\", a_private ထဲကို \"alice' private key\" အသီးသီး ထည့်ပါ။\n",
        "\n",
        "ပြီးရင် အောက်ပါ message ကို print ထုတ်ပေးပါ။ (format method ကို သုံးပါ။)\n",
        "\n",
        "Now let’s say that Bob is a lawyer, and he wants to send a secret message 'hello A, from B' to Alice. He takes a box from his shelf, and which has a unique key (symmetric_key). He takes photograph of himself holding the message, and puts the message into the box with the photograph (bob's signature). Next, he takes a box that Alice send to him (alice' public key) and puts the secret key into the box. Now Bob cannot open any of the boxes. He then sends the two boxes to Alice. Alice takes the second box, and sources the key (alice' private key) to that box. She opens this box, and it contains the key for the first box, and then opens it. She then reads the message, and check the photograph."
      ]
    },
    {
      "cell_type": "code",
      "source": [
        "fname = \"John\"\n",
        "age = 36\n",
        "txt1 = \"My name is {fname}, I'm {age}\".format(fname , age)\n",
        "print(txt1)"
      ],
      "metadata": {
        "id": "-ho9ou3FNsCC",
        "outputId": "0835e254-6535-4808-aaf1-8f82923c49c6",
        "colab": {
          "base_uri": "https://localhost:8080/",
          "height": 222
        }
      },
      "execution_count": 35,
      "outputs": [
        {
          "output_type": "error",
          "ename": "KeyError",
          "evalue": "ignored",
          "traceback": [
            "\u001b[0;31m---------------------------------------------------------------------------\u001b[0m",
            "\u001b[0;31mKeyError\u001b[0m                                  Traceback (most recent call last)",
            "\u001b[0;32m<ipython-input-35-debdac4c4252>\u001b[0m in \u001b[0;36m<module>\u001b[0;34m()\u001b[0m\n\u001b[1;32m      1\u001b[0m \u001b[0mfname\u001b[0m \u001b[0;34m=\u001b[0m \u001b[0;34m\"John\"\u001b[0m\u001b[0;34m\u001b[0m\u001b[0;34m\u001b[0m\u001b[0m\n\u001b[1;32m      2\u001b[0m \u001b[0mage\u001b[0m \u001b[0;34m=\u001b[0m \u001b[0;36m36\u001b[0m\u001b[0;34m\u001b[0m\u001b[0;34m\u001b[0m\u001b[0m\n\u001b[0;32m----> 3\u001b[0;31m \u001b[0mtxt1\u001b[0m \u001b[0;34m=\u001b[0m \u001b[0;34m\"My name is {fname}, I'm {age}\"\u001b[0m\u001b[0;34m.\u001b[0m\u001b[0mformat\u001b[0m\u001b[0;34m(\u001b[0m\u001b[0mfname\u001b[0m \u001b[0;34m,\u001b[0m \u001b[0mage\u001b[0m\u001b[0;34m)\u001b[0m\u001b[0;34m\u001b[0m\u001b[0;34m\u001b[0m\u001b[0m\n\u001b[0m\u001b[1;32m      4\u001b[0m \u001b[0mprint\u001b[0m\u001b[0;34m(\u001b[0m\u001b[0mtxt1\u001b[0m\u001b[0;34m)\u001b[0m\u001b[0;34m\u001b[0m\u001b[0;34m\u001b[0m\u001b[0m\n",
            "\u001b[0;31mKeyError\u001b[0m: 'fname'"
          ]
        }
      ]
    },
    {
      "cell_type": "code",
      "source": [
        "print(\"\"\" \n",
        "Now let’s say that {b} is a lawyer, and he wants to send a secret message 'hello A, \n",
        "from B' to {a}. He takes a box from his shelf, and which has a unique key {sym_key}. \n",
        "He takes photograph of himself holding the message, and puts the message into the box with \n",
        "the photograph {b_sign}. Next, he takes a box that Alice send to him \n",
        "{a_public}and puts the secret key into the box. Now Bob cannot open any of the\n",
        "boxes. He then sends the two boxes to Alice. Alice takes the second box, and sources\n",
        "the key {a_private} to that box. She opens this box, and it contains the key\n",
        "for the first box, and then opens it. She then reads the message, and check the photograph.\n",
        "\"\"\".format(a = \"Alice\", b = \"Bob\", sym_key = \"symmetric_key\", b_sign = \"bob\\'s signature\", a_public = \"alice\\' public key\", a_private = \"alice\\' private key\"))"
      ],
      "metadata": {
        "id": "-VeRKuZbKczr",
        "outputId": "25b0874c-5157-43d3-d3d3-69e5f84fa1e1",
        "colab": {
          "base_uri": "https://localhost:8080/"
        }
      },
      "execution_count": 37,
      "outputs": [
        {
          "output_type": "stream",
          "name": "stdout",
          "text": [
            " \n",
            "Now let’s say that Bob is a lawyer, and he wants to send a secret message 'hello A, \n",
            "from B' to Alice. He takes a box from his shelf, and which has a unique key symmetric_key. \n",
            "He takes photograph of himself holding the message, and puts the message into the box with \n",
            "the photograph bob's signature. Next, he takes a box that Alice send to him \n",
            "alice' public keyand puts the secret key into the box. Now Bob cannot open any of the\n",
            "boxes. He then sends the two boxes to Alice. Alice takes the second box, and sources\n",
            "the key alice' private key to that box. She opens this box, and it contains the key\n",
            "for the first box, and then opens it. She then reads the message, and check the photograph.\n",
            "\n"
          ]
        }
      ]
    },
    {
      "cell_type": "code",
      "execution_count": 38,
      "metadata": {
        "id": "KGaOOLBPJ8OJ",
        "outputId": "4fdd330e-3f75-4b7c-8e81-e4f30653b7e8",
        "colab": {
          "base_uri": "https://localhost:8080/"
        }
      },
      "outputs": [
        {
          "output_type": "stream",
          "name": "stdout",
          "text": [
            "Overwriting lab_string_2.py\n"
          ]
        }
      ],
      "source": [
        "%%writefile lab_string_2.py\n",
        "# write your program here\n",
        "print(\"\"\" \n",
        "Now let’s say that {b} is a lawyer, and he wants to send a secret message 'hello A, \n",
        "from B' to {a}. He takes a box from his shelf, and which has a unique key {sym_key}. \n",
        "He takes photograph of himself holding the message, and puts the message into the box with \n",
        "the photograph {b_sign}. Next, he takes a box that Alice send to him \n",
        "{a_public}and puts the secret key into the box. Now Bob cannot open any of the\n",
        "boxes. He then sends the two boxes to Alice. Alice takes the second box, and sources\n",
        "the key {a_private} to that box. She opens this box, and it contains the key\n",
        "for the first box, and then opens it. She then reads the message, and check the photograph.\n",
        "\"\"\".format(a = \"Alice\", b = \"Bob\", sym_key = \"symmetric_key\", b_sign = \"bob\\'s signature\", a_public = \"alice\\' public key\", a_private = \"alice\\' private key\"))"
      ]
    },
    {
      "cell_type": "code",
      "execution_count": 39,
      "metadata": {
        "id": "0QSrhYBmJ8OK",
        "outputId": "962f68f8-df08-48e5-c830-74e5baad0f84",
        "colab": {
          "base_uri": "https://localhost:8080/"
        }
      },
      "outputs": [
        {
          "output_type": "stream",
          "name": "stdout",
          "text": [
            "\u001b[1m============================= test session starts ==============================\u001b[0m\n",
            "platform linux -- Python 3.7.13, pytest-3.6.4, py-1.11.0, pluggy-0.7.1\n",
            "rootdir: /content/data_science_using_python_labs/week02/data_science_using_python_labs/week02, inifile:\n",
            "plugins: typeguard-2.7.1\n",
            "\u001b[1m\rcollecting 0 items                                                             \u001b[0m\u001b[1m\rcollecting 1 item                                                              \u001b[0m\u001b[1m\rcollected 1 item                                                               \u001b[0m\n",
            "\n",
            "test_string_2.py F\u001b[36m                                                       [100%]\u001b[0m\n",
            "\n",
            "=================================== FAILURES ===================================\n",
            "\u001b[31m\u001b[1m________________________________ test_string_2 _________________________________\u001b[0m\n",
            "\n",
            "capsys = <_pytest.capture.CaptureFixture object at 0x7efe443056d0>\n",
            "\n",
            "\u001b[1m    def test_string_2(capsys):\u001b[0m\n",
            "\u001b[1m        import lab_string_2 as ls2\u001b[0m\n",
            "\u001b[1m        captured = capsys.readouterr()\u001b[0m\n",
            "\u001b[1m        output = captured.out\u001b[0m\n",
            "\u001b[1m        output = output.strip()\u001b[0m\n",
            "\u001b[1m        output = output.replace(\"\\n\", \" \")\u001b[0m\n",
            "\u001b[1m        output = output.replace(\"  \", \" \")\u001b[0m\n",
            "\u001b[1m        output = output.replace(\"  \", \" \").replace(\"  \", \" \")\u001b[0m\n",
            "\u001b[1m        to_check = \"\"\"Now let’s say that Bob is a lawyer, and he wants to send a secret message\u001b[0m\n",
            "\u001b[1m    'hello A, from B' to Alice. He takes a box from his shelf, and which has a\u001b[0m\n",
            "\u001b[1m    unique key (symmetric_key). He takes photograph of himself holding the message,\u001b[0m\n",
            "\u001b[1m    and puts the message into the box with the photograph (bob's signature). Next,\u001b[0m\n",
            "\u001b[1m    he takes a box that Alice send to him (alice' public key) and puts the secret\u001b[0m\n",
            "\u001b[1m    key into the box. Now Bob cannot open any of the boxes. He then sends the two\u001b[0m\n",
            "\u001b[1m    boxes to Alice. Alice takes the second box, and sources the key (alice' private key)\u001b[0m\n",
            "\u001b[1m    to that box. She opens this box, and it contains the key for the first box, and then\u001b[0m\n",
            "\u001b[1m    opens it. She then reads the message, and check the photograph.\"\"\" \\\u001b[0m\n",
            "\u001b[1m        .strip().replace(\"\\n\", \" \") \\\u001b[0m\n",
            "\u001b[1m        .replace(\"  \", \" \").replace(\"  \", \" \") \\\u001b[0m\n",
            "\u001b[1m        .replace(\"  \", \" \").replace(\"  \", \" \")\u001b[0m\n",
            "\u001b[1m        print (to_check)\u001b[0m\n",
            "\u001b[1m        print (output)\u001b[0m\n",
            "\u001b[1m>       assert to_check == output\u001b[0m\n",
            "\u001b[1m\u001b[31mE       AssertionError: assert 'Now let’s sa...e photograph.' == 'Now let’s say...e photograph.'\u001b[0m\n",
            "\u001b[1m\u001b[31mE         Skipping 150 identical leading characters in diff, use -v to show\u001b[0m\n",
            "\u001b[1m\u001b[31mE         - nique key (symmetric_key). He takes photograph of himself holding the message, and puts the message into the box with the photograph (bob's signature). Next, he takes a box that Alice send to him (alice' public key) and puts the secret key into the box. Now Bob cannot open any of the boxes. He then sends the two boxes to Alice. Alice takes the second box, and sources the key (alice' private key) to that box. She opens this box, and it contains the key for the first box, and then opens it. She then reads...\u001b[0m\n",
            "\u001b[1m\u001b[31mE         \u001b[0m\n",
            "\u001b[1m\u001b[31mE         ...Full output truncated (4 lines hidden), use '-vv' to show\u001b[0m\n",
            "\n",
            "\u001b[1m\u001b[31mtest_string_2.py\u001b[0m:24: AssertionError\n",
            "----------------------------- Captured stdout call -----------------------------\n",
            "Now let’s say that Bob is a lawyer, and he wants to send a secret message 'hello A, from B' to Alice. He takes a box from his shelf, and which has a unique key (symmetric_key). He takes photograph of himself holding the message, and puts the message into the box with the photograph (bob's signature). Next, he takes a box that Alice send to him (alice' public key) and puts the secret key into the box. Now Bob cannot open any of the boxes. He then sends the two boxes to Alice. Alice takes the second box, and sources the key (alice' private key) to that box. She opens this box, and it contains the key for the first box, and then opens it. She then reads the message, and check the photograph.\n",
            "Now let’s say that Bob is a lawyer, and he wants to send a secret message 'hello A, from B' to Alice. He takes a box from his shelf, and which has a unique key symmetric_key. He takes photograph of himself holding the message, and puts the message into the box with the photograph bob's signature. Next, he takes a box that Alice send to him alice' public keyand puts the secret key into the box. Now Bob cannot open any of the boxes. He then sends the two boxes to Alice. Alice takes the second box, and sources the key alice' private key to that box. She opens this box, and it contains the key for the first box, and then opens it. She then reads the message, and check the photograph.\n",
            "\u001b[31m\u001b[1m=========================== 1 failed in 0.03 seconds ===========================\u001b[0m\n"
          ]
        }
      ],
      "source": [
        "!pytest test_string_2.py"
      ]
    },
    {
      "cell_type": "markdown",
      "metadata": {
        "id": "9IdCn7JEJ8OK"
      },
      "source": [
        "### String Arithmetics \n",
        "\n",
        "```python\n",
        "a = \"Hello\" + \" \" + \"World\" # concatenation of \"Hello\", \" \" and \"World\" will be in variable 'a'\n",
        "```\n",
        "\n",
        "So what happens when you add (+) a string with an integer ? \n",
        "\n",
        "Try it yourself: \n",
        "\n",
        "```python\n",
        "a = \"Hello \" + 42\n",
        "```"
      ]
    },
    {
      "cell_type": "code",
      "execution_count": 27,
      "metadata": {
        "id": "GMxOYHxkJ8OK",
        "outputId": "e99635dc-390b-4e32-ea4f-799adc7ec476",
        "colab": {
          "base_uri": "https://localhost:8080/",
          "height": 168
        }
      },
      "outputs": [
        {
          "output_type": "error",
          "ename": "TypeError",
          "evalue": "ignored",
          "traceback": [
            "\u001b[0;31m---------------------------------------------------------------------------\u001b[0m",
            "\u001b[0;31mTypeError\u001b[0m                                 Traceback (most recent call last)",
            "\u001b[0;32m<ipython-input-27-55cf286e9a3c>\u001b[0m in \u001b[0;36m<module>\u001b[0;34m()\u001b[0m\n\u001b[0;32m----> 1\u001b[0;31m \u001b[0ma\u001b[0m \u001b[0;34m=\u001b[0m \u001b[0;34m\"Hello \"\u001b[0m \u001b[0;34m+\u001b[0m \u001b[0;36m42\u001b[0m\u001b[0;34m\u001b[0m\u001b[0;34m\u001b[0m\u001b[0m\n\u001b[0m",
            "\u001b[0;31mTypeError\u001b[0m: can only concatenate str (not \"int\") to str"
          ]
        }
      ],
      "source": [
        "a = \"Hello \" + 42"
      ]
    },
    {
      "cell_type": "markdown",
      "metadata": {
        "id": "l66AKn49J8OK"
      },
      "source": [
        "နောက်ထပ် string လေ့ကျင့်ခန်း တခု လုပ်ကြရအောင်။ ဒီလေ့ကျင့်ခန်းမှာ ... \n",
        "\n",
        "Variable 'i' ထဲကို 42 ကို ထည့်ပါ။ \n",
        "ပြီးတော့ \"The Ultimate Answer is <i ရဲ့ တန်ဖိုး>\" လို့ format method မသုံးပဲ ရိုက်ထုတ်ကြည့်ပါ။ \n",
        "\n",
        "> Hint: use function to convert primitive type"
      ]
    },
    {
      "cell_type": "code",
      "execution_count": null,
      "metadata": {
        "id": "_Z5CYl72J8OL"
      },
      "outputs": [],
      "source": [
        "%%writefile lab_string_3.py\n",
        "# write your program here"
      ]
    },
    {
      "cell_type": "code",
      "execution_count": null,
      "metadata": {
        "id": "-ydQBKIfJ8OL"
      },
      "outputs": [],
      "source": [
        "!pytest test_string_3.py"
      ]
    },
    {
      "cell_type": "markdown",
      "metadata": {
        "id": "NY0OIk2eJ8OL"
      },
      "source": [
        "နောက်ဆုံး Quadratic Equation တွေကို ဖြေရှင်းတဲ့ program ကို ရေးကြည့်ရအောင်။ \n",
        "\n",
        "Quadratic Equation ဖြေရှင်းတဲ့ formula က \n",
        "\n",
        "Given $ax^2 + bx + c = 0$\n",
        "\n",
        "$x = \\frac{-b \\pm \\sqrt{b^2 - 4ac}}{2a}$\n",
        "\n",
        "Square root function `sqrt` ကို `math` module ကနေ import လုပ်နိုင်တယ်။\n",
        "\n",
        "```python\n",
        "from math import sqrt\n",
        "```"
      ]
    },
    {
      "cell_type": "code",
      "execution_count": null,
      "metadata": {
        "id": "jZRjmPZnJ8OL"
      },
      "outputs": [],
      "source": [
        "%%writefile lab_variable_4.py\n",
        "from math import sqrt\n",
        "def quad_formula(a, b, c):\n",
        "    x1 = None\n",
        "    x2 = None\n",
        "    return x1, x2"
      ]
    },
    {
      "cell_type": "code",
      "execution_count": null,
      "metadata": {
        "id": "c91g0qmXJ8OM"
      },
      "outputs": [],
      "source": [
        "!pytest test_variable_4.py"
      ]
    }
  ],
  "metadata": {
    "interpreter": {
      "hash": "3a9c1e998c7d6d5f29587b2c70e9bd488bb486b902354401efc27ca8457f04e9"
    },
    "kernelspec": {
      "display_name": "Python 3.7.11 ('py37-dsup')",
      "language": "python",
      "name": "python3"
    },
    "language_info": {
      "codemirror_mode": {
        "name": "ipython",
        "version": 3
      },
      "file_extension": ".py",
      "mimetype": "text/x-python",
      "name": "python",
      "nbconvert_exporter": "python",
      "pygments_lexer": "ipython3",
      "version": "3.7.11"
    },
    "orig_nbformat": 4,
    "colab": {
      "name": "03_strings_variables_part_2.ipynb",
      "provenance": [],
      "include_colab_link": true
    }
  },
  "nbformat": 4,
  "nbformat_minor": 0
}