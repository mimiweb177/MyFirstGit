{
  "cells": [
    {
      "cell_type": "markdown",
      "metadata": {
        "id": "0ABZO0nkFWRo"
      },
      "source": [
        "# String နဲ့ Variable တွေ အကြောင်း Part II\n",
        "\n",
        "String နဲ့ Variable တွေ အကြောင်းကို ခပ်သွက်သွက်လေး ပြန်ကြည့်ရအောင်။ အရင်ဆုံး lab တွေရဲ့ အဖြေကို အောက်မှာ ပေးထားမယ်။"
      ]
    },
    {
      "cell_type": "code",
      "execution_count": 1,
      "metadata": {
        "id": "n0gYLr4SFWRr",
        "outputId": "259d46fb-b50e-4421-8150-e4ec6426e388",
        "colab": {
          "base_uri": "https://localhost:8080/"
        }
      },
      "outputs": [
        {
          "output_type": "stream",
          "name": "stdout",
          "text": [
            "Cloning into 'data_science_using_python_labs'...\n",
            "remote: Enumerating objects: 89, done.\u001b[K\n",
            "remote: Counting objects: 100% (89/89), done.\u001b[K\n",
            "remote: Compressing objects: 100% (65/65), done.\u001b[K\n",
            "remote: Total 89 (delta 47), reused 60 (delta 22), pack-reused 0\u001b[K\n",
            "Unpacking objects: 100% (89/89), done.\n"
          ]
        }
      ],
      "source": [
        "# ဒီ cell ကို run လိုက်ပါ။\n",
        "!git clone https://github.com/neolaw84/data_science_using_python_labs.git"
      ]
    },
    {
      "cell_type": "code",
      "execution_count": 2,
      "metadata": {
        "id": "e9ENNhuiFWRs",
        "outputId": "dbd12c8c-d9ca-4e8d-af6c-00173af6bbe3",
        "colab": {
          "base_uri": "https://localhost:8080/"
        }
      },
      "outputs": [
        {
          "output_type": "stream",
          "name": "stdout",
          "text": [
            "/content/data_science_using_python_labs/week02\n"
          ]
        }
      ],
      "source": [
        "%cd data_science_using_python_labs/week02"
      ]
    },
    {
      "cell_type": "code",
      "execution_count": 3,
      "metadata": {
        "id": "9MfAGvmZFWRt",
        "outputId": "55492dd6-4ebc-4e2b-c7bf-48ff91975eab",
        "colab": {
          "base_uri": "https://localhost:8080/"
        }
      },
      "outputs": [
        {
          "output_type": "stream",
          "name": "stdout",
          "text": [
            "Writing lab_string.py\n"
          ]
        }
      ],
      "source": [
        "%%writefile lab_string.py\n",
        "print (\"I'm a string, \")\n",
        "print ('said, \"A piece of data\"')"
      ]
    },
    {
      "cell_type": "code",
      "execution_count": 4,
      "metadata": {
        "id": "eP1XsRYyFWRt",
        "outputId": "6f170443-721c-4fcf-b9f6-03ca564af331",
        "colab": {
          "base_uri": "https://localhost:8080/"
        }
      },
      "outputs": [
        {
          "output_type": "stream",
          "name": "stdout",
          "text": [
            "\u001b[1m============================= test session starts ==============================\u001b[0m\n",
            "platform linux -- Python 3.7.13, pytest-3.6.4, py-1.11.0, pluggy-0.7.1\n",
            "rootdir: /content/data_science_using_python_labs/week02, inifile:\n",
            "plugins: typeguard-2.7.1\n",
            "\u001b[1m\rcollecting 0 items                                                             \u001b[0m\u001b[1m\rcollecting 1 item                                                              \u001b[0m\u001b[1m\rcollected 1 item                                                               \u001b[0m\n",
            "\n",
            "test_string.py .\u001b[36m                                                         [100%]\u001b[0m\n",
            "\n",
            "\u001b[32m\u001b[1m=========================== 1 passed in 0.03 seconds ===========================\u001b[0m\n"
          ]
        }
      ],
      "source": [
        "!pytest test_string.py"
      ]
    },
    {
      "cell_type": "code",
      "execution_count": 5,
      "metadata": {
        "id": "jo2Hr2bsFWRu",
        "outputId": "f2f5321d-0f9e-42d0-ef33-5baa7d61dc94",
        "colab": {
          "base_uri": "https://localhost:8080/"
        }
      },
      "outputs": [
        {
          "output_type": "stream",
          "name": "stdout",
          "text": [
            "Writing lab_variable_1.py\n"
          ]
        }
      ],
      "source": [
        "%%writefile lab_variable_1.py\n",
        "a=10\n",
        "b=10.0\n",
        "c=False"
      ]
    },
    {
      "cell_type": "code",
      "execution_count": 6,
      "metadata": {
        "id": "U7n1pGUpFWRu",
        "outputId": "3cfa6781-f4a0-44fa-826b-86824473ef7e",
        "colab": {
          "base_uri": "https://localhost:8080/"
        }
      },
      "outputs": [
        {
          "output_type": "stream",
          "name": "stdout",
          "text": [
            "\u001b[1m============================= test session starts ==============================\u001b[0m\n",
            "platform linux -- Python 3.7.13, pytest-3.6.4, py-1.11.0, pluggy-0.7.1\n",
            "rootdir: /content/data_science_using_python_labs/week02, inifile:\n",
            "plugins: typeguard-2.7.1\n",
            "\u001b[1m\rcollecting 0 items                                                             \u001b[0m\u001b[1m\rcollecting 1 item                                                              \u001b[0m\u001b[1m\rcollected 1 item                                                               \u001b[0m\n",
            "\n",
            "test_variable_1.py .\u001b[36m                                                     [100%]\u001b[0m\n",
            "\n",
            "\u001b[32m\u001b[1m=========================== 1 passed in 0.02 seconds ===========================\u001b[0m\n"
          ]
        }
      ],
      "source": [
        "!pytest test_variable_1.py"
      ]
    },
    {
      "cell_type": "code",
      "execution_count": 7,
      "metadata": {
        "id": "4UDNSqMcFWRv",
        "outputId": "3c66d539-0aa7-4632-8cb2-5e7e09c3872c",
        "colab": {
          "base_uri": "https://localhost:8080/"
        }
      },
      "outputs": [
        {
          "output_type": "stream",
          "name": "stdout",
          "text": [
            "Writing lab_variable_2.py\n"
          ]
        }
      ],
      "source": [
        "%%writefile lab_variable_2.py\n",
        "price=99.99\n",
        "quantity=5\n",
        "VAT=0.10\n",
        "total_before_vat = price*quantity\n",
        "total=total_before_vat + total_before_vat * VAT"
      ]
    },
    {
      "cell_type": "code",
      "execution_count": 8,
      "metadata": {
        "id": "9fmRtHiGFWRv",
        "outputId": "34593ac8-031b-4118-d0c2-6190611f61a2",
        "colab": {
          "base_uri": "https://localhost:8080/"
        }
      },
      "outputs": [
        {
          "output_type": "stream",
          "name": "stdout",
          "text": [
            "\u001b[1m============================= test session starts ==============================\u001b[0m\n",
            "platform linux -- Python 3.7.13, pytest-3.6.4, py-1.11.0, pluggy-0.7.1\n",
            "rootdir: /content/data_science_using_python_labs/week02, inifile:\n",
            "plugins: typeguard-2.7.1\n",
            "\u001b[1m\rcollecting 0 items                                                             \u001b[0m\u001b[1m\rcollecting 1 item                                                              \u001b[0m\u001b[1m\rcollected 1 item                                                               \u001b[0m\n",
            "\n",
            "test_variable_2.py .\u001b[36m                                                     [100%]\u001b[0m\n",
            "\n",
            "\u001b[32m\u001b[1m=========================== 1 passed in 0.02 seconds ===========================\u001b[0m\n"
          ]
        }
      ],
      "source": [
        "!pytest test_variable_2.py"
      ]
    },
    {
      "cell_type": "code",
      "execution_count": 9,
      "metadata": {
        "id": "GTrHQWdBFWRw",
        "outputId": "07df95ee-ef53-4ad6-d759-911b51cea8b4",
        "colab": {
          "base_uri": "https://localhost:8080/"
        }
      },
      "outputs": [
        {
          "output_type": "stream",
          "name": "stdout",
          "text": [
            "Writing lab_variable_3.py\n"
          ]
        }
      ],
      "source": [
        "%%writefile lab_variable_3.py\n",
        "def area_of_rectangle(length, breadth):\n",
        "    area = length * breadth\n",
        "    return area\n",
        "\n",
        "from math import pi\n",
        "def area_of_circle(radius):\n",
        "    area = pi * radius * radius\n",
        "    return area\n",
        "\n",
        "def area_of_triangle(base, height):\n",
        "    area = 0.5 * base * height\n",
        "    return area"
      ]
    },
    {
      "cell_type": "code",
      "execution_count": 10,
      "metadata": {
        "id": "fHOyWXSmFWRx",
        "outputId": "7ba29441-8aed-41c7-c504-79fb08f4e6e8",
        "colab": {
          "base_uri": "https://localhost:8080/"
        }
      },
      "outputs": [
        {
          "output_type": "stream",
          "name": "stdout",
          "text": [
            "\u001b[1m============================= test session starts ==============================\u001b[0m\n",
            "platform linux -- Python 3.7.13, pytest-3.6.4, py-1.11.0, pluggy-0.7.1\n",
            "rootdir: /content/data_science_using_python_labs/week02, inifile:\n",
            "plugins: typeguard-2.7.1\n",
            "\u001b[1m\rcollecting 0 items                                                             \u001b[0m\u001b[1m\rcollecting 3 items                                                             \u001b[0m\u001b[1m\rcollected 3 items                                                              \u001b[0m\n",
            "\n",
            "test_variable_3.py ...\u001b[36m                                                   [100%]\u001b[0m\n",
            "\n",
            "\u001b[32m\u001b[1m=========================== 3 passed in 0.03 seconds ===========================\u001b[0m\n"
          ]
        }
      ],
      "source": [
        "!pytest test_variable_3.py"
      ]
    },
    {
      "cell_type": "markdown",
      "metadata": {
        "id": "HeYy3Bi0FWRx"
      },
      "source": [
        "မမေ့အောင် String လေ့ကျင့်ခန်း နောက်တခု လုပ်ကြည့်ရအောင်။\n",
        "\n",
        "a ဆိုတဲ့ variable ထဲကို \"Alice\" ဆိုတဲ့ string ထည့်ပါ။ \n",
        "b ဆိုတဲ့ variable ထဲကို \"Bob\" ဆိုတဲ့ string ထည့်ပါ။ \n",
        "sym_key ဆိုတဲ့ variable ထဲကို \"symmetric_key\" ဆိုတဲ့ string ထည့်ပါ။\n",
        "b_sign ထဲကို \"bob's signature\", a_public ထဲကို \"alice' public key\", a_private ထဲကို \"alice' private key\" အသီးသီး ထည့်ပါ။\n",
        "\n",
        "ပြီးရင် အောက်ပါ message ကို print ထုတ်ပေးပါ။ (format method ကို သုံးပါ။)\n",
        "\n",
        "Now let’s say that Bob is a lawyer, and he wants to send a secret message 'hello A, from B' to Alice. He takes a box from his shelf, and which has a unique key (symmetric_key). He takes photograph of himself holding the message, and puts the message into the box with the photograph (bob's signature). Next, he takes a box that Alice send to him (alice' public key) and puts the secret key into the box. Now Bob cannot open any of the boxes. He then sends the two boxes to Alice. Alice takes the second box, and sources the key (alice' private key) to that box. She opens this box, and it contains the key for the first box, and then opens it. She then reads the message, and check the photograph."
      ]
    },
    {
      "cell_type": "code",
      "execution_count": 20,
      "metadata": {
        "id": "zaJu40VDFWRy",
        "outputId": "63af0ab2-579e-4964-bd9e-de268c6795f4",
        "colab": {
          "base_uri": "https://localhost:8080/"
        }
      },
      "outputs": [
        {
          "output_type": "stream",
          "name": "stdout",
          "text": [
            "Overwriting lab_string_2.py\n"
          ]
        }
      ],
      "source": [
        "%%writefile lab_string_2.py\n",
        "# write your program here\n",
        "a=\"Alice\"\n",
        "b=\"Bob\"\n",
        "sym_key=\"symmetric_key\"\n",
        "b_sign=\"bob's signature\"\n",
        "a_public=\"alice' public key\"\n",
        "a_private=\"alice' private key\"\n",
        "print (\"\"\"\n",
        "Now let’s say that {b} is a lawyer, and he wants to send a secret message 'hello A, from B' to {a}. \n",
        "He takes a box from his shelf, and which has a unique key ({sym_key}). He takes photograph of himself holding the message, \n",
        "and puts the message into the box with the photograph ({b_sign}). Next, he takes a box that {a} send to him ({a_public}) \n",
        "and puts the secret key into the box. Now {b} cannot open any of the boxes. He then sends the two boxes to {a}. \n",
        "{a} takes the second box, and sources the key ({a_private}) to that box. She opens this box, and it contains the key \n",
        "for the first box, and then opens it. She then reads the message, and check the photograph.\n",
        "\"\"\".format(a=a,b=b,sym_key=sym_key,b_sign=b_sign,a_public=a_public,a_private=a_private))"
      ]
    },
    {
      "cell_type": "code",
      "execution_count": 21,
      "metadata": {
        "id": "SLuPjhEpFWRy",
        "outputId": "7200e134-6b0d-431f-bf31-d2840f733a42",
        "colab": {
          "base_uri": "https://localhost:8080/"
        }
      },
      "outputs": [
        {
          "output_type": "stream",
          "name": "stdout",
          "text": [
            "\u001b[1m============================= test session starts ==============================\u001b[0m\n",
            "platform linux -- Python 3.7.13, pytest-3.6.4, py-1.11.0, pluggy-0.7.1\n",
            "rootdir: /content/data_science_using_python_labs/week02, inifile:\n",
            "plugins: typeguard-2.7.1\n",
            "\u001b[1m\rcollecting 0 items                                                             \u001b[0m\u001b[1m\rcollecting 1 item                                                              \u001b[0m\u001b[1m\rcollected 1 item                                                               \u001b[0m\n",
            "\n",
            "test_string_2.py .\u001b[36m                                                       [100%]\u001b[0m\n",
            "\n",
            "\u001b[32m\u001b[1m=========================== 1 passed in 0.01 seconds ===========================\u001b[0m\n"
          ]
        }
      ],
      "source": [
        "!pytest test_string_2.py"
      ]
    },
    {
      "cell_type": "markdown",
      "metadata": {
        "id": "W1Un7YoZFWRz"
      },
      "source": [
        "### String Arithmetics \n",
        "\n",
        "```python\n",
        "a = \"Hello\" + \" \" + \"World\" # concatenation of \"Hello\", \" \" and \"World\" will be in variable 'a'\n",
        "```\n",
        "\n",
        "So what happens when you add (+) a string with an integer ? \n",
        "\n",
        "Try it yourself: \n",
        "\n",
        "```python\n",
        "a = \"Hello \" + 42\n",
        "```"
      ]
    },
    {
      "cell_type": "code",
      "execution_count": 17,
      "metadata": {
        "id": "rox6mqWyFWRz",
        "outputId": "1a888b98-26fc-4886-f89a-9bd77c6dff20",
        "colab": {
          "base_uri": "https://localhost:8080/"
        }
      },
      "outputs": [
        {
          "output_type": "stream",
          "name": "stdout",
          "text": [
            "Hello 42\n"
          ]
        }
      ],
      "source": [
        "a = \"Hello \" + \"42\"\n",
        "print(a)"
      ]
    },
    {
      "cell_type": "markdown",
      "metadata": {
        "id": "6rthSIauFWRz"
      },
      "source": [
        "နောက်ထပ် string လေ့ကျင့်ခန်း တခု လုပ်ကြရအောင်။ ဒီလေ့ကျင့်ခန်းမှာ ... \n",
        "\n",
        "Variable 'i' ထဲကို 42 ကို ထည့်ပါ။ \n",
        "ပြီးတော့ \"The Ultimate Answer is <i ရဲ့ တန်ဖိုး>\" လို့ format method မသုံးပဲ ရိုက်ထုတ်ကြည့်ပါ။ \n",
        "\n",
        "> Hint: use function to convert primitive type"
      ]
    },
    {
      "cell_type": "code",
      "execution_count": null,
      "metadata": {
        "id": "Hp1N6OFbFWR0"
      },
      "outputs": [],
      "source": [
        "%%writefile lab_string_3.py\n",
        "# write your program here"
      ]
    },
    {
      "cell_type": "code",
      "execution_count": null,
      "metadata": {
        "id": "eveYgOvqFWR0"
      },
      "outputs": [],
      "source": [
        "!pytest test_string_3.py"
      ]
    },
    {
      "cell_type": "markdown",
      "metadata": {
        "id": "QY5_VcneFWR0"
      },
      "source": [
        "နောက်ဆုံး Quadratic Equation တွေကို ဖြေရှင်းတဲ့ program ကို ရေးကြည့်ရအောင်။ \n",
        "\n",
        "Quadratic Equation ဖြေရှင်းတဲ့ formula က \n",
        "\n",
        "Given $ax^2 + bx + c = 0$\n",
        "\n",
        "$x = \\frac{-b \\pm \\sqrt{b^2 - 4ac}}{2a}$\n",
        "\n",
        "Square root function `sqrt` ကို `math` module ကနေ import လုပ်နိုင်တယ်။\n",
        "\n",
        "```python\n",
        "from math import sqrt\n",
        "```"
      ]
    },
    {
      "cell_type": "code",
      "execution_count": 26,
      "metadata": {
        "id": "2zRj_N0eFWR0",
        "outputId": "067ad617-442b-4f6b-9108-109d5e44cfee",
        "colab": {
          "base_uri": "https://localhost:8080/"
        }
      },
      "outputs": [
        {
          "output_type": "stream",
          "name": "stdout",
          "text": [
            "Overwriting lab_variable_4.py\n"
          ]
        }
      ],
      "source": [
        "%%writefile lab_variable_4.py\n",
        "from math import sqrt\n",
        "def quad_formula(a, b, c):\n",
        "    x1 = (-b + sqrt(b * b - 4 * a * c)) / 2 * a #+\n",
        "    x2 = (-b - sqrt(b * b - 4 * a * c)) / 2 * a #-\n",
        "    return x1, x2"
      ]
    },
    {
      "cell_type": "code",
      "execution_count": 27,
      "metadata": {
        "id": "J_hyv9ttFWR1",
        "outputId": "6ae123ce-e89e-42a0-c7bd-022cdbe5c359",
        "colab": {
          "base_uri": "https://localhost:8080/"
        }
      },
      "outputs": [
        {
          "output_type": "stream",
          "name": "stdout",
          "text": [
            "\u001b[1m============================= test session starts ==============================\u001b[0m\n",
            "platform linux -- Python 3.7.13, pytest-3.6.4, py-1.11.0, pluggy-0.7.1\n",
            "rootdir: /content/data_science_using_python_labs/week02, inifile:\n",
            "plugins: typeguard-2.7.1\n",
            "\u001b[1m\rcollecting 0 items                                                             \u001b[0m\u001b[1m\rcollecting 0 items                                                             \u001b[0m\u001b[1m\rcollecting 1 item                                                              \u001b[0m\u001b[1m\rcollected 1 item                                                               \u001b[0m\n",
            "\n",
            "test_variable_4.py .\u001b[36m                                                     [100%]\u001b[0m\n",
            "\n",
            "\u001b[32m\u001b[1m=========================== 1 passed in 0.01 seconds ===========================\u001b[0m\n"
          ]
        }
      ],
      "source": [
        "!pytest test_variable_4.py"
      ]
    }
  ],
  "metadata": {
    "interpreter": {
      "hash": "3a9c1e998c7d6d5f29587b2c70e9bd488bb486b902354401efc27ca8457f04e9"
    },
    "kernelspec": {
      "display_name": "Python 3.7.11 ('py37-dsup')",
      "language": "python",
      "name": "python3"
    },
    "language_info": {
      "codemirror_mode": {
        "name": "ipython",
        "version": 3
      },
      "file_extension": ".py",
      "mimetype": "text/x-python",
      "name": "python",
      "nbconvert_exporter": "python",
      "pygments_lexer": "ipython3",
      "version": "3.7.11"
    },
    "orig_nbformat": 4,
    "colab": {
      "name": "03_strings_variables_part_2.ipynb",
      "provenance": []
    }
  },
  "nbformat": 4,
  "nbformat_minor": 0
}