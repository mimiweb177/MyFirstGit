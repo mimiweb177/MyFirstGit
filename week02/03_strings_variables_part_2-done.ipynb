{
  "cells": [
    {
      "cell_type": "markdown",
      "metadata": {
        "id": "QaQuyh5aOrSs"
      },
      "source": [
        "# String နဲ့ Variable တွေ အကြောင်း Part II\n",
        "\n",
        "String နဲ့ Variable တွေ အကြောင်းကို ခပ်သွက်သွက်လေး ပြန်ကြည့်ရအောင်။ အရင်ဆုံး lab တွေရဲ့ အဖြေကို အောက်မှာ ပေးထားမယ်။"
      ]
    },
    {
      "cell_type": "code",
      "execution_count": 44,
      "metadata": {
        "id": "Ir9KHA3wOrSv",
        "outputId": "f4318a46-5a40-4edd-950c-63ea477a448a",
        "colab": {
          "base_uri": "https://localhost:8080/"
        }
      },
      "outputs": [
        {
          "output_type": "stream",
          "name": "stdout",
          "text": [
            "fatal: destination path 'data_science_using_python_labs' already exists and is not an empty directory.\n"
          ]
        }
      ],
      "source": [
        "# ဒီ cell ကို run လိုက်ပါ။\n",
        "!git clone https://github.com/neolaw84/data_science_using_python_labs.git"
      ]
    },
    {
      "cell_type": "code",
      "execution_count": null,
      "metadata": {
        "id": "bGM4OCa_OrSx"
      },
      "outputs": [],
      "source": [
        "%cd data_science_using_python_labs/week02"
      ]
    },
    {
      "cell_type": "code",
      "execution_count": null,
      "metadata": {
        "id": "i-8-jPQsOrSx"
      },
      "outputs": [],
      "source": [
        "%%writefile lab_string.py\n",
        "print (\"I'm a string, \")\n",
        "print ('said, \"A piece of data\"')"
      ]
    },
    {
      "cell_type": "code",
      "execution_count": null,
      "metadata": {
        "id": "Snh3Bu2ROrSy"
      },
      "outputs": [],
      "source": [
        "!pytest test_string.py"
      ]
    },
    {
      "cell_type": "code",
      "execution_count": null,
      "metadata": {
        "id": "QCUXDeg-OrSy"
      },
      "outputs": [],
      "source": [
        "%%writefile lab_variable_1.py\n",
        "a=10\n",
        "b=10.0\n",
        "c=False"
      ]
    },
    {
      "cell_type": "code",
      "execution_count": null,
      "metadata": {
        "id": "UxmD_nLqOrSz"
      },
      "outputs": [],
      "source": [
        "!pytest test_variable_1.py"
      ]
    },
    {
      "cell_type": "code",
      "execution_count": null,
      "metadata": {
        "id": "CH8QgkvMOrSz"
      },
      "outputs": [],
      "source": [
        "%%writefile lab_variable_2.py\n",
        "price=99.99\n",
        "quantity=5\n",
        "VAT=0.10\n",
        "total_before_vat = price*quantity\n",
        "total=total_before_vat + total_before_vat * VAT"
      ]
    },
    {
      "cell_type": "code",
      "execution_count": null,
      "metadata": {
        "id": "e4_6-lslOrS0"
      },
      "outputs": [],
      "source": [
        "!pytest test_variable_2.py"
      ]
    },
    {
      "cell_type": "code",
      "execution_count": null,
      "metadata": {
        "id": "r3FshaHiOrS0"
      },
      "outputs": [],
      "source": [
        "%%writefile lab_variable_3.py\n",
        "def area_of_rectangle(length, breadth):\n",
        "    area = length * breadth\n",
        "    return area\n",
        "\n",
        "from math import pi\n",
        "def area_of_circle(radius):\n",
        "    area = pi * radius * radius\n",
        "    return area\n",
        "\n",
        "def area_of_triangle(base, height):\n",
        "    area = 0.5 * base * height\n",
        "    return area"
      ]
    },
    {
      "cell_type": "code",
      "execution_count": null,
      "metadata": {
        "id": "fnwKl9UTOrS1"
      },
      "outputs": [],
      "source": [
        "!pytest test_variable_3.py"
      ]
    },
    {
      "cell_type": "markdown",
      "metadata": {
        "id": "rl2zGqPVOrS1"
      },
      "source": [
        "မမေ့အောင် String လေ့ကျင့်ခန်း နောက်တခု လုပ်ကြည့်ရအောင်။\n",
        "\n",
        "a ဆိုတဲ့ variable ထဲကို \"Alice\" ဆိုတဲ့ string ထည့်ပါ။ \n",
        "b ဆိုတဲ့ variable ထဲကို \"Bob\" ဆိုတဲ့ string ထည့်ပါ။ \n",
        "sym_key ဆိုတဲ့ variable ထဲကို \"symmetric_key\" ဆိုတဲ့ string ထည့်ပါ။\n",
        "b_sign ထဲကို \"bob's signature\", a_public ထဲကို \"alice' public key\", a_private ထဲကို \"alice' private key\" အသီးသီး ထည့်ပါ။\n",
        "\n",
        "ပြီးရင် အောက်ပါ message ကို print ထုတ်ပေးပါ။ (format method ကို သုံးပါ။)\n",
        "\n",
        "Now let’s say that Bob is a lawyer, and he wants to send a secret message 'hello A, from B' to Alice. He takes a box from his shelf, and which has a unique key (symmetric_key). He takes photograph of himself holding the message, and puts the message into the box with the photograph (bob's signature). Next, he takes a box that Alice send to him (alice' public key) and puts the secret key into the box. Now Bob cannot open any of the boxes. He then sends the two boxes to Alice. Alice takes the second box, and sources the key (alice' private key) to that box. She opens this box, and it contains the key for the first box, and then opens it. She then reads the message, and check the photograph."
      ]
    },
    {
      "cell_type": "code",
      "source": [
        "%pwd"
      ],
      "metadata": {
        "id": "nJVcQhQ-ZBOi",
        "outputId": "9e6ab04b-8e4f-4fe5-8e2c-33f0c8fed723",
        "colab": {
          "base_uri": "https://localhost:8080/",
          "height": 53
        }
      },
      "execution_count": 45,
      "outputs": [
        {
          "output_type": "execute_result",
          "data": {
            "text/plain": [
              "'/content/data_science_using_python_labs/week02/data_science_using_python_labs/week02'"
            ],
            "application/vnd.google.colaboratory.intrinsic+json": {
              "type": "string"
            }
          },
          "metadata": {},
          "execution_count": 45
        }
      ]
    },
    {
      "cell_type": "code",
      "source": [
        "print(\"\"\" \n",
        "Now let’s say that {b} is a lawyer, and he wants to send a secret message 'hello A, \n",
        "from B' to {a}. He takes a box from his shelf, and which has a unique key {sym_key}. \n",
        "He takes photograph of himself holding the message, and puts the message into the box with \n",
        "the photograph {b_sign}. Next, he takes a box that Alice send to him \n",
        "{a_public}and puts the secret key into the box. Now Bob cannot open any of the\n",
        "boxes. He then sends the two boxes to Alice. Alice takes the second box, and sources\n",
        "the key {a_private} to that box. She opens this box, and it contains the key\n",
        "for the first box, and then opens it. She then reads the message, and check the photograph.\n",
        "\"\"\".format(a = \"Alice\", b = \"Bob\", sym_key = \"symmetric_key\", b_sign = \"bob's signature\", a_public = \"alice' public key\", a_private = \"alice' private key\"))"
      ],
      "metadata": {
        "id": "cbpDuzytasbi",
        "outputId": "ca53963e-9c30-4ffa-edfb-9edde610f547",
        "colab": {
          "base_uri": "https://localhost:8080/"
        }
      },
      "execution_count": 48,
      "outputs": [
        {
          "output_type": "stream",
          "name": "stdout",
          "text": [
            " \n",
            "Now let’s say that Bob is a lawyer, and he wants to send a secret message 'hello A, \n",
            "from B' to Alice. He takes a box from his shelf, and which has a unique key symmetric_key. \n",
            "He takes photograph of himself holding the message, and puts the message into the box with \n",
            "the photograph bob's signature. Next, he takes a box that Alice send to him \n",
            "alice' public keyand puts the secret key into the box. Now Bob cannot open any of the\n",
            "boxes. He then sends the two boxes to Alice. Alice takes the second box, and sources\n",
            "the key alice' private key to that box. She opens this box, and it contains the key\n",
            "for the first box, and then opens it. She then reads the message, and check the photograph.\n",
            "\n"
          ]
        }
      ]
    },
    {
      "cell_type": "code",
      "execution_count": 46,
      "metadata": {
        "id": "1e7Mfy87OrS2",
        "outputId": "08ad2bde-c7e4-4e57-de71-3d7027f322e9",
        "colab": {
          "base_uri": "https://localhost:8080/"
        }
      },
      "outputs": [
        {
          "output_type": "stream",
          "name": "stdout",
          "text": [
            "Overwriting lab_string_2.py\n"
          ]
        }
      ],
      "source": [
        "%%writefile lab_string_2.py\n",
        "# write your program here\n",
        "print(\"\"\" \n",
        "Now let’s say that {b} is a lawyer, and he wants to send a secret message 'hello A, \n",
        "from B' to {a}. He takes a box from his shelf, and which has a unique key {sym_key}. \n",
        "He takes photograph of himself holding the message, and puts the message into the box with \n",
        "the photograph {b_sign}. Next, he takes a box that Alice send to him \n",
        "{a_public}and puts the secret key into the box. Now Bob cannot open any of the\n",
        "boxes. He then sends the two boxes to Alice. Alice takes the second box, and sources\n",
        "the key {a_private} to that box. She opens this box, and it contains the key\n",
        "for the first box, and then opens it. She then reads the message, and check the photograph.\n",
        "\"\"\".format(a = \"Alice\", b = \"Bob\", sym_key = \"symmetric_key\", b_sign = \"bob's signature\", a_public = \"alice' public key\", a_private = \"alice' private key\"))"
      ]
    },
    {
      "cell_type": "code",
      "execution_count": 47,
      "metadata": {
        "id": "lj1AcFeLOrS2",
        "outputId": "bbf640f5-4d68-4e5b-d330-cd0a1424c6bb",
        "colab": {
          "base_uri": "https://localhost:8080/"
        }
      },
      "outputs": [
        {
          "output_type": "stream",
          "name": "stdout",
          "text": [
            "\u001b[1m============================= test session starts ==============================\u001b[0m\n",
            "platform linux -- Python 3.7.13, pytest-3.6.4, py-1.11.0, pluggy-0.7.1\n",
            "rootdir: /content/data_science_using_python_labs/week02/data_science_using_python_labs/week02, inifile:\n",
            "plugins: typeguard-2.7.1\n",
            "\u001b[1m\rcollecting 0 items                                                             \u001b[0m\u001b[1m\rcollecting 1 item                                                              \u001b[0m\u001b[1m\rcollected 1 item                                                               \u001b[0m\n",
            "\n",
            "test_string_2.py F\u001b[36m                                                       [100%]\u001b[0m\n",
            "\n",
            "=================================== FAILURES ===================================\n",
            "\u001b[31m\u001b[1m________________________________ test_string_2 _________________________________\u001b[0m\n",
            "\n",
            "capsys = <_pytest.capture.CaptureFixture object at 0x7f7ca000bf10>\n",
            "\n",
            "\u001b[1m    def test_string_2(capsys):\u001b[0m\n",
            "\u001b[1m        import lab_string_2 as ls2\u001b[0m\n",
            "\u001b[1m        captured = capsys.readouterr()\u001b[0m\n",
            "\u001b[1m        output = captured.out\u001b[0m\n",
            "\u001b[1m        output = output.strip()\u001b[0m\n",
            "\u001b[1m        output = output.replace(\"\\n\", \" \")\u001b[0m\n",
            "\u001b[1m        output = output.replace(\"  \", \" \")\u001b[0m\n",
            "\u001b[1m        output = output.replace(\"  \", \" \").replace(\"  \", \" \")\u001b[0m\n",
            "\u001b[1m        to_check = \"\"\"Now let’s say that Bob is a lawyer, and he wants to send a secret message\u001b[0m\n",
            "\u001b[1m    'hello A, from B' to Alice. He takes a box from his shelf, and which has a\u001b[0m\n",
            "\u001b[1m    unique key (symmetric_key). He takes photograph of himself holding the message,\u001b[0m\n",
            "\u001b[1m    and puts the message into the box with the photograph (bob's signature). Next,\u001b[0m\n",
            "\u001b[1m    he takes a box that Alice send to him (alice' public key) and puts the secret\u001b[0m\n",
            "\u001b[1m    key into the box. Now Bob cannot open any of the boxes. He then sends the two\u001b[0m\n",
            "\u001b[1m    boxes to Alice. Alice takes the second box, and sources the key (alice' private key)\u001b[0m\n",
            "\u001b[1m    to that box. She opens this box, and it contains the key for the first box, and then\u001b[0m\n",
            "\u001b[1m    opens it. She then reads the message, and check the photograph.\"\"\" \\\u001b[0m\n",
            "\u001b[1m        .strip().replace(\"\\n\", \" \") \\\u001b[0m\n",
            "\u001b[1m        .replace(\"  \", \" \").replace(\"  \", \" \") \\\u001b[0m\n",
            "\u001b[1m        .replace(\"  \", \" \").replace(\"  \", \" \")\u001b[0m\n",
            "\u001b[1m        print (to_check)\u001b[0m\n",
            "\u001b[1m        print (output)\u001b[0m\n",
            "\u001b[1m>       assert to_check == output\u001b[0m\n",
            "\u001b[1m\u001b[31mE       AssertionError: assert 'Now let’s sa...e photograph.' == 'Now let’s say...e photograph.'\u001b[0m\n",
            "\u001b[1m\u001b[31mE         Skipping 150 identical leading characters in diff, use -v to show\u001b[0m\n",
            "\u001b[1m\u001b[31mE         - nique key (symmetric_key). He takes photograph of himself holding the message, and puts the message into the box with the photograph (bob's signature). Next, he takes a box that Alice send to him (alice' public key) and puts the secret key into the box. Now Bob cannot open any of the boxes. He then sends the two boxes to Alice. Alice takes the second box, and sources the key (alice' private key) to that box. She opens this box, and it contains the key for the first box, and then opens it. She then reads...\u001b[0m\n",
            "\u001b[1m\u001b[31mE         \u001b[0m\n",
            "\u001b[1m\u001b[31mE         ...Full output truncated (4 lines hidden), use '-vv' to show\u001b[0m\n",
            "\n",
            "\u001b[1m\u001b[31mtest_string_2.py\u001b[0m:24: AssertionError\n",
            "----------------------------- Captured stdout call -----------------------------\n",
            "Now let’s say that Bob is a lawyer, and he wants to send a secret message 'hello A, from B' to Alice. He takes a box from his shelf, and which has a unique key (symmetric_key). He takes photograph of himself holding the message, and puts the message into the box with the photograph (bob's signature). Next, he takes a box that Alice send to him (alice' public key) and puts the secret key into the box. Now Bob cannot open any of the boxes. He then sends the two boxes to Alice. Alice takes the second box, and sources the key (alice' private key) to that box. She opens this box, and it contains the key for the first box, and then opens it. She then reads the message, and check the photograph.\n",
            "Now let’s say that Bob is a lawyer, and he wants to send a secret message 'hello A, from B' to Alice. He takes a box from his shelf, and which has a unique key symmetric_key. He takes photograph of himself holding the message, and puts the message into the box with the photograph bob's signature. Next, he takes a box that Alice send to him alice' public keyand puts the secret key into the box. Now Bob cannot open any of the boxes. He then sends the two boxes to Alice. Alice takes the second box, and sources the key alice' private key to that box. She opens this box, and it contains the key for the first box, and then opens it. She then reads the message, and check the photograph.\n",
            "\u001b[31m\u001b[1m=========================== 1 failed in 0.03 seconds ===========================\u001b[0m\n"
          ]
        }
      ],
      "source": [
        "!pytest test_string_2.py"
      ]
    },
    {
      "cell_type": "markdown",
      "metadata": {
        "id": "0A5s2kUIOrS3"
      },
      "source": [
        "### String Arithmetics \n",
        "\n",
        "```python\n",
        "a = \"Hello\" + \" \" + \"World\" # concatenation of \"Hello\", \" \" and \"World\" will be in variable 'a'\n",
        "```\n",
        "\n",
        "So what happens when you add (+) a string with an integer ? \n",
        "\n",
        "Try it yourself: \n",
        "\n",
        "```python\n",
        "a = \"Hello \" + 42\n",
        "```"
      ]
    },
    {
      "cell_type": "code",
      "execution_count": 58,
      "metadata": {
        "id": "3g-VTIaqOrS3",
        "outputId": "ef4e343d-d364-4130-98e8-6621806954be",
        "colab": {
          "base_uri": "https://localhost:8080/"
        }
      },
      "outputs": [
        {
          "output_type": "stream",
          "name": "stdout",
          "text": [
            "Hello 42\n"
          ]
        }
      ],
      "source": [
        "a = \"Hello \" + \"42\"\n",
        "print (a)"
      ]
    },
    {
      "cell_type": "markdown",
      "metadata": {
        "id": "KiBHOeFGOrS3"
      },
      "source": [
        "နောက်ထပ် string လေ့ကျင့်ခန်း တခု လုပ်ကြရအောင်။ ဒီလေ့ကျင့်ခန်းမှာ ... \n",
        "\n",
        "Variable 'i' ထဲကို 42 ကို ထည့်ပါ။ \n",
        "ပြီးတော့ \"The Ultimate Answer is <i ရဲ့ တန်ဖိုး>\" လို့ format method မသုံးပဲ ရိုက်ထုတ်ကြည့်ပါ။ \n",
        "\n",
        "> Hint: use function to convert primitive type"
      ]
    },
    {
      "cell_type": "code",
      "execution_count": 80,
      "metadata": {
        "id": "4AkSFULqOrS4",
        "outputId": "1b5efc79-bb53-4dc7-bc4b-4f8817e6bd1b",
        "colab": {
          "base_uri": "https://localhost:8080/"
        }
      },
      "outputs": [
        {
          "output_type": "stream",
          "name": "stdout",
          "text": [
            "Overwriting lab_string_3.py\n"
          ]
        }
      ],
      "source": [
        "%%writefile lab_string_3.py\n",
        "# write your program here\n",
        "i = 42\n",
        "print(\"The Ultimate Answer is \" + str(i))\n"
      ]
    },
    {
      "cell_type": "code",
      "execution_count": 81,
      "metadata": {
        "id": "ng3ru7JiOrS4",
        "outputId": "86479071-dd1f-4c82-e91d-e2db6efcf65a",
        "colab": {
          "base_uri": "https://localhost:8080/"
        }
      },
      "outputs": [
        {
          "output_type": "stream",
          "name": "stdout",
          "text": [
            "\u001b[1m============================= test session starts ==============================\u001b[0m\n",
            "platform linux -- Python 3.7.13, pytest-3.6.4, py-1.11.0, pluggy-0.7.1\n",
            "rootdir: /content/data_science_using_python_labs/week02/data_science_using_python_labs/week02, inifile:\n",
            "plugins: typeguard-2.7.1\n",
            "\u001b[1m\rcollecting 0 items                                                             \u001b[0m\u001b[1m\rcollecting 1 item                                                              \u001b[0m\u001b[1m\rcollected 1 item                                                               \u001b[0m\n",
            "\n",
            "test_string_3.py .\u001b[36m                                                       [100%]\u001b[0m\n",
            "\n",
            "\u001b[32m\u001b[1m=========================== 1 passed in 0.01 seconds ===========================\u001b[0m\n"
          ]
        }
      ],
      "source": [
        "!pytest test_string_3.py"
      ]
    },
    {
      "cell_type": "markdown",
      "metadata": {
        "id": "qL3zd0v6OrS4"
      },
      "source": [
        "နောက်ဆုံး Quadratic Equation တွေကို ဖြေရှင်းတဲ့ program ကို ရေးကြည့်ရအောင်။ \n",
        "\n",
        "Quadratic Equation ဖြေရှင်းတဲ့ formula က \n",
        "\n",
        "Given $ax^2 + bx + c = 0$\n",
        "\n",
        "$x = \\frac{-b \\pm \\sqrt{b^2 - 4ac}}{2a}$\n",
        "\n",
        "Square root function `sqrt` ကို `math` module ကနေ import လုပ်နိုင်တယ်။\n",
        "\n",
        "```python\n",
        "from math import sqrt\n",
        "```"
      ]
    },
    {
      "cell_type": "code",
      "source": [
        "from math import sqrt\n",
        "def quad_formula(a, b, c):\n",
        "    x1 = -b + sqrt(b * b - 4 * a * c) / 2 * a #+\n",
        "    x2 = -b - sqrt(b * b - 4 * a * c) / 2 * a #-\n",
        "    return x1, x2\n"
      ],
      "metadata": {
        "id": "dwIRN71RfDcG"
      },
      "execution_count": 84,
      "outputs": []
    },
    {
      "cell_type": "code",
      "execution_count": 87,
      "metadata": {
        "id": "85uYTkkZOrS4",
        "outputId": "30fb3888-484a-4cc7-bf4f-962090b99da2",
        "colab": {
          "base_uri": "https://localhost:8080/"
        }
      },
      "outputs": [
        {
          "output_type": "stream",
          "name": "stdout",
          "text": [
            "Overwriting lab_variable_4.py\n"
          ]
        }
      ],
      "source": [
        "%%writefile lab_variable_4.py\n",
        "from math import sqrt\n",
        "def quad_formula(a, b, c):\n",
        "    x1 = (-b + sqrt(b * b - 4 * a * c)) / 2 * a #+\n",
        "    x2 = (-b - sqrt(b * b - 4 * a * c)) / 2 * a #-\n",
        "    return x1, x2"
      ]
    },
    {
      "cell_type": "code",
      "execution_count": 88,
      "metadata": {
        "id": "kQItHJ69OrS5",
        "outputId": "79026536-e147-476e-898a-b4ae5af93c01",
        "colab": {
          "base_uri": "https://localhost:8080/"
        }
      },
      "outputs": [
        {
          "output_type": "stream",
          "name": "stdout",
          "text": [
            "\u001b[1m============================= test session starts ==============================\u001b[0m\n",
            "platform linux -- Python 3.7.13, pytest-3.6.4, py-1.11.0, pluggy-0.7.1\n",
            "rootdir: /content/data_science_using_python_labs/week02/data_science_using_python_labs/week02, inifile:\n",
            "plugins: typeguard-2.7.1\n",
            "\u001b[1m\rcollecting 0 items                                                             \u001b[0m\u001b[1m\rcollecting 0 items                                                             \u001b[0m\u001b[1m\rcollecting 1 item                                                              \u001b[0m\u001b[1m\rcollected 1 item                                                               \u001b[0m\n",
            "\n",
            "test_variable_4.py .\u001b[36m                                                     [100%]\u001b[0m\n",
            "\n",
            "\u001b[32m\u001b[1m=========================== 1 passed in 0.01 seconds ===========================\u001b[0m\n"
          ]
        }
      ],
      "source": [
        "!pytest test_variable_4.py"
      ]
    }
  ],
  "metadata": {
    "interpreter": {
      "hash": "3a9c1e998c7d6d5f29587b2c70e9bd488bb486b902354401efc27ca8457f04e9"
    },
    "kernelspec": {
      "display_name": "Python 3.7.11 ('py37-dsup')",
      "language": "python",
      "name": "python3"
    },
    "language_info": {
      "codemirror_mode": {
        "name": "ipython",
        "version": 3
      },
      "file_extension": ".py",
      "mimetype": "text/x-python",
      "name": "python",
      "nbconvert_exporter": "python",
      "pygments_lexer": "ipython3",
      "version": "3.7.11"
    },
    "orig_nbformat": 4,
    "colab": {
      "name": "03_strings_variables_part_2.ipynb",
      "provenance": []
    }
  },
  "nbformat": 4,
  "nbformat_minor": 0
}