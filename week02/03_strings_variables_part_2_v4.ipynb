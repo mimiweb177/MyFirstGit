{
  "cells": [
    {
      "cell_type": "markdown",
      "metadata": {
        "id": "view-in-github",
        "colab_type": "text"
      },
      "source": [
        "<a href=\"https://colab.research.google.com/github/mimiweb177/MyFirstGit/blob/main/week02/03_strings_variables_part_2_v4.ipynb\" target=\"_parent\"><img src=\"https://colab.research.google.com/assets/colab-badge.svg\" alt=\"Open In Colab\"/></a>"
      ]
    },
    {
      "cell_type": "markdown",
      "metadata": {
        "id": "yo3ayMGbJ8N_"
      },
      "source": [
        "# String နဲ့ Variable တွေ အကြောင်း Part II\n",
        "\n",
        "String နဲ့ Variable တွေ အကြောင်းကို ခပ်သွက်သွက်လေး ပြန်ကြည့်ရအောင်။ အရင်ဆုံး lab တွေရဲ့ အဖြေကို အောက်မှာ ပေးထားမယ်။"
      ]
    },
    {
      "cell_type": "code",
      "execution_count": 2,
      "metadata": {
        "id": "8EMhWS5GJ8OD",
        "outputId": "d707b21d-c330-4741-b7ad-c9cb7fea089c",
        "colab": {
          "base_uri": "https://localhost:8080/"
        }
      },
      "outputs": [
        {
          "output_type": "stream",
          "name": "stdout",
          "text": [
            "Cloning into 'data_science_using_python_labs'...\n",
            "remote: Enumerating objects: 89, done.\u001b[K\n",
            "remote: Counting objects: 100% (89/89), done.\u001b[K\n",
            "remote: Compressing objects: 100% (65/65), done.\u001b[K\n",
            "remote: Total 89 (delta 47), reused 60 (delta 22), pack-reused 0\u001b[K\n",
            "Unpacking objects: 100% (89/89), done.\n"
          ]
        }
      ],
      "source": [
        "# ဒီ cell ကို run လိုက်ပါ။\n",
        "!git clone https://github.com/neolaw84/data_science_using_python_labs.git"
      ]
    },
    {
      "cell_type": "code",
      "execution_count": null,
      "metadata": {
        "id": "CESVIqBfJ8OE",
        "outputId": "297a8693-8cbf-40ad-ef79-bcad21ba786f",
        "colab": {
          "base_uri": "https://localhost:8080/"
        }
      },
      "outputs": [
        {
          "output_type": "stream",
          "name": "stdout",
          "text": [
            "/content/data_science_using_python_labs/week02/data_science_using_python_labs/week02\n"
          ]
        }
      ],
      "source": [
        "%cd data_science_using_python_labs/week02"
      ]
    },
    {
      "cell_type": "code",
      "execution_count": null,
      "metadata": {
        "id": "3rZN1FWxJ8OE",
        "outputId": "fbe63aa0-b500-408a-d12e-9c0ee567b5fc",
        "colab": {
          "base_uri": "https://localhost:8080/"
        }
      },
      "outputs": [
        {
          "output_type": "stream",
          "name": "stdout",
          "text": [
            "Writing lab_string.py\n"
          ]
        }
      ],
      "source": [
        "%%writefile lab_string.py\n",
        "print (\"I'm a string, \")\n",
        "print ('said, \"A piece of data\"')"
      ]
    },
    {
      "cell_type": "code",
      "execution_count": null,
      "metadata": {
        "id": "6dsZRHFdJ8OF",
        "outputId": "28947dec-a7d2-4e4a-b64a-efaf8001909f",
        "colab": {
          "base_uri": "https://localhost:8080/"
        }
      },
      "outputs": [
        {
          "output_type": "stream",
          "name": "stdout",
          "text": [
            "\u001b[1m============================= test session starts ==============================\u001b[0m\n",
            "platform linux -- Python 3.7.13, pytest-3.6.4, py-1.11.0, pluggy-0.7.1\n",
            "rootdir: /content/data_science_using_python_labs/week02/data_science_using_python_labs/week02, inifile:\n",
            "plugins: typeguard-2.7.1\n",
            "\u001b[1m\rcollecting 0 items                                                             \u001b[0m\u001b[1m\rcollecting 1 item                                                              \u001b[0m\u001b[1m\rcollected 1 item                                                               \u001b[0m\n",
            "\n",
            "test_string.py .\u001b[36m                                                         [100%]\u001b[0m\n",
            "\n",
            "\u001b[32m\u001b[1m=========================== 1 passed in 0.02 seconds ===========================\u001b[0m\n"
          ]
        }
      ],
      "source": [
        "!pytest test_string.py"
      ]
    },
    {
      "cell_type": "code",
      "execution_count": null,
      "metadata": {
        "id": "plS1GI9mJ8OF",
        "outputId": "21e5f815-3704-4445-e4ea-94fac9082f01",
        "colab": {
          "base_uri": "https://localhost:8080/"
        }
      },
      "outputs": [
        {
          "output_type": "stream",
          "name": "stdout",
          "text": [
            "Writing lab_variable_1.py\n"
          ]
        }
      ],
      "source": [
        "%%writefile lab_variable_1.py\n",
        "a=10\n",
        "b=10.0\n",
        "c=False"
      ]
    },
    {
      "cell_type": "code",
      "execution_count": null,
      "metadata": {
        "id": "hsheFl7sJ8OG",
        "outputId": "9909c263-a5f9-4982-d224-4bc5622f86fd",
        "colab": {
          "base_uri": "https://localhost:8080/"
        }
      },
      "outputs": [
        {
          "output_type": "stream",
          "name": "stdout",
          "text": [
            "\u001b[1m============================= test session starts ==============================\u001b[0m\n",
            "platform linux -- Python 3.7.13, pytest-3.6.4, py-1.11.0, pluggy-0.7.1\n",
            "rootdir: /content/data_science_using_python_labs/week02/data_science_using_python_labs/week02, inifile:\n",
            "plugins: typeguard-2.7.1\n",
            "\u001b[1m\rcollecting 0 items                                                             \u001b[0m\u001b[1m\rcollecting 1 item                                                              \u001b[0m\u001b[1m\rcollected 1 item                                                               \u001b[0m\n",
            "\n",
            "test_variable_1.py .\u001b[36m                                                     [100%]\u001b[0m\n",
            "\n",
            "\u001b[32m\u001b[1m=========================== 1 passed in 0.02 seconds ===========================\u001b[0m\n"
          ]
        }
      ],
      "source": [
        "!pytest test_variable_1.py"
      ]
    },
    {
      "cell_type": "code",
      "execution_count": null,
      "metadata": {
        "id": "krgXCS_VJ8OG",
        "outputId": "7bb6f393-823b-4d92-82bf-7c42508cc99e",
        "colab": {
          "base_uri": "https://localhost:8080/"
        }
      },
      "outputs": [
        {
          "output_type": "stream",
          "name": "stdout",
          "text": [
            "Writing lab_variable_2.py\n"
          ]
        }
      ],
      "source": [
        "%%writefile lab_variable_2.py\n",
        "price=99.99\n",
        "quantity=5\n",
        "VAT=0.10\n",
        "total_before_vat = price*quantity\n",
        "total=total_before_vat + total_before_vat * VAT"
      ]
    },
    {
      "cell_type": "code",
      "execution_count": null,
      "metadata": {
        "id": "C-HwBEESJ8OH",
        "outputId": "d7f11abe-4293-4b81-c284-6029b23255ec",
        "colab": {
          "base_uri": "https://localhost:8080/"
        }
      },
      "outputs": [
        {
          "output_type": "stream",
          "name": "stdout",
          "text": [
            "\u001b[1m============================= test session starts ==============================\u001b[0m\n",
            "platform linux -- Python 3.7.13, pytest-3.6.4, py-1.11.0, pluggy-0.7.1\n",
            "rootdir: /content/data_science_using_python_labs/week02/data_science_using_python_labs/week02, inifile:\n",
            "plugins: typeguard-2.7.1\n",
            "\u001b[1m\rcollecting 0 items                                                             \u001b[0m\u001b[1m\rcollecting 1 item                                                              \u001b[0m\u001b[1m\rcollected 1 item                                                               \u001b[0m\n",
            "\n",
            "test_variable_2.py .\u001b[36m                                                     [100%]\u001b[0m\n",
            "\n",
            "\u001b[32m\u001b[1m=========================== 1 passed in 0.02 seconds ===========================\u001b[0m\n"
          ]
        }
      ],
      "source": [
        "!pytest test_variable_2.py"
      ]
    },
    {
      "cell_type": "code",
      "execution_count": null,
      "metadata": {
        "id": "y_1chJO5J8OI",
        "outputId": "1b03b462-c7c4-448f-c802-52497a309022",
        "colab": {
          "base_uri": "https://localhost:8080/"
        }
      },
      "outputs": [
        {
          "output_type": "stream",
          "name": "stdout",
          "text": [
            "Writing lab_variable_3.py\n"
          ]
        }
      ],
      "source": [
        "%%writefile lab_variable_3.py\n",
        "def area_of_rectangle(length, breadth):\n",
        "    area = length * breadth\n",
        "    return area\n",
        "\n",
        "from math import pi\n",
        "def area_of_circle(radius):\n",
        "    area = pi * radius * radius\n",
        "    return area\n",
        "\n",
        "def area_of_triangle(base, height):\n",
        "    area = 0.5 * base * height\n",
        "    return area"
      ]
    },
    {
      "cell_type": "code",
      "execution_count": null,
      "metadata": {
        "id": "4_cMPvnmJ8OI",
        "outputId": "1b84b1df-19b5-47ae-a6d8-a0f37431d3e0",
        "colab": {
          "base_uri": "https://localhost:8080/"
        }
      },
      "outputs": [
        {
          "output_type": "stream",
          "name": "stdout",
          "text": [
            "\u001b[1m============================= test session starts ==============================\u001b[0m\n",
            "platform linux -- Python 3.7.13, pytest-3.6.4, py-1.11.0, pluggy-0.7.1\n",
            "rootdir: /content/data_science_using_python_labs/week02/data_science_using_python_labs/week02, inifile:\n",
            "plugins: typeguard-2.7.1\n",
            "\u001b[1m\rcollecting 0 items                                                             \u001b[0m\u001b[1m\rcollecting 3 items                                                             \u001b[0m\u001b[1m\rcollected 3 items                                                              \u001b[0m\n",
            "\n",
            "test_variable_3.py ...\u001b[36m                                                   [100%]\u001b[0m\n",
            "\n",
            "\u001b[32m\u001b[1m=========================== 3 passed in 0.03 seconds ===========================\u001b[0m\n"
          ]
        }
      ],
      "source": [
        "!pytest test_variable_3.py"
      ]
    },
    {
      "cell_type": "markdown",
      "metadata": {
        "id": "tUK6tvRQJ8OJ"
      },
      "source": [
        "မမေ့အောင် String လေ့ကျင့်ခန်း နောက်တခု လုပ်ကြည့်ရအောင်။\n",
        "\n",
        "a ဆိုတဲ့ variable ထဲကို \"Alice\" ဆိုတဲ့ string ထည့်ပါ။ \n",
        "b ဆိုတဲ့ variable ထဲကို \"Bob\" ဆိုတဲ့ string ထည့်ပါ။ \n",
        "sym_key ဆိုတဲ့ variable ထဲကို \"symmetric_key\" ဆိုတဲ့ string ထည့်ပါ။\n",
        "b_sign ထဲကို \"bob's signature\", a_public ထဲကို \"alice' public key\", a_private ထဲကို \"alice' private key\" အသီးသီး ထည့်ပါ။\n",
        "\n",
        "ပြီးရင် အောက်ပါ message ကို print ထုတ်ပေးပါ။ (format method ကို သုံးပါ။)\n",
        "\n",
        "Now let’s say that Bob is a lawyer, and he wants to send a secret message 'hello A, from B' to Alice. He takes a box from his shelf, and which has a unique key (symmetric_key). He takes photograph of himself holding the message, and puts the message into the box with the photograph (bob's signature). Next, he takes a box that Alice send to him (alice' public key) and puts the secret key into the box. Now Bob cannot open any of the boxes. He then sends the two boxes to Alice. Alice takes the second box, and sources the key (alice' private key) to that box. She opens this box, and it contains the key for the first box, and then opens it. She then reads the message, and check the photograph."
      ]
    },
    {
      "cell_type": "code",
      "source": [
        "fname = \"John\"\n",
        "age = 36\n",
        "txt1 = \"My name is {fname}, I'm {age}\".format(fname , age)\n",
        "print(txt1)"
      ],
      "metadata": {
        "id": "-ho9ou3FNsCC",
        "outputId": "0835e254-6535-4808-aaf1-8f82923c49c6",
        "colab": {
          "base_uri": "https://localhost:8080/",
          "height": 222
        }
      },
      "execution_count": null,
      "outputs": [
        {
          "output_type": "error",
          "ename": "KeyError",
          "evalue": "ignored",
          "traceback": [
            "\u001b[0;31m---------------------------------------------------------------------------\u001b[0m",
            "\u001b[0;31mKeyError\u001b[0m                                  Traceback (most recent call last)",
            "\u001b[0;32m<ipython-input-35-debdac4c4252>\u001b[0m in \u001b[0;36m<module>\u001b[0;34m()\u001b[0m\n\u001b[1;32m      1\u001b[0m \u001b[0mfname\u001b[0m \u001b[0;34m=\u001b[0m \u001b[0;34m\"John\"\u001b[0m\u001b[0;34m\u001b[0m\u001b[0;34m\u001b[0m\u001b[0m\n\u001b[1;32m      2\u001b[0m \u001b[0mage\u001b[0m \u001b[0;34m=\u001b[0m \u001b[0;36m36\u001b[0m\u001b[0;34m\u001b[0m\u001b[0;34m\u001b[0m\u001b[0m\n\u001b[0;32m----> 3\u001b[0;31m \u001b[0mtxt1\u001b[0m \u001b[0;34m=\u001b[0m \u001b[0;34m\"My name is {fname}, I'm {age}\"\u001b[0m\u001b[0;34m.\u001b[0m\u001b[0mformat\u001b[0m\u001b[0;34m(\u001b[0m\u001b[0mfname\u001b[0m \u001b[0;34m,\u001b[0m \u001b[0mage\u001b[0m\u001b[0;34m)\u001b[0m\u001b[0;34m\u001b[0m\u001b[0;34m\u001b[0m\u001b[0m\n\u001b[0m\u001b[1;32m      4\u001b[0m \u001b[0mprint\u001b[0m\u001b[0;34m(\u001b[0m\u001b[0mtxt1\u001b[0m\u001b[0;34m)\u001b[0m\u001b[0;34m\u001b[0m\u001b[0;34m\u001b[0m\u001b[0m\n",
            "\u001b[0;31mKeyError\u001b[0m: 'fname'"
          ]
        }
      ]
    },
    {
      "cell_type": "code",
      "source": [
        "# Python program to print multiple variables\n",
        "# using format() method\n",
        "\n",
        "name = \"Mike\"\n",
        "age = 21\n",
        "country = \"USA\"\n",
        "\n",
        "print(\"{} {} {}\".format(name, age, country))\n",
        "print(\"Name: {}, Age: {}, Country: {}\".format(name, age, country))"
      ],
      "metadata": {
        "colab": {
          "base_uri": "https://localhost:8080/"
        },
        "id": "kdSTymxAaM8j",
        "outputId": "5124ceef-d704-4dbd-c30b-9560bfbfc802"
      },
      "execution_count": 37,
      "outputs": [
        {
          "output_type": "stream",
          "name": "stdout",
          "text": [
            "Mike 21 USA\n",
            "Name: Mike, Age: 21, Country: USA\n"
          ]
        }
      ]
    },
    {
      "cell_type": "code",
      "source": [
        "a = \"Alice\"\n",
        "b = \"Bob\"\n",
        "sym_key = \"symmetric_key\"\n",
        "b_sign = \"bob's signature\"\n",
        "a_public = \"alice' public key\"\n",
        "a_private = \"alice' private key\"\n",
        "\n",
        "print(\"\"\"\n",
        "Now let’s say that {b}\n",
        "\"\"\" .format(b = \"Bob\", ))"
      ],
      "metadata": {
        "colab": {
          "base_uri": "https://localhost:8080/"
        },
        "id": "axHOhzMheBzG",
        "outputId": "57999a37-ef13-43e9-a52a-b251fb41ac05"
      },
      "execution_count": 62,
      "outputs": [
        {
          "output_type": "stream",
          "name": "stdout",
          "text": [
            "\n",
            "Now let’s say that Bob\n",
            "\n"
          ]
        }
      ]
    },
    {
      "cell_type": "code",
      "source": [
        "al = \"Alice\"\n",
        "bo = \"Bob\"\n",
        "sym_key = \"symmetric_key\"\n",
        "b_sign = \"bob's signature\"\n",
        "a_public = \"alice' public key\"\n",
        "a_private = \"alice' private key\"\n",
        "print(\"\"\" \n",
        "Now let’s say that {b} is a lawyer, and he wants to send a secret message \n",
        "'hello A, from B' to {a}. He takes a box from his shelf, and which has a \n",
        "unique key ({s}). He takes photograph of himself holding the message, \n",
        "and puts the message into the box with the photograph {bs}. Next, \n",
        "he takes a box that {a} send to him ({ap})and puts the secret \n",
        "key into the box. Now {b} cannot open any of the boxes. He then sends the two \n",
        "boxes to {a}. {a} takes the second box, and sources the key ({apv}) \n",
        "to that box. She opens this box, and it contains the key for the first box, and then \n",
        "opens it. She then reads the message, and check the photograph.\n",
        "\"\"\" .format(a=al, b=bo, s=sym_key, bs=b_sign, ap=a_public, apv=a_private))"
      ],
      "metadata": {
        "colab": {
          "base_uri": "https://localhost:8080/"
        },
        "id": "M7Xu3kjSaQ2A",
        "outputId": "f036c148-9b39-4693-d8f6-869b4a7a2fb3"
      },
      "execution_count": 46,
      "outputs": [
        {
          "output_type": "stream",
          "name": "stdout",
          "text": [
            " \n",
            "Now let’s say that Bob is a lawyer, and he wants to send a secret message \n",
            "'hello A, from B' to Alice. He takes a box from his shelf, and which has a \n",
            "unique key (symmetric_key). He takes photograph of himself holding the message, \n",
            "and puts the message into the box with the photograph bob's signature. Next, \n",
            "he takes a box that Alice send to him (alice' public key)and puts the secret \n",
            "key into the box. Now Bob cannot open any of the boxes. He then sends the two \n",
            "boxes to Alice. Alice takes the second box, and sources the key (alice' private key) \n",
            "to that box. She opens this box, and it contains the key for the first box, and then \n",
            "opens it. She then reads the message, and check the photograph.\n",
            "\n"
          ]
        }
      ]
    },
    {
      "cell_type": "code",
      "source": [
        "print(\"\"\" \n",
        "Now let’s say that {b} is a lawyer, and he wants to send a secret message \n",
        "'hello A, from B' to {a}. He takes a box from his shelf, and which has a \n",
        "unique key ({sym_key}). He takes photograph of himself holding the message, \n",
        "and puts the message into the box with the photograph {b_sign}. Next, \n",
        "he takes a box that {a} send to him ({a_public}) and puts the secret \n",
        "key into the box. Now {b} cannot open any of the boxes. He then sends the two \n",
        "boxes to {a}. {a} takes the second box, and sources the key ({a_private}) \n",
        "to that box. She opens this box, and it contains the key for the first box, and then \n",
        "opens it. She then reads the message, and check the photograph.\n",
        "\"\"\".format(a = \"Alice\", \n",
        "           b = \"Bob\", \n",
        "           sym_key = \"symmetric_key\", \n",
        "           b_sign = \"bob's signature\", \n",
        "           a_public = \"alice' public key\", \n",
        "           a_private = \"alice' private key\"))"
      ],
      "metadata": {
        "id": "-VeRKuZbKczr",
        "outputId": "eb4be14e-833e-4448-8cd3-e8c308b1043d",
        "colab": {
          "base_uri": "https://localhost:8080/"
        }
      },
      "execution_count": 74,
      "outputs": [
        {
          "output_type": "stream",
          "name": "stdout",
          "text": [
            " \n",
            "Now let’s say that Bob is a lawyer, and he wants to send a secret message \n",
            "'hello A, from B' to Alice. He takes a box from his shelf, and which has a \n",
            "unique key (symmetric_key). He takes photograph of himself holding the message, \n",
            "and puts the message into the box with the photograph bob's signature. Next, \n",
            "he takes a box that Alice send to him (alice' public key) and puts the secret \n",
            "key into the box. Now Bob cannot open any of the boxes. He then sends the two \n",
            "boxes to Alice. Alice takes the second box, and sources the key (alice' private key) \n",
            "to that box. She opens this box, and it contains the key for the first box, and then \n",
            "opens it. She then reads the message, and check the photograph.\n",
            "\n"
          ]
        }
      ]
    },
    {
      "cell_type": "code",
      "source": [
        "%cd /content/data_science_using_python_labs/week02"
      ],
      "metadata": {
        "colab": {
          "base_uri": "https://localhost:8080/"
        },
        "id": "TsSYnOYHPpu7",
        "outputId": "2462da45-f6d3-4ced-c5df-1bcd27775cc7"
      },
      "execution_count": 7,
      "outputs": [
        {
          "output_type": "stream",
          "name": "stdout",
          "text": [
            "/content/data_science_using_python_labs/week02\n"
          ]
        }
      ]
    },
    {
      "cell_type": "code",
      "source": [
        "%pwd"
      ],
      "metadata": {
        "colab": {
          "base_uri": "https://localhost:8080/",
          "height": 35
        },
        "id": "kFizB-jOYsfQ",
        "outputId": "c00d9d0e-f2f9-4175-c9f6-cc8833e866a7"
      },
      "execution_count": 8,
      "outputs": [
        {
          "output_type": "execute_result",
          "data": {
            "text/plain": [
              "'/content/data_science_using_python_labs/week02'"
            ],
            "application/vnd.google.colaboratory.intrinsic+json": {
              "type": "string"
            }
          },
          "metadata": {},
          "execution_count": 8
        }
      ]
    },
    {
      "cell_type": "code",
      "source": [
        "%%writefile lab_string_2.py\n",
        "al = \"Alice\"\n",
        "bo = \"Bob\"\n",
        "sym_key = \"symmetric_key\"\n",
        "b_sign = \"bob's signature\"\n",
        "a_public = \"alice' public key\"\n",
        "a_private = \"alice' private key\"\n",
        "print(\"\"\" \n",
        "Now let’s say that {b} is a lawyer, and he wants to send a secret message \n",
        "'hello A, from B' to {a}. He takes a box from his shelf, and which has a \n",
        "unique key ({s}). He takes photograph of himself holding the message, \n",
        "and puts the message into the box with the photograph {bs}. Next, \n",
        "he takes a box that {a} send to him ({ap})and puts the secret \n",
        "key into the box. Now {b} cannot open any of the boxes. He then sends the two \n",
        "boxes to {a}. {a} takes the second box, and sources the key ({apv}) \n",
        "to that box. She opens this box, and it contains the key for the first box, and then \n",
        "opens it. She then reads the message, and check the photograph.\n",
        "\"\"\" .format(a=al, b=bo, s=sym_key, bs=b_sign, ap=a_public, apv=a_private))"
      ],
      "metadata": {
        "colab": {
          "base_uri": "https://localhost:8080/"
        },
        "id": "q_5cvMOFcOWI",
        "outputId": "50f3c224-c6fb-482b-a801-732289be5aa5"
      },
      "execution_count": 47,
      "outputs": [
        {
          "output_type": "stream",
          "name": "stdout",
          "text": [
            "Overwriting lab_string_2.py\n"
          ]
        }
      ]
    },
    {
      "cell_type": "code",
      "source": [
        "a = \"Alice\"\n",
        "b = \"Bob\" \n",
        "sym_key = \"symmetric_key\"\n",
        "b_sign = \"bob's signature\"\n",
        "a_public = \"alice' public key\"\n",
        "a_private = \"alice' private key\"\n",
        "msg =\"\"\" \n",
        "Now let’s say that {b} is a lawyer, and he wants to send a secret message \n",
        "'hello A, from B' to {a}. He takes a box from his shelf, and which has a \n",
        "unique key ({sym_key}). He takes photograph of himself holding the message, \n",
        "and puts the message into the box with the photograph {b_sign}. Next, \n",
        "he takes a box that {a} send to him ({a_public}) and puts the secret \n",
        "key into the box. Now {b} cannot open any of the boxes. He then sends the two \n",
        "boxes to {a}. {a} takes the second box, and sources the key ({a_private}) \n",
        "to that box. She opens this box, and it contains the key for the first box, and then \n",
        "opens it. She then reads the message, and check the photograph.\"\"\"\n",
        "print(msg.format(a, b, sym_key, b_sign, a_public, a_private))"
      ],
      "metadata": {
        "id": "RvklX-MOipFc",
        "outputId": "0ac99970-1d93-4906-d1c0-98ec87e381f3",
        "colab": {
          "base_uri": "https://localhost:8080/",
          "height": 201
        }
      },
      "execution_count": 82,
      "outputs": [
        {
          "output_type": "error",
          "ename": "KeyError",
          "evalue": "ignored",
          "traceback": [
            "\u001b[0;31m---------------------------------------------------------------------------\u001b[0m",
            "\u001b[0;31mKeyError\u001b[0m                                  Traceback (most recent call last)",
            "\u001b[0;32m<ipython-input-82-9a52bb06c4c7>\u001b[0m in \u001b[0;36m<module>\u001b[0;34m()\u001b[0m\n\u001b[1;32m     15\u001b[0m \u001b[0mto\u001b[0m \u001b[0mthat\u001b[0m \u001b[0mbox\u001b[0m\u001b[0;34m.\u001b[0m \u001b[0mShe\u001b[0m \u001b[0mopens\u001b[0m \u001b[0mthis\u001b[0m \u001b[0mbox\u001b[0m\u001b[0;34m,\u001b[0m \u001b[0;32mand\u001b[0m \u001b[0mit\u001b[0m \u001b[0mcontains\u001b[0m \u001b[0mthe\u001b[0m \u001b[0mkey\u001b[0m \u001b[0;32mfor\u001b[0m \u001b[0mthe\u001b[0m \u001b[0mfirst\u001b[0m \u001b[0mbox\u001b[0m\u001b[0;34m,\u001b[0m \u001b[0;32mand\u001b[0m \u001b[0mthen\u001b[0m\u001b[0;34m\u001b[0m\u001b[0;34m\u001b[0m\u001b[0m\n\u001b[1;32m     16\u001b[0m opens it. She then reads the message, and check the photograph.\"\"\"\n\u001b[0;32m---> 17\u001b[0;31m \u001b[0mprint\u001b[0m\u001b[0;34m(\u001b[0m\u001b[0mmsg\u001b[0m\u001b[0;34m.\u001b[0m\u001b[0mformat\u001b[0m\u001b[0;34m(\u001b[0m\u001b[0ma\u001b[0m\u001b[0;34m,\u001b[0m \u001b[0mb\u001b[0m\u001b[0;34m,\u001b[0m \u001b[0msym_key\u001b[0m\u001b[0;34m,\u001b[0m \u001b[0mb_sign\u001b[0m\u001b[0;34m,\u001b[0m \u001b[0ma_public\u001b[0m\u001b[0;34m,\u001b[0m \u001b[0ma_private\u001b[0m\u001b[0;34m)\u001b[0m\u001b[0;34m)\u001b[0m\u001b[0;34m\u001b[0m\u001b[0;34m\u001b[0m\u001b[0m\n\u001b[0m",
            "\u001b[0;31mKeyError\u001b[0m: 'b'"
          ]
        }
      ]
    },
    {
      "cell_type": "code",
      "source": [
        "txt = \"\"\" \n",
        "Now let’s say that {b} is a lawyer, and he wants to send a secret message \n",
        "'hello A, from B' to {a}. He takes a box from his shelf, and which has a \n",
        "unique key ({sym_key}). He takes photograph of himself holding the message, \n",
        "and puts the message into the box with the photograph {b_sign}. Next, \n",
        "he takes a box that {a} send to him ({a_public}) and puts the secret \n",
        "key into the box. Now {b} cannot open any of the boxes. He then sends the two \n",
        "boxes to {a}. {a} takes the second box, and sources the key ({a_private}) \n",
        "to that box. She opens this box, and it contains the key for the first box, and then \n",
        "opens it. She then reads the message, and check the photograph.\"\"\"\n",
        "print(txt.format(a = \"Alice\", b = \"Bob\", sym_key = \"symmetric_key\", b_sign = \"bob's signature\", a_public = \"alice' public key\", a_private = \"alice' private key\"))"
      ],
      "metadata": {
        "id": "1x5a00FKjOnQ",
        "outputId": "c3f18384-6d9b-4d1f-ab26-ceec3df2d21a",
        "colab": {
          "base_uri": "https://localhost:8080/"
        }
      },
      "execution_count": 85,
      "outputs": [
        {
          "output_type": "stream",
          "name": "stdout",
          "text": [
            " \n",
            "Now let’s say that Bob is a lawyer, and he wants to send a secret message \n",
            "'hello A, from B' to Alice. He takes a box from his shelf, and which has a \n",
            "unique key (symmetric_key). He takes photograph of himself holding the message, \n",
            "and puts the message into the box with the photograph bob's signature. Next, \n",
            "he takes a box that Alice send to him (alice' public key) and puts the secret \n",
            "key into the box. Now Bob cannot open any of the boxes. He then sends the two \n",
            "boxes to Alice. Alice takes the second box, and sources the key (alice' private key) \n",
            "to that box. She opens this box, and it contains the key for the first box, and then \n",
            "opens it. She then reads the message, and check the photograph.\n"
          ]
        }
      ]
    },
    {
      "cell_type": "code",
      "source": [
        "%%writefile lab_string_2.py\n",
        "txt = \"\"\" \n",
        "Now let’s say that {b} is a lawyer, and he wants to send a secret message \n",
        "'hello A, from B' to {a}. He takes a box from his shelf, and which has a \n",
        "unique key ({sym_key}). He takes photograph of himself holding the message, \n",
        "and puts the message into the box with the photograph {b_sign}. Next, \n",
        "he takes a box that {a} send to him ({a_public}) and puts the secret \n",
        "key into the box. Now {b} cannot open any of the boxes. He then sends the two \n",
        "boxes to {a}. {a} takes the second box, and sources the key ({a_private}) \n",
        "to that box. She opens this box, and it contains the key for the first box, and then \n",
        "opens it. She then reads the message, and check the photograph.\"\"\"\n",
        "print(txt.format(a = \"Alice\", b = \"Bob\", sym_key = \"symmetric_key\", b_sign = \"bob's signature\", a_public = \"alice' public key\", a_private = \"alice' private key\"))"
      ],
      "metadata": {
        "id": "LsJ5i34Tjncg",
        "outputId": "3d1715d7-6021-45f3-e4aa-dc7aab8eed72",
        "colab": {
          "base_uri": "https://localhost:8080/"
        }
      },
      "execution_count": 86,
      "outputs": [
        {
          "output_type": "stream",
          "name": "stdout",
          "text": [
            "Overwriting lab_string_2.py\n"
          ]
        }
      ]
    },
    {
      "cell_type": "code",
      "execution_count": 88,
      "metadata": {
        "id": "KGaOOLBPJ8OJ",
        "outputId": "d4a1d32b-e761-4271-e565-e65cb660aac3",
        "colab": {
          "base_uri": "https://localhost:8080/"
        }
      },
      "outputs": [
        {
          "output_type": "stream",
          "name": "stdout",
          "text": [
            "Overwriting lab_string_2.py\n"
          ]
        }
      ],
      "source": [
        "%%writefile lab_string_2.py\n",
        "# write your program here\n",
        "print(\"\"\" \n",
        "Now let’s say that {b} is a lawyer, and he wants to send a secret message \n",
        "'hello A, from B' to {a}. He takes a box from his shelf, and which has a \n",
        "unique key ({sym_key}). He takes photograph of himself holding the message, \n",
        "and puts the message into the box with the photograph {b_sign}. Next, \n",
        "he takes a box that {a} send to him ({a_public}) and puts the secret \n",
        "key into the box. Now {b} cannot open any of the boxes. He then sends the two \n",
        "boxes to {a}. {a} takes the second box, and sources the key ({a_private}) \n",
        "to that box. She opens this box, and it contains the key for the first box, and then \n",
        "opens it. She then reads the message, and check the photograph.\n",
        "\"\"\".format(a = \"Alice\", \n",
        "           b = \"Bob\", \n",
        "           sym_key = \"symmetric_key\", \n",
        "           b_sign = \"bob's signature\", \n",
        "           a_public = \"alice' public key\", \n",
        "           a_private = \"alice' private key\"))"
      ]
    },
    {
      "cell_type": "code",
      "execution_count": 89,
      "metadata": {
        "id": "0QSrhYBmJ8OK",
        "outputId": "dccf002e-036b-423d-e7c2-394a8f743384",
        "colab": {
          "base_uri": "https://localhost:8080/"
        }
      },
      "outputs": [
        {
          "output_type": "stream",
          "name": "stdout",
          "text": [
            "\u001b[1m============================= test session starts ==============================\u001b[0m\n",
            "platform linux -- Python 3.7.13, pytest-3.6.4, py-1.11.0, pluggy-0.7.1\n",
            "rootdir: /content/data_science_using_python_labs/week02, inifile:\n",
            "plugins: typeguard-2.7.1\n",
            "\u001b[1m\rcollecting 0 items                                                             \u001b[0m\u001b[1m\rcollecting 1 item                                                              \u001b[0m\u001b[1m\rcollected 1 item                                                               \u001b[0m\n",
            "\n",
            "test_string_2.py F\u001b[36m                                                       [100%]\u001b[0m\n",
            "\n",
            "=================================== FAILURES ===================================\n",
            "\u001b[31m\u001b[1m________________________________ test_string_2 _________________________________\u001b[0m\n",
            "\n",
            "capsys = <_pytest.capture.CaptureFixture object at 0x7fc0d1fee0d0>\n",
            "\n",
            "\u001b[1m    def test_string_2(capsys):\u001b[0m\n",
            "\u001b[1m        import lab_string_2 as ls2\u001b[0m\n",
            "\u001b[1m        captured = capsys.readouterr()\u001b[0m\n",
            "\u001b[1m        output = captured.out\u001b[0m\n",
            "\u001b[1m        output = output.strip()\u001b[0m\n",
            "\u001b[1m        output = output.replace(\"\\n\", \" \")\u001b[0m\n",
            "\u001b[1m        output = output.replace(\"  \", \" \")\u001b[0m\n",
            "\u001b[1m        output = output.replace(\"  \", \" \").replace(\"  \", \" \")\u001b[0m\n",
            "\u001b[1m        to_check = \"\"\"Now let’s say that Bob is a lawyer, and he wants to send a secret message\u001b[0m\n",
            "\u001b[1m    'hello A, from B' to Alice. He takes a box from his shelf, and which has a\u001b[0m\n",
            "\u001b[1m    unique key (symmetric_key). He takes photograph of himself holding the message,\u001b[0m\n",
            "\u001b[1m    and puts the message into the box with the photograph (bob's signature). Next,\u001b[0m\n",
            "\u001b[1m    he takes a box that Alice send to him (alice' public key) and puts the secret\u001b[0m\n",
            "\u001b[1m    key into the box. Now Bob cannot open any of the boxes. He then sends the two\u001b[0m\n",
            "\u001b[1m    boxes to Alice. Alice takes the second box, and sources the key (alice' private key)\u001b[0m\n",
            "\u001b[1m    to that box. She opens this box, and it contains the key for the first box, and then\u001b[0m\n",
            "\u001b[1m    opens it. She then reads the message, and check the photograph.\"\"\" \\\u001b[0m\n",
            "\u001b[1m        .strip().replace(\"\\n\", \" \") \\\u001b[0m\n",
            "\u001b[1m        .replace(\"  \", \" \").replace(\"  \", \" \") \\\u001b[0m\n",
            "\u001b[1m        .replace(\"  \", \" \").replace(\"  \", \" \")\u001b[0m\n",
            "\u001b[1m        print (to_check)\u001b[0m\n",
            "\u001b[1m        print (output)\u001b[0m\n",
            "\u001b[1m>       assert to_check == output\u001b[0m\n",
            "\u001b[1m\u001b[31mE       AssertionError: assert 'Now let’s sa...e photograph.' == 'Now let’s say...e photograph.'\u001b[0m\n",
            "\u001b[1m\u001b[31mE         Skipping 273 identical leading characters in diff, use -v to show\u001b[0m\n",
            "\u001b[1m\u001b[31mE         - hotograph (bob's signature). Next, he takes a box that Alice send to him (alice' public key) and puts the secret key into the box. Now Bob cannot open any of the boxes. He then sends the two boxes to Alice. Alice takes the second box, and sources the key (alice' private key) to that box. She opens this box, and it contains the key for the first box, and then opens it. She then reads the message, and check the photograph.\u001b[0m\n",
            "\u001b[1m\u001b[31mE         + hotograph bob's signature. Next, he takes a box that Alice send to him (alice' pub...\u001b[0m\n",
            "\u001b[1m\u001b[31mE         \u001b[0m\n",
            "\u001b[1m\u001b[31mE         ...Full output truncated (1 line hidden), use '-vv' to show\u001b[0m\n",
            "\n",
            "\u001b[1m\u001b[31mtest_string_2.py\u001b[0m:24: AssertionError\n",
            "----------------------------- Captured stdout call -----------------------------\n",
            "Now let’s say that Bob is a lawyer, and he wants to send a secret message 'hello A, from B' to Alice. He takes a box from his shelf, and which has a unique key (symmetric_key). He takes photograph of himself holding the message, and puts the message into the box with the photograph (bob's signature). Next, he takes a box that Alice send to him (alice' public key) and puts the secret key into the box. Now Bob cannot open any of the boxes. He then sends the two boxes to Alice. Alice takes the second box, and sources the key (alice' private key) to that box. She opens this box, and it contains the key for the first box, and then opens it. She then reads the message, and check the photograph.\n",
            "Now let’s say that Bob is a lawyer, and he wants to send a secret message 'hello A, from B' to Alice. He takes a box from his shelf, and which has a unique key (symmetric_key). He takes photograph of himself holding the message, and puts the message into the box with the photograph bob's signature. Next, he takes a box that Alice send to him (alice' public key) and puts the secret key into the box. Now Bob cannot open any of the boxes. He then sends the two boxes to Alice. Alice takes the second box, and sources the key (alice' private key) to that box. She opens this box, and it contains the key for the first box, and then opens it. She then reads the message, and check the photograph.\n",
            "\u001b[31m\u001b[1m=========================== 1 failed in 0.03 seconds ===========================\u001b[0m\n"
          ]
        }
      ],
      "source": [
        "!pytest test_string_2.py\n"
      ]
    },
    {
      "cell_type": "code",
      "source": [
        "%%debug"
      ],
      "metadata": {
        "colab": {
          "base_uri": "https://localhost:8080/"
        },
        "id": "sDJOwcRncbB5",
        "outputId": "8ae3553d-2767-4ac3-f722-68ee4dcfe56d"
      },
      "execution_count": 54,
      "outputs": [
        {
          "output_type": "stream",
          "name": "stderr",
          "text": [
            "UsageError: %%debug is a cell magic, but the cell body is empty. Did you mean the line magic %debug (single %)?\n"
          ]
        }
      ]
    },
    {
      "cell_type": "markdown",
      "metadata": {
        "id": "9IdCn7JEJ8OK"
      },
      "source": [
        "### String Arithmetics \n",
        "\n",
        "```python\n",
        "a = \"Hello\" + \" \" + \"World\" # concatenation of \"Hello\", \" \" and \"World\" will be in variable 'a'\n",
        "```\n",
        "\n",
        "So what happens when you add (+) a string with an integer ? \n",
        "\n",
        "Try it yourself: \n",
        "\n",
        "```python\n",
        "a = \"Hello \" + 42\n",
        "```"
      ]
    },
    {
      "cell_type": "code",
      "execution_count": null,
      "metadata": {
        "id": "GMxOYHxkJ8OK",
        "outputId": "e99635dc-390b-4e32-ea4f-799adc7ec476",
        "colab": {
          "base_uri": "https://localhost:8080/",
          "height": 168
        }
      },
      "outputs": [
        {
          "output_type": "error",
          "ename": "TypeError",
          "evalue": "ignored",
          "traceback": [
            "\u001b[0;31m---------------------------------------------------------------------------\u001b[0m",
            "\u001b[0;31mTypeError\u001b[0m                                 Traceback (most recent call last)",
            "\u001b[0;32m<ipython-input-27-55cf286e9a3c>\u001b[0m in \u001b[0;36m<module>\u001b[0;34m()\u001b[0m\n\u001b[0;32m----> 1\u001b[0;31m \u001b[0ma\u001b[0m \u001b[0;34m=\u001b[0m \u001b[0;34m\"Hello \"\u001b[0m \u001b[0;34m+\u001b[0m \u001b[0;36m42\u001b[0m\u001b[0;34m\u001b[0m\u001b[0;34m\u001b[0m\u001b[0m\n\u001b[0m",
            "\u001b[0;31mTypeError\u001b[0m: can only concatenate str (not \"int\") to str"
          ]
        }
      ],
      "source": [
        "a = \"Hello \" + 42"
      ]
    },
    {
      "cell_type": "markdown",
      "metadata": {
        "id": "l66AKn49J8OK"
      },
      "source": [
        "နောက်ထပ် string လေ့ကျင့်ခန်း တခု လုပ်ကြရအောင်။ ဒီလေ့ကျင့်ခန်းမှာ ... \n",
        "\n",
        "Variable 'i' ထဲကို 42 ကို ထည့်ပါ။ \n",
        "ပြီးတော့ \"The Ultimate Answer is <i ရဲ့ တန်ဖိုး>\" လို့ format method မသုံးပဲ ရိုက်ထုတ်ကြည့်ပါ။ \n",
        "\n",
        "> Hint: use function to convert primitive type"
      ]
    },
    {
      "cell_type": "code",
      "execution_count": null,
      "metadata": {
        "id": "_Z5CYl72J8OL"
      },
      "outputs": [],
      "source": [
        "%%writefile lab_string_3.py\n",
        "# write your program here"
      ]
    },
    {
      "cell_type": "code",
      "execution_count": null,
      "metadata": {
        "id": "-ydQBKIfJ8OL"
      },
      "outputs": [],
      "source": [
        "!pytest test_string_3.py"
      ]
    },
    {
      "cell_type": "markdown",
      "metadata": {
        "id": "NY0OIk2eJ8OL"
      },
      "source": [
        "နောက်ဆုံး Quadratic Equation တွေကို ဖြေရှင်းတဲ့ program ကို ရေးကြည့်ရအောင်။ \n",
        "\n",
        "Quadratic Equation ဖြေရှင်းတဲ့ formula က \n",
        "\n",
        "Given $ax^2 + bx + c = 0$\n",
        "\n",
        "$x = \\frac{-b \\pm \\sqrt{b^2 - 4ac}}{2a}$\n",
        "\n",
        "Square root function `sqrt` ကို `math` module ကနေ import လုပ်နိုင်တယ်။\n",
        "\n",
        "```python\n",
        "from math import sqrt\n",
        "```"
      ]
    },
    {
      "cell_type": "code",
      "execution_count": null,
      "metadata": {
        "id": "jZRjmPZnJ8OL"
      },
      "outputs": [],
      "source": [
        "%%writefile lab_variable_4.py\n",
        "from math import sqrt\n",
        "def quad_formula(a, b, c):\n",
        "    x1 = None\n",
        "    x2 = None\n",
        "    return x1, x2"
      ]
    },
    {
      "cell_type": "code",
      "execution_count": null,
      "metadata": {
        "id": "c91g0qmXJ8OM"
      },
      "outputs": [],
      "source": [
        "!pytest test_variable_4.py"
      ]
    }
  ],
  "metadata": {
    "interpreter": {
      "hash": "3a9c1e998c7d6d5f29587b2c70e9bd488bb486b902354401efc27ca8457f04e9"
    },
    "kernelspec": {
      "display_name": "Python 3.7.11 ('py37-dsup')",
      "language": "python",
      "name": "python3"
    },
    "language_info": {
      "codemirror_mode": {
        "name": "ipython",
        "version": 3
      },
      "file_extension": ".py",
      "mimetype": "text/x-python",
      "name": "python",
      "nbconvert_exporter": "python",
      "pygments_lexer": "ipython3",
      "version": "3.7.11"
    },
    "orig_nbformat": 4,
    "colab": {
      "name": "03_strings_variables_part_2.ipynb",
      "provenance": [],
      "include_colab_link": true
    }
  },
  "nbformat": 4,
  "nbformat_minor": 0
}