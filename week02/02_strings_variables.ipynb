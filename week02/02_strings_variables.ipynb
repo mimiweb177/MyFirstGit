{
  "cells": [
    {
      "cell_type": "markdown",
      "metadata": {
        "id": "hbsHq2EjeG1F"
      },
      "source": [
        "# String နဲ့ Variable တွေ အကြောင်း\n",
        "\n",
        "## Strings\n",
        "\n",
        "String ဆိုတာ Text data type ဖြစ်တယ်။ \n",
        "\n",
        "တချိန်တည်းမှာပဲ String ဟာ `list` တခု ဖြစ်တယ်။ (`list` အကြောင်းကို နောက်အပါတ်မှာ ပြောမည်။)"
      ]
    },
    {
      "cell_type": "code",
      "execution_count": 1,
      "metadata": {
        "id": "jRKY0gBheG1I",
        "outputId": "171a942e-313d-489c-f546-b9c9922af622",
        "colab": {
          "base_uri": "https://localhost:8080/"
        }
      },
      "outputs": [
        {
          "output_type": "stream",
          "name": "stdout",
          "text": [
            "1\n",
            "23\n"
          ]
        }
      ],
      "source": [
        "print (\"1234567890\"[0]) # it will print '1'\n",
        "print (\"1234567890\"[1:3]) # it will print '23'"
      ]
    },
    {
      "cell_type": "code",
      "execution_count": 6,
      "metadata": {
        "id": "0Qgd9kf3eG1J",
        "outputId": "8248e905-d593-4baa-ab41-770ea2ec4dac",
        "colab": {
          "base_uri": "https://localhost:8080/"
        }
      },
      "outputs": [
        {
          "output_type": "stream",
          "name": "stdout",
          "text": [
            "my string in lower case\n"
          ]
        }
      ],
      "source": [
        "print (\"my string in lower case\".lower())"
      ]
    },
    {
      "cell_type": "code",
      "execution_count": 5,
      "metadata": {
        "id": "yV9RDoBpeG1K",
        "outputId": "24d0ed45-9add-4cd8-e4a3-5b1bae388f21",
        "colab": {
          "base_uri": "https://localhost:8080/"
        }
      },
      "outputs": [
        {
          "output_type": "stream",
          "name": "stdout",
          "text": [
            "MY STRING IS IN ALL CAPS\n"
          ]
        }
      ],
      "source": [
        "# try to print the result of the \"lower()\" method of the string \"THIS STRING IS ALL CAPS\"\n",
        "print (\"my string is in all caps\".upper())"
      ]
    },
    {
      "cell_type": "code",
      "execution_count": 12,
      "metadata": {
        "id": "9QfWC-qzeG1K",
        "outputId": "5fac7f04-7d82-4891-a2f4-723b0ad0ff13",
        "colab": {
          "base_uri": "https://localhost:8080/"
        }
      },
      "outputs": [
        {
          "output_type": "stream",
          "name": "stdout",
          "text": [
            "STRING IN LOWER CASE\n",
            "string in upper case\n",
            "1 2 3\n",
            "1 2 3\n",
            "axxx2xxx99.9\n"
          ]
        }
      ],
      "source": [
        "print (\"string in lower case\".upper()) # this will print \"STRING IN LOWER CASE\"\n",
        "print (\"STRING in UPPER Case\".lower()) # this will print \"string in upper case\"\n",
        "print (\" \".join([str(1), str(2), str(3)])) # this will print \"1 2 3\"\n",
        "print(\" \".join([\"1\",\"2\",\"3\"]))# this will print \"1 2 3\"\n",
        "print (\"xxx\".join([\"a\", str(2), str(99.9)])) # this will print \"axxx2xxx99.9\""
      ]
    },
    {
      "cell_type": "markdown",
      "metadata": {
        "id": "f8GUFOndeG1L"
      },
      "source": [
        "### Exercises\n",
        "\n",
        "String နဲ့ ပတ်သက်တဲ့ လေ့ကျင့်ခန်းတွေ လုပ်ကြမယ်။"
      ]
    },
    {
      "cell_type": "code",
      "source": [
        "print(\"My name is {} and live in {}\".format(\"Mi Mi\",\"SG\")) #placeholder\n",
        "print(\"My name is {fname}, I'm {age}\".format(fname =\"John\", age =36))\n",
        "print(\"My name is {0}, I'm {1}\".format(\"John\",36))\n",
        "print(\"My name is {}, I'm {}\".format(\"John\",36))"
      ],
      "metadata": {
        "id": "2zaljidjgkC3",
        "outputId": "bfb3fcee-678b-4c08-98b0-907d91b11c77",
        "colab": {
          "base_uri": "https://localhost:8080/"
        }
      },
      "execution_count": 22,
      "outputs": [
        {
          "output_type": "stream",
          "name": "stdout",
          "text": [
            "My name is Mi Mi and live in SG\n",
            "My name is John, I'm 36\n",
            "My name is John, I'm 36\n",
            "My name is John, I'm 36\n"
          ]
        }
      ]
    },
    {
      "cell_type": "code",
      "source": [
        "print(\"My name is {name} and have {num} friends.\".format(name=\"Mi\", num=\"10\")"
      ],
      "metadata": {
        "id": "aWdDFKCZhYW1",
        "outputId": "41382c4b-e7ca-4a49-9147-dce5c58030ba",
        "colab": {
          "base_uri": "https://localhost:8080/",
          "height": 168
        }
      },
      "execution_count": 30,
      "outputs": [
        {
          "output_type": "error",
          "ename": "SyntaxError",
          "evalue": "ignored",
          "traceback": [
            "\u001b[0;36m  File \u001b[0;32m\"<ipython-input-30-5a3fe8030166>\"\u001b[0;36m, line \u001b[0;32m1\u001b[0m\n\u001b[0;31m    print(\"My name is {name} and have {num} friends.\".format(name=\"Mi\", num=\"10\")\u001b[0m\n\u001b[0m                                                                                 ^\u001b[0m\n\u001b[0;31mSyntaxError\u001b[0m\u001b[0;31m:\u001b[0m unexpected EOF while parsing\n"
          ]
        }
      ]
    },
    {
      "cell_type": "code",
      "execution_count": 8,
      "metadata": {
        "id": "tDF79dd6eG1L",
        "outputId": "aa8dc4e4-4810-4fc4-d8ef-89812217166d",
        "colab": {
          "base_uri": "https://localhost:8080/"
        }
      },
      "outputs": [
        {
          "output_type": "stream",
          "name": "stdout",
          "text": [
            "Cloning into 'data_science_using_python_labs'...\n",
            "remote: Enumerating objects: 55, done.\u001b[K\n",
            "remote: Counting objects: 100% (55/55), done.\u001b[K\n",
            "remote: Compressing objects: 100% (40/40), done.\u001b[K\n",
            "remote: Total 55 (delta 28), reused 37 (delta 14), pack-reused 0\u001b[K\n",
            "Unpacking objects: 100% (55/55), done.\n",
            "[Errno 2] No such file or directory: 'week02'\n",
            "/content\n"
          ]
        }
      ],
      "source": [
        "# ဒီ cell ကို run လိုက်ပါ။\n",
        "!git clone https://github.com/neolaw84/data_science_using_python_labs.git\n",
        "%cd week02"
      ]
    },
    {
      "cell_type": "code",
      "execution_count": 9,
      "metadata": {
        "id": "fa912gaeeG1M",
        "outputId": "e96117cd-e7eb-4fb5-b28a-75d1071bf982",
        "colab": {
          "base_uri": "https://localhost:8080/"
        }
      },
      "outputs": [
        {
          "output_type": "stream",
          "name": "stdout",
          "text": [
            "I'm a string,\n",
            "said, \"A piece of data\"\n"
          ]
        }
      ],
      "source": [
        "# လေ့ကျင့်ခန်း အနေနဲ့ အောက်ပါ output ထုတ်ပေးတဲ့ program ကို ရေးပါ။ Multi-line String (\"\"\" xxx \"\"\") မသုံးရ\n",
        "# I'm a string,\n",
        "# said, \"A piece of data\"\n",
        "print(\"I'm a string,\")\n",
        "print('said, \"A piece of data\"')"
      ]
    },
    {
      "cell_type": "code",
      "source": [
        "%cd /content/data_science_using_python_labs/week02"
      ],
      "metadata": {
        "id": "BvlqntZdf3R6",
        "outputId": "8e4899c9-e4e7-452d-af79-bbc091dcbaa0",
        "colab": {
          "base_uri": "https://localhost:8080/"
        }
      },
      "execution_count": 17,
      "outputs": [
        {
          "output_type": "stream",
          "name": "stdout",
          "text": [
            "/content/data_science_using_python_labs/week02\n"
          ]
        }
      ]
    },
    {
      "cell_type": "code",
      "execution_count": 18,
      "metadata": {
        "id": "QCWkvExieG1N",
        "outputId": "9deda230-ba43-454f-ff5d-40c2e6bb577d",
        "colab": {
          "base_uri": "https://localhost:8080/"
        }
      },
      "outputs": [
        {
          "output_type": "stream",
          "name": "stdout",
          "text": [
            "Writing lab_string.py\n"
          ]
        }
      ],
      "source": [
        "# အပေါ်က ရေးထားတဲ့ program ကို lab_string.py ထဲကို ရေးထည့်ပါ\n",
        "%%writefile lab_string.py\n",
        "print(\"I'm a string,\")\n",
        "print('said, \"A piece of data\"')"
      ]
    },
    {
      "cell_type": "code",
      "execution_count": 19,
      "metadata": {
        "id": "EpUGO0BAeG1O",
        "outputId": "340c0c2c-a8d0-4ecf-b090-596ece0d6b61",
        "colab": {
          "base_uri": "https://localhost:8080/"
        }
      },
      "outputs": [
        {
          "output_type": "stream",
          "name": "stdout",
          "text": [
            "\u001b[1m============================= test session starts ==============================\u001b[0m\n",
            "platform linux -- Python 3.7.12, pytest-3.6.4, py-1.11.0, pluggy-0.7.1\n",
            "rootdir: /content/data_science_using_python_labs/week02, inifile:\n",
            "plugins: typeguard-2.7.1\n",
            "\u001b[1m\rcollecting 0 items                                                             \u001b[0m\u001b[1m\rcollecting 1 item                                                              \u001b[0m\u001b[1m\rcollected 1 item                                                               \u001b[0m\n",
            "\n",
            "test_string.py .\u001b[36m                                                         [100%]\u001b[0m\n",
            "\n",
            "\u001b[32m\u001b[1m=========================== 1 passed in 0.01 seconds ===========================\u001b[0m\n"
          ]
        }
      ],
      "source": [
        "# ပြီးရင် စမ်းပါ\n",
        "!pytest test_string.py"
      ]
    },
    {
      "cell_type": "markdown",
      "metadata": {
        "id": "8tnK1M--eG1O"
      },
      "source": [
        "## Variables"
      ]
    },
    {
      "cell_type": "code",
      "execution_count": 31,
      "metadata": {
        "id": "B4tHs9iseG1O",
        "outputId": "fb7c8ce1-b19a-4f6e-ec0b-6752d4bec381",
        "colab": {
          "base_uri": "https://localhost:8080/"
        }
      },
      "outputs": [
        {
          "output_type": "stream",
          "name": "stdout",
          "text": [
            "<class 'int'> <class 'float'>\n"
          ]
        }
      ],
      "source": [
        "a = int(4.2) # a will have value 4 of type integer\n",
        "b = float(42) # b will have a value 42.0 of type float\n",
        "print (type(a), type(b))"
      ]
    },
    {
      "cell_type": "code",
      "execution_count": 32,
      "metadata": {
        "id": "u4jA5JJleG1P",
        "outputId": "17d03ae6-dfd4-4427-e37b-4f696c8dc77e",
        "colab": {
          "base_uri": "https://localhost:8080/"
        }
      },
      "outputs": [
        {
          "output_type": "stream",
          "name": "stdout",
          "text": [
            "2\n",
            "2.5\n",
            "2\n",
            "3.0\n"
          ]
        }
      ],
      "source": [
        "# what will this cell print ?\n",
        "a = 5//2\n",
        "print (a)\n",
        "b = 5/2\n",
        "print (b)\n",
        "c = 1 + 1\n",
        "print (c)\n",
        "d = a + b//c\n",
        "print (d) "
      ]
    },
    {
      "cell_type": "markdown",
      "metadata": {
        "id": "qEubxNYaeG1P"
      },
      "source": [
        "\n",
        "### Exercises\n",
        "\n",
        "Variable နဲ့ ပတ်သက်တဲ့ လေ့ကျင့်ခန်းတွေ လုပ်ကြမယ်။\n",
        "\n",
        "1. lab_variable_1.py ကို ရေးပါ။ ပြီးရင် test_variable_1.py နဲ့ စမ်းပါ။\n",
        "variable 'a' ထဲကို integer တန်ဖိုး 10 ထည့်ပါ။ variable 'b' ထဲကို float တန်ဖိုး 10.0 ထည့်ပါ။ variable 'c' ထဲကို boolean တန်ဖိုး False ထည့်ပါ။\n",
        "\n",
        "2. lab_variable_2.py ကို ရေးပါ။ ပြီးရင် test_variable_2.py နဲ့ စမ်းပါ။\n",
        "variable 'price' ထဲကို float တန်ဖိုး 99.99 ထည့်ပါ။ variable 'quantity' ထဲကို integer တန်ဖိုး 5 ထည့်ပါ။ variable 'VAT' ထဲကို float တန်ဖိုး 0.10 ထည့်ပါ။ 99.99 တန် ပစ္စည်း 5 ခု ဝယ်လျှင် Value Added Tax (VAT) 10% ထည့်ပေါင်းအပြီး ရှင်းရမည့် ငွေပမာဏကို variable 'total' ထဲ ထည့်ပါ။\n",
        "\n",
        "3. Geometry shape များဖြစ်သည့် Rectangle, Circle, Triagle များ၏ Area တွက်သည့် Function များကို အောက်တွင် ပေးထားသည်။ ၄င်းကို lab_variable_3.py ထဲ ရေးပါ။ ပြီးရင် test_variable_3.py နဲ့ စမ်းပါ။\n",
        "```python\n",
        "def area_of_rectangle(length, breadth):\n",
        "    # variable 'area' ထဲသို့ ပေးထားသော rectangle ၏ area တွက်ထည့်ပါ။\n",
        "    return area\n",
        "\n",
        "from math import pi\n",
        "def area_of_circle(radius):\n",
        "    # constant 'pi' နှင့် variable 'radius' တို့ကို အသုံးပြုပြီး variable 'area' ထဲသို့ circle ၏ area တွက်ထည့်ပါ။\n",
        "    return area\n",
        "\n",
        "def area_of_triangle(base, height):\n",
        "    # variable 'area' ထဲသို့ triangle ၏ area တွက်ထည့်ပါ။\n",
        "    return area\n",
        "```"
      ]
    },
    {
      "cell_type": "code",
      "source": [
        "def area_of_rectangle(length, breadth):\n",
        " # variable 'area' ထဲသို့ ပေးထားသော rectangle ၏ area တွက်ထည့်ပါ။\n",
        "\n",
        "return area"
      ],
      "metadata": {
        "id": "dXpaP1wnmf4W",
        "outputId": "8af32005-0b7f-4ad4-ffe5-f740d921e8a2",
        "colab": {
          "base_uri": "https://localhost:8080/",
          "height": 133
        }
      },
      "execution_count": 46,
      "outputs": [
        {
          "output_type": "error",
          "ename": "SyntaxError",
          "evalue": "ignored",
          "traceback": [
            "\u001b[0;36m  File \u001b[0;32m\"<ipython-input-46-563ca67537e1>\"\u001b[0;36m, line \u001b[0;32m4\u001b[0m\n\u001b[0;31m    return area\u001b[0m\n\u001b[0m               ^\u001b[0m\n\u001b[0;31mSyntaxError\u001b[0m\u001b[0;31m:\u001b[0m 'return' outside function\n"
          ]
        }
      ]
    },
    {
      "cell_type": "code",
      "source": [
        "print(3/2) #modular division\n",
        "print(3//2) #integer division\n",
        "print(7%3) "
      ],
      "metadata": {
        "id": "CuaUU91EnbLR",
        "outputId": "fd58c677-a581-439b-8e0d-4e31b8f8a142",
        "colab": {
          "base_uri": "https://localhost:8080/"
        }
      },
      "execution_count": 37,
      "outputs": [
        {
          "output_type": "stream",
          "name": "stdout",
          "text": [
            "1.5\n",
            "1\n",
            "1\n"
          ]
        }
      ]
    },
    {
      "cell_type": "code",
      "execution_count": null,
      "metadata": {
        "id": "-7olt_f5eG1Q"
      },
      "outputs": [],
      "source": [
        "def area_of_triangle(b,h):\n",
        "# variable 'area' ထဲသို့ triangle ၏ area တွက်ထည့်ပါ။\n",
        "print \n",
        "return area"
      ]
    },
    {
      "cell_type": "code",
      "source": [
        ""
      ],
      "metadata": {
        "id": "9xVXh23XmQle"
      },
      "execution_count": null,
      "outputs": []
    }
  ],
  "metadata": {
    "interpreter": {
      "hash": "3a9c1e998c7d6d5f29587b2c70e9bd488bb486b902354401efc27ca8457f04e9"
    },
    "kernelspec": {
      "display_name": "Python 3.7.11 ('py37-dsup')",
      "language": "python",
      "name": "python3"
    },
    "language_info": {
      "codemirror_mode": {
        "name": "ipython",
        "version": 3
      },
      "file_extension": ".py",
      "mimetype": "text/x-python",
      "name": "python",
      "nbconvert_exporter": "python",
      "pygments_lexer": "ipython3",
      "version": "3.7.11"
    },
    "orig_nbformat": 4,
    "colab": {
      "name": "02_strings_variables.ipynb",
      "provenance": []
    }
  },
  "nbformat": 4,
  "nbformat_minor": 0
}