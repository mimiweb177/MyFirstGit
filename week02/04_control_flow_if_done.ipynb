{
  "cells": [
    {
      "cell_type": "code",
      "execution_count": 1,
      "metadata": {
        "id": "DxAVAqEfMpsZ",
        "outputId": "d9c53ce2-d4a4-412b-cab0-bbd53fac06dc",
        "colab": {
          "base_uri": "https://localhost:8080/"
        }
      },
      "outputs": [
        {
          "output_type": "stream",
          "name": "stdout",
          "text": [
            "Cloning into 'data_science_using_python_labs'...\n",
            "remote: Enumerating objects: 89, done.\u001b[K\n",
            "remote: Counting objects: 100% (89/89), done.\u001b[K\n",
            "remote: Compressing objects: 100% (65/65), done.\u001b[K\n",
            "remote: Total 89 (delta 47), reused 60 (delta 22), pack-reused 0\u001b[K\n",
            "Unpacking objects: 100% (89/89), done.\n"
          ]
        }
      ],
      "source": [
        "# git clone ... you know the drill. url is https://github.com/neolaw84/data_science_using_python_labs.git\n",
        "!git clone https://github.com/neolaw84/data_science_using_python_labs.git"
      ]
    },
    {
      "cell_type": "code",
      "execution_count": 2,
      "metadata": {
        "id": "-Zff7zl-Mpsa",
        "outputId": "6ab836df-1f30-463c-cafd-1b81425f3093",
        "colab": {
          "base_uri": "https://localhost:8080/"
        }
      },
      "outputs": [
        {
          "output_type": "stream",
          "name": "stdout",
          "text": [
            "/content/data_science_using_python_labs/week02\n"
          ]
        }
      ],
      "source": [
        "# and change directory to data_science_using_python_labs/week02\n",
        "%cd /content/data_science_using_python_labs/week02"
      ]
    },
    {
      "cell_type": "markdown",
      "metadata": {
        "id": "tLFs53r5Mpsa"
      },
      "source": [
        "## Control Flow (If Statement)\n",
        "\n",
        "Consider this function: \n",
        "\n",
        "$$\n",
        "  f(x) =\n",
        "    \\begin{cases}\n",
        "      x & \\text{if $x \\geq 0$}\\\\\n",
        "      0 & \\text{otherwise}\n",
        "    \\end{cases}\n",
        "$$\n",
        "\n",
        "\n"
      ]
    },
    {
      "cell_type": "code",
      "execution_count": 3,
      "metadata": {
        "id": "cKYpucbPMpsb",
        "outputId": "6e48c380-22f1-48bf-8390-d2b02b7bc3cd",
        "colab": {
          "base_uri": "https://localhost:8080/"
        }
      },
      "outputs": [
        {
          "output_type": "stream",
          "name": "stdout",
          "text": [
            "f(-0.2) is 0\n",
            "f(0.78) is 0.78\n"
          ]
        }
      ],
      "source": [
        "# try this\n",
        "# this is more traditional programming-like\n",
        "def f(x):\n",
        "  if x >= 0:\n",
        "    return x\n",
        "  else:\n",
        "    return 0\n",
        "\n",
        "print (\"f(-0.2) is {}\".format(f(-0.2)))\n",
        "print (\"f(0.78) is {}\".format(f(0.78)))"
      ]
    },
    {
      "cell_type": "code",
      "execution_count": 4,
      "metadata": {
        "id": "su9sqs30Mpsc",
        "outputId": "11f353b2-49b0-4cfc-c7b5-3d53d1f1a5b1",
        "colab": {
          "base_uri": "https://localhost:8080/"
        }
      },
      "outputs": [
        {
          "output_type": "stream",
          "name": "stdout",
          "text": [
            "0.0\n",
            "7.249999999999999\n",
            "6.5\n"
          ]
        }
      ],
      "source": [
        "# also try this\n",
        "def sales_tax(state, amount):\n",
        "    if state.lower() == \"oregon\":\n",
        "        return amount * 0.0\n",
        "    elif state.lower() == \"california\":\n",
        "        return amount * 0.0725\n",
        "    elif state.lower() == \"washington\":\n",
        "        return amount * 0.065\n",
        "    else:\n",
        "        return 0.0\n",
        "    \n",
        "print (sales_tax(\"oregon\", 100.0))\n",
        "print (sales_tax(\"california\", 100.0))\n",
        "print (sales_tax(\"washington\", 100.0))"
      ]
    },
    {
      "cell_type": "markdown",
      "metadata": {
        "id": "dExrBTvNMpsc"
      },
      "source": [
        "## Boolean Expressions\n",
        "\n",
        "Remember `boolean` primitive data type ? \n",
        "\n",
        "A boolean `True` or `False` is result of \"logical expression\". \n",
        "\n",
        "### Comparison Operators\n",
        "\n",
        "Evaluation of comparison operators gives you a boolean value.\n",
        "\n",
        "```python\n",
        "print (10.0 >= 5.0) # print True\n",
        "print (10.0 == 5.0) # print False (it means equal)\n",
        "print (10.0 > 5.0)  # print True\n",
        "print (10.0 < 5.0)  # print False\n",
        "print (10.0 <= 5.0) # print False\n",
        "print (10.0 != 5.0) # print True (it means not equal)\n",
        "print ('a' == 'a')  # print True\n",
        "print ('a' != 'b')  # print True\n",
        "a = None\n",
        "b = 5\n",
        "print (a is None)   # print True\n",
        "print (b is not None) # print True\n",
        "```"
      ]
    },
    {
      "cell_type": "code",
      "execution_count": 5,
      "metadata": {
        "id": "ekQHiZxNMpsc",
        "outputId": "5c391c8f-b66f-48a4-c21b-867823aaaec2",
        "colab": {
          "base_uri": "https://localhost:8080/"
        }
      },
      "outputs": [
        {
          "output_type": "stream",
          "name": "stdout",
          "text": [
            "True\n",
            "False\n",
            "True\n",
            "False\n",
            "False\n",
            "True\n",
            "True\n",
            "True\n",
            "True\n",
            "True\n"
          ]
        }
      ],
      "source": [
        "# Try here\n",
        "print (10.0 >= 5.0) # print True\n",
        "print (10.0 == 5.0) # print False (it means equal)\n",
        "print (10.0 > 5.0)  # print True\n",
        "print (10.0 < 5.0)  # print False\n",
        "print (10.0 <= 5.0) # print False\n",
        "print (10.0 != 5.0) # print True (it means not equal)\n",
        "print ('a' == 'a')  # print True\n",
        "print ('a' != 'b')  # print True\n",
        "a = None\n",
        "b = 5\n",
        "print (a is None)   # print True\n",
        "print (b is not None) # print True"
      ]
    },
    {
      "cell_type": "markdown",
      "metadata": {
        "id": "QK9nxP_iMpsd"
      },
      "source": [
        "### Logical Operators\n",
        "\n",
        "Evaluation of logical operators also gives you a boolean value. \n",
        "\n",
        "```python\n",
        "print (True or False) # print True\n",
        "print (not True)      # print False\n",
        "print (not True or False) # print False\n",
        "print (True and 10 > 5) # print True\n",
        "print (not False and True and (10 > 5 or 10 < 5>)) # print True\n",
        "```"
      ]
    },
    {
      "cell_type": "code",
      "execution_count": 7,
      "metadata": {
        "id": "HmYkfSZtMpsd",
        "outputId": "398161c5-a706-4949-d474-00269ee225d7",
        "colab": {
          "base_uri": "https://localhost:8080/"
        }
      },
      "outputs": [
        {
          "output_type": "stream",
          "name": "stdout",
          "text": [
            "True\n",
            "False\n",
            "False\n",
            "True\n",
            "True\n"
          ]
        }
      ],
      "source": [
        "# Try here\n",
        "print (True or False) # print True\n",
        "print (not True)      # print False\n",
        "print (not True or False) # print False\n",
        "print (True and 10 > 5) # print True\n",
        "print (not False and True and (10 > 5 or 10 < 5)) # print True"
      ]
    },
    {
      "cell_type": "markdown",
      "metadata": {
        "id": "CCqU6JPbMpsd"
      },
      "source": [
        "## Anatomy of an if Statement\n",
        "\n",
        "A simple if without an `else`:\n",
        "\n",
        "```python\n",
        "if <boolean expression>:\n",
        "    # statements to run if <boolean expression> evaluates to True\n",
        "    do_this_if_true()\n",
        "    # it can be multi statements\n",
        "    do_this_as_well_if_true()\n",
        "```\n",
        "\n",
        "An if/else statement:\n",
        "\n",
        "```python\n",
        "if <boolean expression>:\n",
        "    # statements to run if <boolean expression> evaluates to True\n",
        "    do_this_if_true()\n",
        "    # it can be multi statements\n",
        "    do_this_as_well_if_true()\n",
        "else:\n",
        "    # statements to run if <boolean expression> evaluates to False\n",
        "    do_this_if_false()\n",
        "    # it can be multi statements\n",
        "    do_this_as_well_if_false()\n",
        "```\n",
        "\n",
        "An if/elif/else statement:\n",
        "\n",
        "```python\n",
        "if <boolean expression 1>:\n",
        "    # statements to run if <boolean expression 1> evaluates to True\n",
        "    do_this_if_exp_1_true()\n",
        "    # it can be multi statements\n",
        "    do_this_as_well_if_exp_1_true()\n",
        "elif <boolean expression 2>:\n",
        "    # statements to run if <boolean expression 1> evaluates to True\n",
        "    do_this_if_exp_2_true()\n",
        "    # it can be multi statements\n",
        "    do_this_as_well_if_exp_2_true()\n",
        "elif <boolean expression 3>:\n",
        "    # so on and so forth\n",
        "else:\n",
        "    # statements to run if <boolean expression> evaluates to False\n",
        "    do_this_if_false()\n",
        "    # it can be multi statements\n",
        "    do_this_as_well_if_false()\n",
        "```"
      ]
    },
    {
      "cell_type": "code",
      "execution_count": 12,
      "metadata": {
        "id": "2v-k70JkMpse",
        "outputId": "fde4a850-b6f8-4e18-e9a4-8d78e8a4140a",
        "colab": {
          "base_uri": "https://localhost:8080/"
        }
      },
      "outputs": [
        {
          "output_type": "stream",
          "name": "stdout",
          "text": [
            "Overwriting lab_control_1.py\n"
          ]
        }
      ],
      "source": [
        "%%writefile lab_control_1.py\n",
        "def add_or_subtract(operator, num_1, num_2):\n",
        "    if operator == '+':\n",
        "        return num_1 + num_2\n",
        "    elif operator == '-':\n",
        "        return num_1 - num_2 # modify this\n",
        "    else:\n",
        "        raise NotImplementedError(\"operator other than '+' and '-' are not implemented.\")\n",
        "    \n",
        "def arithmetic(operator, num_1, num_2):\n",
        "    # implement all arithmetic operators '+', '-', '*' and '/'\n",
        "    # raise NotImplementedError(\"division by zero is undefined.\") if num_2 is zero\n",
        "    if operator == '+':\n",
        "        return num_1 + num_2\n",
        "    elif operator == '-':\n",
        "        return num_1 - num_2 \n",
        "    elif operator == '*':\n",
        "        return num_1 * num_2 \n",
        "    elif operator == '/':\n",
        "        if num_2 == 0:\n",
        "          raise NotImplementedError(\"division by zero!\")\n",
        "        return num_1 / num_2 \n",
        "    else:\n",
        "        raise NotImplementedError(\"operator other than '+' and '-' are not implemented.\")\n",
        "    "
      ]
    },
    {
      "cell_type": "code",
      "execution_count": 13,
      "metadata": {
        "id": "4fi8ZNRCMpse",
        "outputId": "66cf1095-86ca-4dcd-c8d0-ff81173e1395",
        "colab": {
          "base_uri": "https://localhost:8080/"
        }
      },
      "outputs": [
        {
          "output_type": "stream",
          "name": "stdout",
          "text": [
            "\u001b[1m============================= test session starts ==============================\u001b[0m\n",
            "platform linux -- Python 3.7.13, pytest-3.6.4, py-1.11.0, pluggy-0.7.1\n",
            "rootdir: /content/data_science_using_python_labs/week02, inifile:\n",
            "plugins: typeguard-2.7.1\n",
            "\u001b[1m\rcollecting 0 items                                                             \u001b[0m\u001b[1m\rcollecting 3 items                                                             \u001b[0m\u001b[1m\rcollecting 3 items                                                             \u001b[0m\u001b[1m\rcollecting 3 items                                                             \u001b[0m\u001b[1m\rcollected 3 items                                                              \u001b[0m\n",
            "\n",
            "test_control_1.py ...\u001b[36m                                                    [100%]\u001b[0m\n",
            "\n",
            "\u001b[32m\u001b[1m=========================== 3 passed in 0.01 seconds ===========================\u001b[0m\n"
          ]
        }
      ],
      "source": [
        "!pytest test_control_1.py"
      ]
    }
  ],
  "metadata": {
    "interpreter": {
      "hash": "3a9c1e998c7d6d5f29587b2c70e9bd488bb486b902354401efc27ca8457f04e9"
    },
    "kernelspec": {
      "display_name": "Python 3.7.11 ('py37-dsup')",
      "language": "python",
      "name": "python3"
    },
    "language_info": {
      "codemirror_mode": {
        "name": "ipython",
        "version": 3
      },
      "file_extension": ".py",
      "mimetype": "text/x-python",
      "name": "python",
      "nbconvert_exporter": "python",
      "pygments_lexer": "ipython3",
      "version": "3.7.11"
    },
    "orig_nbformat": 4,
    "colab": {
      "name": "04_control_flow_if.ipynb",
      "provenance": []
    }
  },
  "nbformat": 4,
  "nbformat_minor": 0
}